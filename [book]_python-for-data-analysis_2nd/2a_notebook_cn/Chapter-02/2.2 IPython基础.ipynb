{
 "cells": [
  {
   "cell_type": "markdown",
   "metadata": {},
   "source": [
    "# 2.2 IPython基础\n",
    "\n",
    "# 1 Running the IPython Shell （运行IPython Shell）\n",
    "\n",
    "可以通过命令行启动IPython，就像启动标准的Python解释器一样，直接在terminal中键入ipython，回车即可。因为这里我用的是Jupyter Notebook，默认其实就是ipython。所以为了模仿在terminal中打开ipython的场景，前面加了一个！的命令。不过这个命令会让Jupyter Notebook一直处于busy状态，所以没必要真正运行。不过要是运行了的话，可以通过Jupyter中Kernel里的Interrupt来打断。"
   ]
  },
  {
   "cell_type": "code",
   "execution_count": 6,
   "metadata": {
    "ExecuteTime": {
     "end_time": "2020-03-25T06:05:40.479926Z",
     "start_time": "2020-03-25T06:05:28.948980Z"
    }
   },
   "outputs": [
    {
     "name": "stdout",
     "output_type": "stream",
     "text": [
      "Python 3.8.1\n",
      "ipython                   7.13.0           py38h5ca1d4c_0  \n",
      "ipython_genutils          0.2.0                    py38_0  \n",
      "jupyter                   1.0.0                    py38_7  \n",
      "jupyter_client            6.0.0                      py_0  \n",
      "jupyter_console           6.1.0                      py_0  \n",
      "jupyter_contrib_core      0.3.3                      py_2    conda-forge\n",
      "jupyter_core              4.6.1                    py38_0  \n",
      "jupyter_nbextensions_configurator 0.4.1                    py38_0    conda-forge\n",
      "numpy                     1.18.1           py38h7241aed_0  \n",
      "numpy-base                1.18.1           py38h6575580_1  \n",
      "pandas                    1.0.3            py38h6c726b0_0  \n",
      "statsmodels               0.11.0           py38h1de35cc_0  \n",
      "matplotlib                3.1.3                    py38_0  \n",
      "matplotlib-base           3.1.3            py38h9aa3819_0  \n",
      "seaborn                   0.10.0                     py_0  \n",
      "bokeh                     2.0.0                    py38_0  \n"
     ]
    }
   ],
   "source": [
    "# 检查包版本，为 mac miniconda 环境下的命令\n",
    "!python --version\n",
    "!conda list |grep ipython\n",
    "!conda list |grep jupyter\n",
    "!conda list |grep numpy\n",
    "!conda list |grep pandas\n",
    "!conda list |grep statsmodels\n",
    "!conda list |grep matplotlib\n",
    "!conda list |grep seaborn\n",
    "!conda list |grep bokeh"
   ]
  },
  {
   "cell_type": "code",
   "execution_count": 24,
   "metadata": {
    "ExecuteTime": {
     "end_time": "2020-03-25T06:34:16.187087Z",
     "start_time": "2020-03-25T06:33:45.404219Z"
    }
   },
   "outputs": [],
   "source": [
    "import numpy as np\n",
    "import pandas as pd\n",
    "from numpy.random import randn"
   ]
  },
  {
   "cell_type": "code",
   "execution_count": 8,
   "metadata": {
    "ExecuteTime": {
     "end_time": "2020-03-25T06:06:12.814151Z",
     "start_time": "2020-03-25T06:06:12.797135Z"
    }
   },
   "outputs": [
    {
     "data": {
      "text/plain": [
       "{0: -0.8539951985227998,\n",
       " 1: 2.3556860711104095,\n",
       " 2: -0.6440189657565275,\n",
       " 3: 0.8381658320031479,\n",
       " 4: -0.51370706403389,\n",
       " 5: -0.9275285870179331,\n",
       " 6: -0.9732381902918906}"
      ]
     },
     "execution_count": 8,
     "metadata": {},
     "output_type": "execute_result"
    }
   ],
   "source": [
    "data = {i: randn() for i in range(7)}\n",
    "data"
   ]
  },
  {
   "cell_type": "markdown",
   "metadata": {},
   "source": [
    "因为我们用的是ipython，所以上面输出的字典对象可读性很好，每行一个key对应一个value。但如果是在标准的Python解释器里打印上面的字典的话，可读性就会变差了，比如输出会是\n",
    "```\n",
    "{0: -0.6878488995702015, 1: 0.3111764791766575, 2: -0.4951873499757597, 3: 0.1317607911255136, 4: -0.044484140124262925, 5: -1.2855719508755052, 6: -0.2073767192524388}\n",
    "```\n",
    "这样的结果很不方便查看。\n",
    "\n",
    "# 2 Running the Jupyter Notebook（运行Jupyter Notebook）\n",
    "\n",
    "译者：这个系列的所有笔记都是用Jupyter Notebook来写的，这个工具在数据分析方面真得非常好用，建议大家好好学习一个这个工具。书中用了很多图片来说明，这里我就不进行翻译了，直接推荐一些优秀的教程：\n",
    "\n",
    "blog：http://codingpy.com/article/getting-started-with-jupyter-notebook-part-1/\n",
    "\n",
    "如果blog看得不懂的话，推荐墙外的朋友直接上Youtube搜索'Jupyter tutorial'，上面有很多非常棒的视频教程，一步步来总能学会的。如果没法翻墙的话，可以直接在bilibili上搜索'Jupyter notebook'。"
   ]
  },
  {
   "cell_type": "markdown",
   "metadata": {},
   "source": [
    "# 3 Tab Completion（Tab键自动补全）\n",
    "\n",
    "只要按下tab键，当前命名空间中任何与已输入的字符串相匹配的变量（对象，函数）就会被找出来："
   ]
  },
  {
   "cell_type": "code",
   "execution_count": 9,
   "metadata": {
    "ExecuteTime": {
     "end_time": "2020-03-25T06:07:16.303272Z",
     "start_time": "2020-03-25T06:07:16.298848Z"
    }
   },
   "outputs": [],
   "source": [
    "an_apple = 27\n",
    "an_example = 42"
   ]
  },
  {
   "cell_type": "code",
   "execution_count": 11,
   "metadata": {
    "ExecuteTime": {
     "end_time": "2020-03-25T06:08:22.775270Z",
     "start_time": "2020-03-25T06:08:22.767392Z"
    },
    "collapsed": true
   },
   "outputs": [
    {
     "data": {
      "text/plain": [
       "27"
      ]
     },
     "execution_count": 11,
     "metadata": {},
     "output_type": "execute_result"
    }
   ],
   "source": [
    "# 在 an 后面按 <Tab> 会弹出补全选框\n",
    "an<Tab>"
   ]
  },
  {
   "cell_type": "markdown",
   "metadata": {},
   "source": [
    "上面的`<Tab>`不是输入，只是一个按键说明。除了定义的an_apple和an_example外，我们会看到还有Python关键字and和内置函数any。\n",
    "\n",
    "当然，我们也可以在任何对象后面输入一个句点以便自动补全**方法**和**属性**的输入："
   ]
  },
  {
   "cell_type": "code",
   "execution_count": 12,
   "metadata": {
    "ExecuteTime": {
     "end_time": "2020-03-25T06:09:23.446972Z",
     "start_time": "2020-03-25T06:09:23.443013Z"
    }
   },
   "outputs": [],
   "source": [
    "b = [1, 2, 3]"
   ]
  },
  {
   "cell_type": "code",
   "execution_count": null,
   "metadata": {
    "collapsed": true
   },
   "outputs": [],
   "source": [
    "b.<Tab>"
   ]
  },
  {
   "cell_type": "markdown",
   "metadata": {},
   "source": [
    "还可以用在模块上："
   ]
  },
  {
   "cell_type": "code",
   "execution_count": 13,
   "metadata": {
    "ExecuteTime": {
     "end_time": "2020-03-25T06:10:01.791586Z",
     "start_time": "2020-03-25T06:10:01.787959Z"
    }
   },
   "outputs": [],
   "source": [
    "import datetime"
   ]
  },
  {
   "cell_type": "code",
   "execution_count": null,
   "metadata": {
    "collapsed": true
   },
   "outputs": [],
   "source": [
    "datetime.<Tab>"
   ]
  },
  {
   "cell_type": "markdown",
   "metadata": {},
   "source": [
    "除了命名空间，对象或模块属性。还可以输入任何看上去像是文件路径的东西"
   ]
  },
  {
   "cell_type": "code",
   "execution_count": 47,
   "metadata": {
    "ExecuteTime": {
     "end_time": "2020-03-25T07:00:12.463258Z",
     "start_time": "2020-03-25T07:00:12.458896Z"
    }
   },
   "outputs": [],
   "source": [
    "# 对目录结构熟悉的话，这种方式很方便，不用 os.listdir() 查看了\n",
    "path = '../../datasets/'"
   ]
  },
  {
   "cell_type": "markdown",
   "metadata": {},
   "source": [
    "再结合`%run`命令（之后会介绍），该功能可以减少敲击键盘的次数\n",
    "\n",
    "Tab自动补全还可以用于函数关键字参数（包括等号=）"
   ]
  },
  {
   "cell_type": "code",
   "execution_count": 48,
   "metadata": {
    "ExecuteTime": {
     "end_time": "2020-03-25T07:00:45.451493Z",
     "start_time": "2020-03-25T07:00:45.427217Z"
    }
   },
   "outputs": [
    {
     "data": {
      "text/html": [
       "<div>\n",
       "<style scoped>\n",
       "    .dataframe tbody tr th:only-of-type {\n",
       "        vertical-align: middle;\n",
       "    }\n",
       "\n",
       "    .dataframe tbody tr th {\n",
       "        vertical-align: top;\n",
       "    }\n",
       "\n",
       "    .dataframe thead th {\n",
       "        text-align: right;\n",
       "    }\n",
       "</style>\n",
       "<table border=\"1\" class=\"dataframe\">\n",
       "  <thead>\n",
       "    <tr style=\"text-align: right;\">\n",
       "      <th></th>\n",
       "      <th>PassengerId</th>\n",
       "      <th>Pclass</th>\n",
       "      <th>Name</th>\n",
       "      <th>Sex</th>\n",
       "      <th>Age</th>\n",
       "      <th>SibSp</th>\n",
       "      <th>Parch</th>\n",
       "      <th>Ticket</th>\n",
       "      <th>Fare</th>\n",
       "      <th>Cabin</th>\n",
       "      <th>Embarked</th>\n",
       "    </tr>\n",
       "  </thead>\n",
       "  <tbody>\n",
       "    <tr>\n",
       "      <th>0</th>\n",
       "      <td>892</td>\n",
       "      <td>3</td>\n",
       "      <td>Kelly, Mr. James</td>\n",
       "      <td>male</td>\n",
       "      <td>34.5</td>\n",
       "      <td>0</td>\n",
       "      <td>0</td>\n",
       "      <td>330911</td>\n",
       "      <td>7.8292</td>\n",
       "      <td>NaN</td>\n",
       "      <td>Q</td>\n",
       "    </tr>\n",
       "  </tbody>\n",
       "</table>\n",
       "</div>"
      ],
      "text/plain": [
       "   PassengerId  Pclass              Name   Sex   Age  SibSp  Parch  Ticket  \\\n",
       "0          892       3  Kelly, Mr. James  male  34.5      0      0  330911   \n",
       "\n",
       "     Fare Cabin Embarked  \n",
       "0  7.8292   NaN        Q  "
      ]
     },
     "execution_count": 48,
     "metadata": {},
     "output_type": "execute_result"
    }
   ],
   "source": [
    "# 普通方法读入其他目录里的数据\n",
    "import os\n",
    "os.getcwd()\n",
    "# 数据文件在上上层下的datasets下面\n",
    "pd.read_csv(\"../../datasets/titanic/test.csv\").head(1)\n",
    "# 另外可以通过 sys 添加目录到系统目录，测试环境用多了会有些乱，生产环境可以考虑，后续研究\n",
    "#import sys\n",
    "#sys.path.append(\"..\") "
   ]
  },
  {
   "cell_type": "code",
   "execution_count": 50,
   "metadata": {
    "ExecuteTime": {
     "end_time": "2020-03-25T07:01:17.585679Z",
     "start_time": "2020-03-25T07:01:17.555745Z"
    }
   },
   "outputs": [
    {
     "name": "stdout",
     "output_type": "stream",
     "text": [
      "['.DS_Store', 'haiti', 'fec', 'babynames', 'mta_perf', 'bitly_usagov', 'titanic', 'usda_food', 'movielens']\n",
      "['test.csv', 'genderclassmodel.csv', 'train.csv', 'gendermodel.csv']\n"
     ]
    },
    {
     "data": {
      "text/html": [
       "<div>\n",
       "<style scoped>\n",
       "    .dataframe tbody tr th:only-of-type {\n",
       "        vertical-align: middle;\n",
       "    }\n",
       "\n",
       "    .dataframe tbody tr th {\n",
       "        vertical-align: top;\n",
       "    }\n",
       "\n",
       "    .dataframe thead th {\n",
       "        text-align: right;\n",
       "    }\n",
       "</style>\n",
       "<table border=\"1\" class=\"dataframe\">\n",
       "  <thead>\n",
       "    <tr style=\"text-align: right;\">\n",
       "      <th></th>\n",
       "      <th>PassengerId</th>\n",
       "      <th>Pclass</th>\n",
       "      <th>Name</th>\n",
       "      <th>Sex</th>\n",
       "      <th>Age</th>\n",
       "      <th>SibSp</th>\n",
       "      <th>Parch</th>\n",
       "      <th>Ticket</th>\n",
       "      <th>Fare</th>\n",
       "      <th>Cabin</th>\n",
       "      <th>Embarked</th>\n",
       "    </tr>\n",
       "  </thead>\n",
       "  <tbody>\n",
       "    <tr>\n",
       "      <th>0</th>\n",
       "      <td>892</td>\n",
       "      <td>3</td>\n",
       "      <td>Kelly, Mr. James</td>\n",
       "      <td>male</td>\n",
       "      <td>34.5</td>\n",
       "      <td>0</td>\n",
       "      <td>0</td>\n",
       "      <td>330911</td>\n",
       "      <td>7.8292</td>\n",
       "      <td>NaN</td>\n",
       "      <td>Q</td>\n",
       "    </tr>\n",
       "  </tbody>\n",
       "</table>\n",
       "</div>"
      ],
      "text/plain": [
       "   PassengerId  Pclass              Name   Sex   Age  SibSp  Parch  Ticket  \\\n",
       "0          892       3  Kelly, Mr. James  male  34.5      0      0  330911   \n",
       "\n",
       "     Fare Cabin Embarked  \n",
       "0  7.8292   NaN        Q  "
      ]
     },
     "execution_count": 50,
     "metadata": {},
     "output_type": "execute_result"
    }
   ],
   "source": [
    "# 写得规矩点\n",
    "## 确定目录\n",
    "dpath = \"../../datasets\"\n",
    "print(os.listdir(dpath))\n",
    "\n",
    "## 确定数据集\n",
    "fpath = \"/titanic\"\n",
    "print(os.listdir(dpath+fpath))\n",
    "\n",
    "## 确定文件\n",
    "dfile = \"/test.csv\"\n",
    "\n",
    "## 读入文件\n",
    "df = pd.read_csv(dpath+fpath+dfile)\n",
    "df.head(1)"
   ]
  },
  {
   "cell_type": "markdown",
   "metadata": {},
   "source": [
    "# 4 Introspection（内省）\n",
    "\n",
    "在变量的前面或后面加上一个问号`?`，就可以讲有关该对象的一些通用信息显示出来："
   ]
  },
  {
   "cell_type": "code",
   "execution_count": 51,
   "metadata": {
    "ExecuteTime": {
     "end_time": "2020-03-25T07:01:23.700599Z",
     "start_time": "2020-03-25T07:01:23.694526Z"
    }
   },
   "outputs": [],
   "source": [
    "b?"
   ]
  },
  {
   "cell_type": "markdown",
   "metadata": {},
   "source": [
    "这个功能叫做对象内省（object introspection)。如果该对象是一个函数或实例方法，则其docstring也会被显示出来："
   ]
  },
  {
   "cell_type": "code",
   "execution_count": 52,
   "metadata": {
    "ExecuteTime": {
     "end_time": "2020-03-25T07:01:31.673071Z",
     "start_time": "2020-03-25T07:01:31.668470Z"
    }
   },
   "outputs": [],
   "source": [
    "def add_number(a, b):\n",
    "    \"\"\"\n",
    "    Add two nummbers together\n",
    "    \n",
    "    Return\n",
    "    ------\n",
    "    the_sum: type of arguments\n",
    "    \"\"\"\n",
    "    return a + b"
   ]
  },
  {
   "cell_type": "markdown",
   "metadata": {},
   "source": [
    "然后利用？来显示上面函数中的docstring："
   ]
  },
  {
   "cell_type": "code",
   "execution_count": 54,
   "metadata": {
    "ExecuteTime": {
     "end_time": "2020-03-25T07:01:56.188765Z",
     "start_time": "2020-03-25T07:01:56.182643Z"
    }
   },
   "outputs": [],
   "source": [
    "add_number?"
   ]
  },
  {
   "cell_type": "markdown",
   "metadata": {},
   "source": [
    "使用？？还能显示出该函数的源代码："
   ]
  },
  {
   "cell_type": "code",
   "execution_count": 55,
   "metadata": {
    "ExecuteTime": {
     "end_time": "2020-03-25T07:02:01.532039Z",
     "start_time": "2020-03-25T07:02:01.521492Z"
    }
   },
   "outputs": [],
   "source": [
    "add_number??"
   ]
  },
  {
   "cell_type": "markdown",
   "metadata": {},
   "source": [
    "?还有一个用法，即搜索IPython命名空间。一个写字符再配以通配符`*`，即可显示出所有与该通配符表达式相匹配的名称。\n",
    "\n",
    "例如，我们可以留出Numpy顶级命名空间中含有“load”的所有函数："
   ]
  },
  {
   "cell_type": "code",
   "execution_count": 56,
   "metadata": {
    "ExecuteTime": {
     "end_time": "2020-03-25T07:02:20.059244Z",
     "start_time": "2020-03-25T07:02:20.010328Z"
    }
   },
   "outputs": [],
   "source": [
    "np.*load*?"
   ]
  },
  {
   "cell_type": "markdown",
   "metadata": {},
   "source": [
    "# 5 The %run Command (%run命令）"
   ]
  },
  {
   "cell_type": "markdown",
   "metadata": {},
   "source": [
    "在IPython会话环境中，所有文件都可以通过%run命令当做Python程序来运行。假设我们在ipython_script_test.py中写了一段简单的脚本，如下："
   ]
  },
  {
   "cell_type": "code",
   "execution_count": 57,
   "metadata": {
    "ExecuteTime": {
     "end_time": "2020-03-25T07:02:36.634948Z",
     "start_time": "2020-03-25T07:02:36.628154Z"
    }
   },
   "outputs": [],
   "source": [
    "def f(x, y, z):\n",
    "    return (x + y) / z\n",
    "\n",
    "a = 5\n",
    "b = 6\n",
    "c = 7.5\n",
    "\n",
    "result = f(a, b, c)"
   ]
  },
  {
   "cell_type": "markdown",
   "metadata": {},
   "source": [
    "只要将文件名传给%run就可以运行了："
   ]
  },
  {
   "cell_type": "code",
   "execution_count": 58,
   "metadata": {
    "ExecuteTime": {
     "end_time": "2020-03-25T07:03:07.617730Z",
     "start_time": "2020-03-25T07:03:07.610014Z"
    },
    "collapsed": true
   },
   "outputs": [
    {
     "name": "stderr",
     "output_type": "stream",
     "text": [
      "ERROR:root:File `'ipython_script_test.py'` not found.\n"
     ]
    }
   ],
   "source": [
    "%run ipython_script_test.py\n",
    "# 这里假设ipython_script_test.py在当前路径"
   ]
  },
  {
   "cell_type": "markdown",
   "metadata": {},
   "source": [
    "执行之后，ipython_script_test.py文件中的所有变量也都可以直接访问了"
   ]
  },
  {
   "cell_type": "code",
   "execution_count": 61,
   "metadata": {
    "ExecuteTime": {
     "end_time": "2020-03-25T07:03:56.206911Z",
     "start_time": "2020-03-25T07:03:56.199679Z"
    }
   },
   "outputs": [
    {
     "data": {
      "text/plain": [
       "7.5"
      ]
     },
     "execution_count": 61,
     "metadata": {},
     "output_type": "execute_result"
    }
   ],
   "source": [
    "c"
   ]
  },
  {
   "cell_type": "code",
   "execution_count": 62,
   "metadata": {
    "ExecuteTime": {
     "end_time": "2020-03-25T07:04:08.082753Z",
     "start_time": "2020-03-25T07:04:08.076543Z"
    }
   },
   "outputs": [
    {
     "data": {
      "text/plain": [
       "1.4666666666666666"
      ]
     },
     "execution_count": 62,
     "metadata": {},
     "output_type": "execute_result"
    }
   ],
   "source": [
    "result"
   ]
  },
  {
   "cell_type": "markdown",
   "metadata": {},
   "source": [
    "如果Python脚本需要用到命令行参数（通过sys.argv访问），可以将参数放到文件路径的后面，就像在命令行上执行那样。\n",
    "\n",
    "### Interrupting running code （中断正在执行的代码)\n",
    "\n",
    "任何代码在执行时，只要按下“Ctrl-C”，就会应发一个KeyboardInterrupt。绝大部分情况下，python程序都将立即停止执行。\n",
    "\n",
    "# 6 Executing Code from the Clipboard （执行剪贴板中的代码)\n",
    "\n",
    "在IPython中执行代码最简单的方式是粘贴剪贴板中的代码。比如我们希望一段一段地执行脚本，以便查看各个阶段所加载的数据以及产生的结果。\n",
    "\n",
    "多数情况下，我们能用“Ctrl-Shift-V”讲剪贴板中的代码片段粘贴出来。但这不是万能的。因为这种粘贴方式模拟的是在IPython中逐行输入代码，换行符会被处理成`<return>`，也就是说，如果代码中有所进，且有空行，IPython会认为缩进在空行哪里结束了。当执行到缩进块后面的代码时，会引发一个IndentationError。例如下面这段代码："
   ]
  },
  {
   "cell_type": "code",
   "execution_count": 63,
   "metadata": {
    "ExecuteTime": {
     "end_time": "2020-03-25T07:04:36.900516Z",
     "start_time": "2020-03-25T07:04:36.895789Z"
    }
   },
   "outputs": [],
   "source": [
    "x = 5\n",
    "y = 7\n",
    "if x > 5:\n",
    "    x += 1\n",
    "    \n",
    "    y = 8"
   ]
  },
  {
   "cell_type": "markdown",
   "metadata": {},
   "source": [
    "直接粘贴是不行的。（具体的效果大家可以打开terminal，直接试一下。不过这里因为版本的缘故，不会出现书中的错误提示）但我们可以利用%paste和%cpaste这两个魔术函数。%paste可以承载剪贴板中的一切文本，并在shell中以整体形势执行。这里要注意一点，先把复制代码，然后在terminal中输入%paste回车。这个命令会自动执行剪贴板上复制的内容。\n",
    "\n",
    "%cpaste和%paste差不多，只不过它多出一个用于粘贴代码的特殊提示符而已。建议一直使用%cpaste，因为你可以自己决定是否执行代码，想粘贴多少粘贴多少。\n",
    "\n",
    "（此处原文档的图像链接失效，删除了）\n",
    "\n",
    "## IPython、编辑器、IDE之间的交互\n",
    "\n",
    "书中说到了PyDev plugin for Eclipse和Python Tools for Visual Studio，都继承了IPython终端应用程序。这里译者只推荐PyCharm，非常强大且易用的IDE。\n",
    "\n",
    "# 7 Terminal Keyboard Shortcuts（terminal键盘快捷键）\n",
    "\n",
    "这里我直接贴出来书中的讲解。因为我的terminal集成了tmux，一些快捷键和IPython有冲突，所以快捷键我并没有怎么用到。\n",
    "\n",
    "![快捷键](https://ws3.sinaimg.cn/large/006tKfTcgy1fkqy42b68sj30j50hgwil.jpg)\n",
    "\n",
    "如果对于tmux感兴趣的话，可以看我写的另一个教程，集成了tmux后的terminal会变得更易用：[tmux简洁教程及config关键配置](http://www.jianshu.com/p/fd3bbdba9dc9)\n",
    "\n",
    "\n",
    "## 异常和跟踪\n",
    "\n",
    "如果%run某段脚本或执行某条语句时发生了异常，IPython默认会输出整个调用栈跟踪（traceback），其中还会富商调用栈个点附近的几行代码作为上下文参考。\n",
    "\n",
    "# 7 About Magic Commands（关于魔术命令)\n",
    "\n",
    "Magic Command，这些命令能提供便利。这些命令是以%为前缀的。例如，可以通过%timeit这个magic command来检测任意python语句的执行时间："
   ]
  },
  {
   "cell_type": "code",
   "execution_count": 64,
   "metadata": {
    "ExecuteTime": {
     "end_time": "2020-03-25T07:07:04.954942Z",
     "start_time": "2020-03-25T07:07:04.950539Z"
    }
   },
   "outputs": [],
   "source": [
    "a = np.random.randn(100, 100)"
   ]
  },
  {
   "cell_type": "code",
   "execution_count": 68,
   "metadata": {
    "ExecuteTime": {
     "end_time": "2020-03-25T07:08:45.035388Z",
     "start_time": "2020-03-25T07:08:41.263479Z"
    }
   },
   "outputs": [
    {
     "name": "stdout",
     "output_type": "stream",
     "text": [
      "CPU times: user 508 µs, sys: 132 µs, total: 640 µs\n",
      "Wall time: 1.43 ms\n",
      "46.2 µs ± 5.2 µs per loop (mean ± std. dev. of 7 runs, 10000 loops each)\n"
     ]
    }
   ],
   "source": [
    "# time是执行一遍，timeit是执行10000遍，取平均值\n",
    "%time np.dot(a, a)\n",
    "%timeit np.dot(a, a)"
   ]
  },
  {
   "cell_type": "code",
   "execution_count": 70,
   "metadata": {
    "ExecuteTime": {
     "end_time": "2020-03-25T07:09:26.589793Z",
     "start_time": "2020-03-25T07:09:26.585549Z"
    }
   },
   "outputs": [],
   "source": [
    "# magic command 一样可以用？调出docstring\n",
    "%reset?"
   ]
  },
  {
   "cell_type": "markdown",
   "metadata": {},
   "source": [
    "魔术命令默认是可以不带百分号使用的，只要没有定义与其同名的变量即可。这个技术叫做automagic,可以通过%automagic打开或关闭。这里列几个比较重要的magic command （图丢失）\n",
    "\n",
    "# 8 Matplotlib Integration（Matplotlib整合）\n",
    "\n",
    "其实上面我们也用到了，通过使用magic command `%matplotlib`能够直接在jupyter中画图。"
   ]
  },
  {
   "cell_type": "code",
   "execution_count": 71,
   "metadata": {
    "ExecuteTime": {
     "end_time": "2020-03-25T07:10:39.231389Z",
     "start_time": "2020-03-25T07:10:35.308101Z"
    }
   },
   "outputs": [],
   "source": [
    "# 下面这行执行后才会在 notebook 中出图\n",
    "%matplotlib inline\n",
    "import matplotlib.pyplot as plt"
   ]
  },
  {
   "cell_type": "code",
   "execution_count": 72,
   "metadata": {
    "ExecuteTime": {
     "end_time": "2020-03-25T07:10:43.284640Z",
     "start_time": "2020-03-25T07:10:42.807699Z"
    }
   },
   "outputs": [
    {
     "data": {
      "image/png": "[encoded data removed]",
      "text/plain": [
       "<Figure size 432x288 with 1 Axes>"
      ]
     },
     "metadata": {
      "needs_background": "light"
     },
     "output_type": "display_data"
    }
   ],
   "source": [
    "# 加了分号就屏蔽输出文字小结\n",
    "plt.plot(np.random.randn(50).cumsum());"
   ]
  },
  {
   "cell_type": "code",
   "execution_count": null,
   "metadata": {},
   "outputs": [],
   "source": []
  }
 ],
 "metadata": {
  "anaconda-cloud": {},
  "kernelspec": {
   "display_name": "Python 3",
   "language": "python",
   "name": "python3"
  },
  "language_info": {
   "codemirror_mode": {
    "name": "ipython",
    "version": 3
   },
   "file_extension": ".py",
   "mimetype": "text/x-python",
   "name": "python",
   "nbconvert_exporter": "python",
   "pygments_lexer": "ipython3",
   "version": "3.8.1"
  },
  "toc": {
   "base_numbering": 1,
   "nav_menu": {},
   "number_sections": true,
   "sideBar": true,
   "skip_h1_title": false,
   "title_cell": "Table of Contents",
   "title_sidebar": "Contents",
   "toc_cell": false,
   "toc_position": {},
   "toc_section_display": true,
   "toc_window_display": false
  }
 },
 "nbformat": 4,
 "nbformat_minor": 1
}
