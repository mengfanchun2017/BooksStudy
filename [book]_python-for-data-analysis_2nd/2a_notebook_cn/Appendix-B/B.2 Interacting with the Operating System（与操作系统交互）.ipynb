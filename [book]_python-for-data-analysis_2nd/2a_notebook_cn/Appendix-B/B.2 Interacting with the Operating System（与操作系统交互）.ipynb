{
 "cells": [
  {
   "cell_type": "markdown",
   "metadata": {},
   "source": [
    "# B.2 Interacting with the Operating System（与操作系统交互）\n",
    "\n",
    "我们可以通过ipython与OS进行交互，下面是一些命令：\n",
    "\n",
    "![](http://oydgk2hgw.bkt.clouddn.com/pydata-book/57j1i.png)\n",
    "\n",
    "![](http://oydgk2hgw.bkt.clouddn.com/pydata-book/0ca2x.png)\n",
    "\n",
    "# 1 Shell Commands and Aliases（shell命令和别名）\n",
    "\n",
    "感叹号`!`会告诉ipython执行感叹号之后的命令，我们可以利用这个进行rm或del这样的操作。\n",
    "\n",
    "我们也可以利用`!`把输出的内容保存为一个变量。比如在linux系统下，我们可以得到IP address：\n",
    "\n",
    "\n",
    "![](http://oydgk2hgw.bkt.clouddn.com/pydata-book/afb7u.png)\n",
    "\n",
    "返回的`ip_info`是一个python对象，它是一个自定义的list，包含了输出的多个版本。\n",
    "\n",
    "使用`!`，IPython也可以替换当前环境中定义的Python值。这样的话需要在变量名之前加一个美元符号`$`:"
   ]
  },
  {
   "cell_type": "code",
   "execution_count": 1,
   "metadata": {
    "ExecuteTime": {
     "end_time": "2020-03-31T12:48:47.087878Z",
     "start_time": "2020-03-31T12:48:47.083588Z"
    }
   },
   "outputs": [],
   "source": [
    "foo = '../Chapter-01*'"
   ]
  },
  {
   "cell_type": "code",
   "execution_count": 2,
   "metadata": {
    "ExecuteTime": {
     "end_time": "2020-03-31T12:48:48.576564Z",
     "start_time": "2020-03-31T12:48:48.424850Z"
    }
   },
   "outputs": [
    {
     "name": "stdout",
     "output_type": "stream",
     "text": [
      "\u001b[31m1.1 What Is This Book About（这本书是关于什么的）.ipynb\u001b[m\u001b[m\r\n",
      "\u001b[31m1.2 Why Python for Data Analysis（为什么使用Python做数据分析）.ipynb\u001b[m\u001b[m\r\n",
      "\u001b[31m1.3 Essential Python Libraries（一些重要的Python库）.ipynb\u001b[m\u001b[m\r\n",
      "\u001b[31m1.4 Installation and Setup（安装和设置）.ipynb\u001b[m\u001b[m\r\n",
      "\u001b[31m1.5 Community and Conferences（社区和讨论组）+ 私货.ipynb\u001b[m\u001b[m\r\n",
      "\u001b[31m1.6 Navigating This Book（本书导航）.ipynb\u001b[m\u001b[m\r\n"
     ]
    }
   ],
   "source": [
    "!ls $foo"
   ]
  },
  {
   "cell_type": "markdown",
   "metadata": {},
   "source": [
    "`%alias`魔法函数能自己定义快捷键。比如："
   ]
  },
  {
   "cell_type": "code",
   "execution_count": 3,
   "metadata": {
    "ExecuteTime": {
     "end_time": "2020-03-31T12:49:23.333998Z",
     "start_time": "2020-03-31T12:49:23.328585Z"
    }
   },
   "outputs": [],
   "source": [
    "%alias ll ls -l"
   ]
  },
  {
   "cell_type": "code",
   "execution_count": 4,
   "metadata": {
    "ExecuteTime": {
     "end_time": "2020-03-31T12:49:23.933752Z",
     "start_time": "2020-03-31T12:49:23.797971Z"
    }
   },
   "outputs": [
    {
     "name": "stdout",
     "output_type": "stream",
     "text": [
      "total 0\r\n",
      "lrwxr-xr-x     1 root  wheel     25 10  8 19:14 \u001b[35mX11\u001b[m\u001b[m -> ../private/var/select/X11\r\n",
      "lrwxr-xr-x     1 root  wheel     25 10  8 19:14 \u001b[35mX11R6\u001b[m\u001b[m -> ../private/var/select/X11\r\n",
      "drwxr-xr-x  1014 root  wheel  32448  2 16 10:17 \u001b[34mbin\u001b[m\u001b[m\r\n",
      "drwxr-xr-x   311 root  wheel   9952  2 16 10:21 \u001b[34mlib\u001b[m\u001b[m\r\n",
      "drwxr-xr-x   262 root  wheel   8384  2 16 10:17 \u001b[34mlibexec\u001b[m\u001b[m\r\n",
      "drwxr-xr-x    13 root  wheel    416  2 16 10:21 \u001b[34mlocal\u001b[m\u001b[m\r\n",
      "drwxr-xr-x   234 root  wheel   7488  2 16 10:17 \u001b[34msbin\u001b[m\u001b[m\r\n",
      "drwxr-xr-x    46 root  wheel   1472 10  8 19:30 \u001b[34mshare\u001b[m\u001b[m\r\n",
      "drwxr-xr-x     5 root  wheel    160  9 30  2019 \u001b[34mstandalone\u001b[m\u001b[m\r\n"
     ]
    }
   ],
   "source": [
    "ll /usr"
   ]
  },
  {
   "cell_type": "code",
   "execution_count": 5,
   "metadata": {
    "ExecuteTime": {
     "end_time": "2020-03-31T12:49:24.518232Z",
     "start_time": "2020-03-31T12:49:24.509023Z"
    }
   },
   "outputs": [],
   "source": [
    "%alias test_alias (cd ..; ls; cd Appendix-B)"
   ]
  },
  {
   "cell_type": "code",
   "execution_count": 6,
   "metadata": {
    "ExecuteTime": {
     "end_time": "2020-03-31T12:49:25.401671Z",
     "start_time": "2020-03-31T12:49:25.264911Z"
    }
   },
   "outputs": [
    {
     "name": "stdout",
     "output_type": "stream",
     "text": [
      "\u001b[34mAppendix-A\u001b[m\u001b[m            \u001b[34mChapter-05\u001b[m\u001b[m            \u001b[34mChapter-11\u001b[m\u001b[m\r\n",
      "\u001b[34mAppendix-B\u001b[m\u001b[m            \u001b[34mChapter-06\u001b[m\u001b[m            \u001b[34mChapter-12\u001b[m\u001b[m\r\n",
      "\u001b[34mChapter-01\u001b[m\u001b[m            \u001b[34mChapter-07\u001b[m\u001b[m            \u001b[34mChapter-13\u001b[m\u001b[m\r\n",
      "\u001b[34mChapter-02\u001b[m\u001b[m            \u001b[34mChapter-08\u001b[m\u001b[m            \u001b[34mChapter-14\u001b[m\u001b[m\r\n",
      "\u001b[34mChapter-03\u001b[m\u001b[m            \u001b[34mChapter-09\u001b[m\u001b[m            \u001b[31mREADME_nootbook_cn.md\u001b[m\u001b[m\r\n",
      "\u001b[34mChapter-04\u001b[m\u001b[m            \u001b[34mChapter-10\u001b[m\u001b[m\r\n"
     ]
    }
   ],
   "source": [
    "test_alias"
   ]
  },
  {
   "cell_type": "markdown",
   "metadata": {},
   "source": [
    "一旦会话结束，这些自定义的别名会消失。如果想要永久创建别名的话，需要在设置文件里进行更改。\n",
    "\n",
    "> 译者：比如我使用的zsh，可以直接在.zshrc文件里设置别名。\n",
    "\n",
    "# 2 Directory Bookmark System（目录书签系统）\n",
    "\n",
    "ipython有一个简单的目录书签系统，可以让我们对目录地址保存别名后，快速进行跳转："
   ]
  },
  {
   "cell_type": "code",
   "execution_count": 7,
   "metadata": {
    "ExecuteTime": {
     "end_time": "2020-03-31T12:49:46.401924Z",
     "start_time": "2020-03-31T12:49:46.386101Z"
    }
   },
   "outputs": [],
   "source": [
    "%bookmark chp1 ../Chapter-01/"
   ]
  },
  {
   "cell_type": "markdown",
   "metadata": {},
   "source": [
    "然后使用cd来利用书签："
   ]
  },
  {
   "cell_type": "code",
   "execution_count": 8,
   "metadata": {
    "ExecuteTime": {
     "end_time": "2020-03-31T12:49:47.953588Z",
     "start_time": "2020-03-31T12:49:47.944303Z"
    }
   },
   "outputs": [
    {
     "name": "stdout",
     "output_type": "stream",
     "text": [
      "(bookmark:chp1) -> ../Chapter-01/\n",
      "/Users/francis/git/action/[book]_python-for-data-analysis_2nd/2a_notebook_cn/Chapter-01\n"
     ]
    }
   ],
   "source": [
    "cd chp1"
   ]
  },
  {
   "cell_type": "markdown",
   "metadata": {},
   "source": [
    "如果命名上有冲突的话，可以使用`-b`来覆盖。可以使用`-l`来列出所有的bookmarks："
   ]
  },
  {
   "cell_type": "code",
   "execution_count": 9,
   "metadata": {
    "ExecuteTime": {
     "end_time": "2020-03-31T12:49:50.661782Z",
     "start_time": "2020-03-31T12:49:50.652417Z"
    }
   },
   "outputs": [
    {
     "name": "stdout",
     "output_type": "stream",
     "text": [
      "Current bookmarks:\n",
      "chp1 -> ../Chapter-01/\n"
     ]
    }
   ],
   "source": [
    "%bookmark -l"
   ]
  },
  {
   "cell_type": "markdown",
   "metadata": {},
   "source": [
    "与aliase不同的是，bookmarks可以在不同的ipython会话中使用。"
   ]
  },
  {
   "cell_type": "code",
   "execution_count": null,
   "metadata": {},
   "outputs": [],
   "source": []
  }
 ],
 "metadata": {
  "kernelspec": {
   "display_name": "Python 3",
   "language": "python",
   "name": "python3"
  },
  "language_info": {
   "codemirror_mode": {
    "name": "ipython",
    "version": 3
   },
   "file_extension": ".py",
   "mimetype": "text/x-python",
   "name": "python",
   "nbconvert_exporter": "python",
   "pygments_lexer": "ipython3",
   "version": "3.8.1"
  },
  "toc": {
   "base_numbering": 1,
   "nav_menu": {},
   "number_sections": true,
   "sideBar": true,
   "skip_h1_title": false,
   "title_cell": "Table of Contents",
   "title_sidebar": "Contents",
   "toc_cell": false,
   "toc_position": {},
   "toc_section_display": true,
   "toc_window_display": false
  }
 },
 "nbformat": 4,
 "nbformat_minor": 1
}
