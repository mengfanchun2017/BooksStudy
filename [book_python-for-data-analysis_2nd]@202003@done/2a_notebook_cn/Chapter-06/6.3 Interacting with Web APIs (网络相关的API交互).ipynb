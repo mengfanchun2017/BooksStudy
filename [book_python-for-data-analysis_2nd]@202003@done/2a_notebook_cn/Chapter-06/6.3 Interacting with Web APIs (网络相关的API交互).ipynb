{
 "cells": [
  {
   "cell_type": "markdown",
   "metadata": {},
   "source": [
    "# 6.3 Interacting with Web APIs (网络相关的API交互)\n",
    "\n",
    "很多网站都有公开的API，通过JSON等格式提供数据流。有很多方法可以访问这些API，这里推荐一个易用的requests包。\n",
    "\n",
    "找到github里pandas最新的30个issues，制作一个GET HTTP request, 通过使用requests包："
   ]
  },
  {
   "cell_type": "code",
   "execution_count": 1,
   "metadata": {
    "ExecuteTime": {
     "end_time": "2020-03-30T01:20:35.026566Z",
     "start_time": "2020-03-30T01:20:34.373753Z"
    }
   },
   "outputs": [],
   "source": [
    "import pandas as pd\n",
    "import numpy as np"
   ]
  },
  {
   "cell_type": "code",
   "execution_count": 2,
   "metadata": {
    "ExecuteTime": {
     "end_time": "2020-03-30T01:20:36.900082Z",
     "start_time": "2020-03-30T01:20:35.068981Z"
    }
   },
   "outputs": [],
   "source": [
    "import requests"
   ]
  },
  {
   "cell_type": "code",
   "execution_count": 3,
   "metadata": {
    "ExecuteTime": {
     "end_time": "2020-03-30T01:20:37.447942Z",
     "start_time": "2020-03-30T01:20:37.443577Z"
    }
   },
   "outputs": [],
   "source": [
    "url = 'https://api.github.com/repos/pandas-dev/pandas/issues'"
   ]
  },
  {
   "cell_type": "code",
   "execution_count": 4,
   "metadata": {
    "ExecuteTime": {
     "end_time": "2020-03-30T01:20:41.051365Z",
     "start_time": "2020-03-30T01:20:38.683146Z"
    }
   },
   "outputs": [],
   "source": [
    "resp = requests.get(url)"
   ]
  },
  {
   "cell_type": "code",
   "execution_count": 5,
   "metadata": {
    "ExecuteTime": {
     "end_time": "2020-03-30T01:20:41.070095Z",
     "start_time": "2020-03-30T01:20:41.054255Z"
    }
   },
   "outputs": [
    {
     "data": {
      "text/plain": [
       "<Response [200]>"
      ]
     },
     "execution_count": 5,
     "metadata": {},
     "output_type": "execute_result"
    }
   ],
   "source": [
    "resp"
   ]
  },
  {
   "cell_type": "markdown",
   "metadata": {},
   "source": [
    "response的json方法能返回一个dict，包含可以解析为python object的JSON："
   ]
  },
  {
   "cell_type": "code",
   "execution_count": 6,
   "metadata": {
    "ExecuteTime": {
     "end_time": "2020-03-30T01:20:48.860295Z",
     "start_time": "2020-03-30T01:20:48.849290Z"
    }
   },
   "outputs": [
    {
     "data": {
      "text/plain": [
       "'BUG: Fix SeriesGroupBy.quantile for nullable integers'"
      ]
     },
     "execution_count": 6,
     "metadata": {},
     "output_type": "execute_result"
    }
   ],
   "source": [
    "data = resp.json()\n",
    "data[0]['title']"
   ]
  },
  {
   "cell_type": "code",
   "execution_count": 7,
   "metadata": {
    "ExecuteTime": {
     "end_time": "2020-03-30T01:20:55.880680Z",
     "start_time": "2020-03-30T01:20:55.870043Z"
    }
   },
   "outputs": [
    {
     "data": {
      "text/plain": [
       "{'url': 'https://api.github.com/repos/pandas-dev/pandas/issues/33138',\n",
       " 'repository_url': 'https://api.github.com/repos/pandas-dev/pandas',\n",
       " 'labels_url': 'https://api.github.com/repos/pandas-dev/pandas/issues/33138/labels{/name}',\n",
       " 'comments_url': 'https://api.github.com/repos/pandas-dev/pandas/issues/33138/comments',\n",
       " 'events_url': 'https://api.github.com/repos/pandas-dev/pandas/issues/33138/events',\n",
       " 'html_url': 'https://github.com/pandas-dev/pandas/pull/33138',\n",
       " 'id': 589924959,\n",
       " 'node_id': 'MDExOlB1bGxSZXF1ZXN0Mzk1MzUxMDMz',\n",
       " 'number': 33138,\n",
       " 'title': 'BUG: Fix SeriesGroupBy.quantile for nullable integers',\n",
       " 'user': {'login': 'dsaxton',\n",
       "  'id': 2658661,\n",
       "  'node_id': 'MDQ6VXNlcjI2NTg2NjE=',\n",
       "  'avatar_url': 'https://avatars0.githubusercontent.com/u/2658661?v=4',\n",
       "  'gravatar_id': '',\n",
       "  'url': 'https://api.github.com/users/dsaxton',\n",
       "  'html_url': 'https://github.com/dsaxton',\n",
       "  'followers_url': 'https://api.github.com/users/dsaxton/followers',\n",
       "  'following_url': 'https://api.github.com/users/dsaxton/following{/other_user}',\n",
       "  'gists_url': 'https://api.github.com/users/dsaxton/gists{/gist_id}',\n",
       "  'starred_url': 'https://api.github.com/users/dsaxton/starred{/owner}{/repo}',\n",
       "  'subscriptions_url': 'https://api.github.com/users/dsaxton/subscriptions',\n",
       "  'organizations_url': 'https://api.github.com/users/dsaxton/orgs',\n",
       "  'repos_url': 'https://api.github.com/users/dsaxton/repos',\n",
       "  'events_url': 'https://api.github.com/users/dsaxton/events{/privacy}',\n",
       "  'received_events_url': 'https://api.github.com/users/dsaxton/received_events',\n",
       "  'type': 'User',\n",
       "  'site_admin': False},\n",
       " 'labels': [],\n",
       " 'state': 'open',\n",
       " 'locked': False,\n",
       " 'assignee': None,\n",
       " 'assignees': [],\n",
       " 'milestone': None,\n",
       " 'comments': 0,\n",
       " 'created_at': '2020-03-30T00:46:21Z',\n",
       " 'updated_at': '2020-03-30T00:46:21Z',\n",
       " 'closed_at': None,\n",
       " 'author_association': 'CONTRIBUTOR',\n",
       " 'pull_request': {'url': 'https://api.github.com/repos/pandas-dev/pandas/pulls/33138',\n",
       "  'html_url': 'https://github.com/pandas-dev/pandas/pull/33138',\n",
       "  'diff_url': 'https://github.com/pandas-dev/pandas/pull/33138.diff',\n",
       "  'patch_url': 'https://github.com/pandas-dev/pandas/pull/33138.patch'},\n",
       " 'body': '- [ ] closes #33136\\r\\n- [ ] tests added / passed\\r\\n- [ ] passes `black pandas`\\r\\n- [ ] passes `git diff upstream/master -u -- \"*.py\" | flake8 --diff`\\r\\n- [ ] whatsnew entry\\r\\n'}"
      ]
     },
     "execution_count": 7,
     "metadata": {},
     "output_type": "execute_result"
    }
   ],
   "source": [
    "data[0]"
   ]
  },
  {
   "cell_type": "markdown",
   "metadata": {},
   "source": [
    "data中的每一个元素都是一个dict，这个dict就是在github上找到的issue页面上的信息。我们可以把data传给DataFrame并提取感兴趣的部分："
   ]
  },
  {
   "cell_type": "code",
   "execution_count": 8,
   "metadata": {
    "ExecuteTime": {
     "end_time": "2020-03-30T01:21:37.677911Z",
     "start_time": "2020-03-30T01:21:37.631900Z"
    }
   },
   "outputs": [
    {
     "data": {
      "text/html": [
       "<div>\n",
       "<style scoped>\n",
       "    .dataframe tbody tr th:only-of-type {\n",
       "        vertical-align: middle;\n",
       "    }\n",
       "\n",
       "    .dataframe tbody tr th {\n",
       "        vertical-align: top;\n",
       "    }\n",
       "\n",
       "    .dataframe thead th {\n",
       "        text-align: right;\n",
       "    }\n",
       "</style>\n",
       "<table border=\"1\" class=\"dataframe\">\n",
       "  <thead>\n",
       "    <tr style=\"text-align: right;\">\n",
       "      <th></th>\n",
       "      <th>number</th>\n",
       "      <th>title</th>\n",
       "      <th>labels</th>\n",
       "      <th>state</th>\n",
       "    </tr>\n",
       "  </thead>\n",
       "  <tbody>\n",
       "    <tr>\n",
       "      <th>0</th>\n",
       "      <td>33138</td>\n",
       "      <td>BUG: Fix SeriesGroupBy.quantile for nullable i...</td>\n",
       "      <td>[]</td>\n",
       "      <td>open</td>\n",
       "    </tr>\n",
       "    <tr>\n",
       "      <th>1</th>\n",
       "      <td>33137</td>\n",
       "      <td>BUG: DataFrame.resample raised AmbiguousTimeEr...</td>\n",
       "      <td>[{'id': 76811, 'node_id': 'MDU6TGFiZWw3NjgxMQ=...</td>\n",
       "      <td>open</td>\n",
       "    </tr>\n",
       "    <tr>\n",
       "      <th>2</th>\n",
       "      <td>33136</td>\n",
       "      <td>SeriesGroupBy.quantile doesn't work for nullab...</td>\n",
       "      <td>[]</td>\n",
       "      <td>open</td>\n",
       "    </tr>\n",
       "    <tr>\n",
       "      <th>3</th>\n",
       "      <td>33135</td>\n",
       "      <td>BUG: fix ngroups and len(groups) inconsistency...</td>\n",
       "      <td>[]</td>\n",
       "      <td>open</td>\n",
       "    </tr>\n",
       "    <tr>\n",
       "      <th>4</th>\n",
       "      <td>33134</td>\n",
       "      <td>BUG: create new MI from MultiIndex._get_level_...</td>\n",
       "      <td>[]</td>\n",
       "      <td>open</td>\n",
       "    </tr>\n",
       "    <tr>\n",
       "      <th>5</th>\n",
       "      <td>33133</td>\n",
       "      <td>BUG: to_datetime with infer_datetime_format dr...</td>\n",
       "      <td>[{'id': 76811, 'node_id': 'MDU6TGFiZWw3NjgxMQ=...</td>\n",
       "      <td>open</td>\n",
       "    </tr>\n",
       "    <tr>\n",
       "      <th>6</th>\n",
       "      <td>33132</td>\n",
       "      <td>BUG: ngroups and len(groups) do not equal when...</td>\n",
       "      <td>[]</td>\n",
       "      <td>open</td>\n",
       "    </tr>\n",
       "    <tr>\n",
       "      <th>7</th>\n",
       "      <td>33131</td>\n",
       "      <td>BUG: Copying PeriodIndex levels on MultiIndex ...</td>\n",
       "      <td>[{'id': 76811, 'node_id': 'MDU6TGFiZWw3NjgxMQ=...</td>\n",
       "      <td>open</td>\n",
       "    </tr>\n",
       "    <tr>\n",
       "      <th>8</th>\n",
       "      <td>33130</td>\n",
       "      <td>build_table_schema references non-existent _as...</td>\n",
       "      <td>[]</td>\n",
       "      <td>open</td>\n",
       "    </tr>\n",
       "    <tr>\n",
       "      <th>9</th>\n",
       "      <td>33129</td>\n",
       "      <td>feature request: anchoring suffix for hours</td>\n",
       "      <td>[]</td>\n",
       "      <td>open</td>\n",
       "    </tr>\n",
       "    <tr>\n",
       "      <th>10</th>\n",
       "      <td>33128</td>\n",
       "      <td>Explain how and when to use indirect fixtures</td>\n",
       "      <td>[{'id': 134699, 'node_id': 'MDU6TGFiZWwxMzQ2OT...</td>\n",
       "      <td>open</td>\n",
       "    </tr>\n",
       "    <tr>\n",
       "      <th>11</th>\n",
       "      <td>33127</td>\n",
       "      <td>DataFrame / Series reductions return NaN rathe...</td>\n",
       "      <td>[]</td>\n",
       "      <td>open</td>\n",
       "    </tr>\n",
       "    <tr>\n",
       "      <th>12</th>\n",
       "      <td>33126</td>\n",
       "      <td>CLN: Added static types</td>\n",
       "      <td>[]</td>\n",
       "      <td>open</td>\n",
       "    </tr>\n",
       "    <tr>\n",
       "      <th>13</th>\n",
       "      <td>33125</td>\n",
       "      <td>REF: reshape.concat operate on arrays, not Sin...</td>\n",
       "      <td>[]</td>\n",
       "      <td>open</td>\n",
       "    </tr>\n",
       "    <tr>\n",
       "      <th>14</th>\n",
       "      <td>33124</td>\n",
       "      <td>REF: DataFrame.isna internals access</td>\n",
       "      <td>[]</td>\n",
       "      <td>open</td>\n",
       "    </tr>\n",
       "    <tr>\n",
       "      <th>15</th>\n",
       "      <td>33123</td>\n",
       "      <td>REF: remove placement kwarg from Block.concat_...</td>\n",
       "      <td>[]</td>\n",
       "      <td>open</td>\n",
       "    </tr>\n",
       "    <tr>\n",
       "      <th>16</th>\n",
       "      <td>33121</td>\n",
       "      <td>DOC: Updating capitalization of  doc/source/de...</td>\n",
       "      <td>[{'id': 134699, 'node_id': 'MDU6TGFiZWwxMzQ2OT...</td>\n",
       "      <td>open</td>\n",
       "    </tr>\n",
       "    <tr>\n",
       "      <th>17</th>\n",
       "      <td>33120</td>\n",
       "      <td>.gt() add support for single column dataframes</td>\n",
       "      <td>[]</td>\n",
       "      <td>open</td>\n",
       "    </tr>\n",
       "    <tr>\n",
       "      <th>18</th>\n",
       "      <td>33118</td>\n",
       "      <td>Fix conversion of empty DataFrame to SparseDty...</td>\n",
       "      <td>[{'id': 13098779, 'node_id': 'MDU6TGFiZWwxMzA5...</td>\n",
       "      <td>open</td>\n",
       "    </tr>\n",
       "    <tr>\n",
       "      <th>19</th>\n",
       "      <td>33117</td>\n",
       "      <td>DOC: Partial fix SA04 errors in docstrings #28792</td>\n",
       "      <td>[{'id': 134699, 'node_id': 'MDU6TGFiZWwxMzQ2OT...</td>\n",
       "      <td>open</td>\n",
       "    </tr>\n",
       "    <tr>\n",
       "      <th>20</th>\n",
       "      <td>33115</td>\n",
       "      <td>REGR: unhelpful error message with np.min on u...</td>\n",
       "      <td>[{'id': 78527356, 'node_id': 'MDU6TGFiZWw3ODUy...</td>\n",
       "      <td>open</td>\n",
       "    </tr>\n",
       "    <tr>\n",
       "      <th>21</th>\n",
       "      <td>33114</td>\n",
       "      <td>concatenating frame and series with identical ...</td>\n",
       "      <td>[]</td>\n",
       "      <td>open</td>\n",
       "    </tr>\n",
       "    <tr>\n",
       "      <th>22</th>\n",
       "      <td>33113</td>\n",
       "      <td>.astype(SparseDtype(float)) on empty dataframe...</td>\n",
       "      <td>[{'id': 849023693, 'node_id': 'MDU6TGFiZWw4NDk...</td>\n",
       "      <td>open</td>\n",
       "    </tr>\n",
       "    <tr>\n",
       "      <th>23</th>\n",
       "      <td>33112</td>\n",
       "      <td>CLN: update Appender to doc decorator with cas...</td>\n",
       "      <td>[{'id': 211029535, 'node_id': 'MDU6TGFiZWwyMTE...</td>\n",
       "      <td>open</td>\n",
       "    </tr>\n",
       "    <tr>\n",
       "      <th>24</th>\n",
       "      <td>33111</td>\n",
       "      <td>Bug 29764 groupby loses index name sometimes</td>\n",
       "      <td>[{'id': 76811, 'node_id': 'MDU6TGFiZWw3NjgxMQ=...</td>\n",
       "      <td>open</td>\n",
       "    </tr>\n",
       "    <tr>\n",
       "      <th>25</th>\n",
       "      <td>33107</td>\n",
       "      <td>added a test for scatter with variable marker ...</td>\n",
       "      <td>[]</td>\n",
       "      <td>open</td>\n",
       "    </tr>\n",
       "    <tr>\n",
       "      <th>26</th>\n",
       "      <td>33105</td>\n",
       "      <td>Add test for #32108 (error with groupby on ser...</td>\n",
       "      <td>[]</td>\n",
       "      <td>open</td>\n",
       "    </tr>\n",
       "    <tr>\n",
       "      <th>27</th>\n",
       "      <td>33104</td>\n",
       "      <td>BUG: ensure consistent behavior of Index.is_al...</td>\n",
       "      <td>[{'id': 1218227310, 'node_id': 'MDU6TGFiZWwxMj...</td>\n",
       "      <td>open</td>\n",
       "    </tr>\n",
       "    <tr>\n",
       "      <th>28</th>\n",
       "      <td>33102</td>\n",
       "      <td>updated to _values and added ASV</td>\n",
       "      <td>[]</td>\n",
       "      <td>open</td>\n",
       "    </tr>\n",
       "    <tr>\n",
       "      <th>29</th>\n",
       "      <td>33100</td>\n",
       "      <td>TYP: require Index objects earlier in internals</td>\n",
       "      <td>[]</td>\n",
       "      <td>open</td>\n",
       "    </tr>\n",
       "  </tbody>\n",
       "</table>\n",
       "</div>"
      ],
      "text/plain": [
       "    number                                              title  \\\n",
       "0    33138  BUG: Fix SeriesGroupBy.quantile for nullable i...   \n",
       "1    33137  BUG: DataFrame.resample raised AmbiguousTimeEr...   \n",
       "2    33136  SeriesGroupBy.quantile doesn't work for nullab...   \n",
       "3    33135  BUG: fix ngroups and len(groups) inconsistency...   \n",
       "4    33134  BUG: create new MI from MultiIndex._get_level_...   \n",
       "5    33133  BUG: to_datetime with infer_datetime_format dr...   \n",
       "6    33132  BUG: ngroups and len(groups) do not equal when...   \n",
       "7    33131  BUG: Copying PeriodIndex levels on MultiIndex ...   \n",
       "8    33130  build_table_schema references non-existent _as...   \n",
       "9    33129        feature request: anchoring suffix for hours   \n",
       "10   33128      Explain how and when to use indirect fixtures   \n",
       "11   33127  DataFrame / Series reductions return NaN rathe...   \n",
       "12   33126                            CLN: Added static types   \n",
       "13   33125  REF: reshape.concat operate on arrays, not Sin...   \n",
       "14   33124               REF: DataFrame.isna internals access   \n",
       "15   33123  REF: remove placement kwarg from Block.concat_...   \n",
       "16   33121  DOC: Updating capitalization of  doc/source/de...   \n",
       "17   33120     .gt() add support for single column dataframes   \n",
       "18   33118  Fix conversion of empty DataFrame to SparseDty...   \n",
       "19   33117  DOC: Partial fix SA04 errors in docstrings #28792   \n",
       "20   33115  REGR: unhelpful error message with np.min on u...   \n",
       "21   33114  concatenating frame and series with identical ...   \n",
       "22   33113  .astype(SparseDtype(float)) on empty dataframe...   \n",
       "23   33112  CLN: update Appender to doc decorator with cas...   \n",
       "24   33111       Bug 29764 groupby loses index name sometimes   \n",
       "25   33107  added a test for scatter with variable marker ...   \n",
       "26   33105  Add test for #32108 (error with groupby on ser...   \n",
       "27   33104  BUG: ensure consistent behavior of Index.is_al...   \n",
       "28   33102                   updated to _values and added ASV   \n",
       "29   33100    TYP: require Index objects earlier in internals   \n",
       "\n",
       "                                               labels state  \n",
       "0                                                  []  open  \n",
       "1   [{'id': 76811, 'node_id': 'MDU6TGFiZWw3NjgxMQ=...  open  \n",
       "2                                                  []  open  \n",
       "3                                                  []  open  \n",
       "4                                                  []  open  \n",
       "5   [{'id': 76811, 'node_id': 'MDU6TGFiZWw3NjgxMQ=...  open  \n",
       "6                                                  []  open  \n",
       "7   [{'id': 76811, 'node_id': 'MDU6TGFiZWw3NjgxMQ=...  open  \n",
       "8                                                  []  open  \n",
       "9                                                  []  open  \n",
       "10  [{'id': 134699, 'node_id': 'MDU6TGFiZWwxMzQ2OT...  open  \n",
       "11                                                 []  open  \n",
       "12                                                 []  open  \n",
       "13                                                 []  open  \n",
       "14                                                 []  open  \n",
       "15                                                 []  open  \n",
       "16  [{'id': 134699, 'node_id': 'MDU6TGFiZWwxMzQ2OT...  open  \n",
       "17                                                 []  open  \n",
       "18  [{'id': 13098779, 'node_id': 'MDU6TGFiZWwxMzA5...  open  \n",
       "19  [{'id': 134699, 'node_id': 'MDU6TGFiZWwxMzQ2OT...  open  \n",
       "20  [{'id': 78527356, 'node_id': 'MDU6TGFiZWw3ODUy...  open  \n",
       "21                                                 []  open  \n",
       "22  [{'id': 849023693, 'node_id': 'MDU6TGFiZWw4NDk...  open  \n",
       "23  [{'id': 211029535, 'node_id': 'MDU6TGFiZWwyMTE...  open  \n",
       "24  [{'id': 76811, 'node_id': 'MDU6TGFiZWw3NjgxMQ=...  open  \n",
       "25                                                 []  open  \n",
       "26                                                 []  open  \n",
       "27  [{'id': 1218227310, 'node_id': 'MDU6TGFiZWwxMj...  open  \n",
       "28                                                 []  open  \n",
       "29                                                 []  open  "
      ]
     },
     "execution_count": 8,
     "metadata": {},
     "output_type": "execute_result"
    }
   ],
   "source": [
    "issues = pd.DataFrame(data, columns=['number', 'title', \n",
    "                                    'labels', 'state'])\n",
    "issues"
   ]
  },
  {
   "cell_type": "markdown",
   "metadata": {},
   "source": [
    "通过一些体力活，我们可以构建一些高层级的界面，让web API直接返回DataFrame格式，以便于分析。"
   ]
  },
  {
   "cell_type": "code",
   "execution_count": null,
   "metadata": {
    "collapsed": true
   },
   "outputs": [],
   "source": []
  }
 ],
 "metadata": {
  "kernelspec": {
   "display_name": "Python 3",
   "language": "python",
   "name": "python3"
  },
  "language_info": {
   "codemirror_mode": {
    "name": "ipython",
    "version": 3
   },
   "file_extension": ".py",
   "mimetype": "text/x-python",
   "name": "python",
   "nbconvert_exporter": "python",
   "pygments_lexer": "ipython3",
   "version": "3.8.1"
  },
  "toc": {
   "base_numbering": 1,
   "nav_menu": {},
   "number_sections": true,
   "sideBar": true,
   "skip_h1_title": false,
   "title_cell": "Table of Contents",
   "title_sidebar": "Contents",
   "toc_cell": false,
   "toc_position": {},
   "toc_section_display": true,
   "toc_window_display": false
  }
 },
 "nbformat": 4,
 "nbformat_minor": 1
}
