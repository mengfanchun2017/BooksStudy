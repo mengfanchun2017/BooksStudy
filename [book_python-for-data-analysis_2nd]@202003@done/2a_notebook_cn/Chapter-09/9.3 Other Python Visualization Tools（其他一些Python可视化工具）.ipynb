{
 "cells": [
  {
   "cell_type": "markdown",
   "metadata": {},
   "source": [
    "# 9.3 Other Python Visualization Tools（其他一些Python可视化工具）\n",
    "\n",
    "开源的一个效果是，在python中有很多用于图形制作的工具。自2010年，更多的开发精力被投入到了网页出版的交互式图形上。利用像Bokeh和Ployly这样的工具，可以为网页浏览器都见一个动态的，可交互式图形。\n",
    "\n",
    "对于制作用于打印或网页的静态图形，作者推荐默认使用matplotlib以及pandas和seaborn这样的工具。对于其他的数据可视化需求，去学一个有用的工具可能会有帮助。"
   ]
  },
  {
   "cell_type": "code",
   "execution_count": 1,
   "metadata": {
    "ExecuteTime": {
     "end_time": "2020-03-31T04:36:09.244666Z",
     "start_time": "2020-03-31T04:36:09.240045Z"
    }
   },
   "outputs": [],
   "source": [
    "# Bokeh"
   ]
  },
  {
   "cell_type": "code",
   "execution_count": null,
   "metadata": {},
   "outputs": [],
   "source": []
  }
 ],
 "metadata": {
  "kernelspec": {
   "display_name": "Python 3",
   "language": "python",
   "name": "python3"
  },
  "language_info": {
   "codemirror_mode": {
    "name": "ipython",
    "version": 3
   },
   "file_extension": ".py",
   "mimetype": "text/x-python",
   "name": "python",
   "nbconvert_exporter": "python",
   "pygments_lexer": "ipython3",
   "version": "3.8.1"
  },
  "toc": {
   "base_numbering": 1,
   "nav_menu": {},
   "number_sections": true,
   "sideBar": true,
   "skip_h1_title": false,
   "title_cell": "Table of Contents",
   "title_sidebar": "Contents",
   "toc_cell": false,
   "toc_position": {},
   "toc_section_display": true,
   "toc_window_display": false
  }
 },
 "nbformat": 4,
 "nbformat_minor": 1
}
