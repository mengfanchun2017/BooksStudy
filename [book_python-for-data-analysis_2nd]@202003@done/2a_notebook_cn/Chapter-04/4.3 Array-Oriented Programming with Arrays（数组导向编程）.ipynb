{
 "cells": [
  {
   "cell_type": "markdown",
   "metadata": {},
   "source": [
    "向量化的数组运算比纯python同等程度的运算要快很多。\n",
    "\n",
    "一个简单的例子，假设我们想要评价函数`sqrt(x^2 + y^2)`。`np.meshgrid`函数取两个1维的数组，产生一个2维的矩阵，对应于所有两个数组中(x, y)的组合："
   ]
  },
  {
   "cell_type": "code",
   "execution_count": 1,
   "metadata": {
    "ExecuteTime": {
     "end_time": "2020-03-28T00:29:30.119677Z",
     "start_time": "2020-03-28T00:29:29.898099Z"
    }
   },
   "outputs": [],
   "source": [
    "import numpy as np"
   ]
  },
  {
   "cell_type": "markdown",
   "metadata": {},
   "source": [
    "在进行书中的内容之前，先举个例子说明meshgrid的效果。meshgrid函数用两个坐标轴上的点在平面上画网格。用法：\n",
    "\n",
    "- `[X,Y]=meshgrid(x,y)`\n",
    "\n",
    "- `[X,Y]=meshgrid(x)`与`[X,Y]=meshgrid(x,x)`是等同的\n",
    "\n",
    "- `[X,Y,Z]=meshgrid(x,y,z)`生成三维数组，可用来计算三变量的函数和绘制三维立体图\n",
    "\n",
    "这里，主要以`[X,Y]=meshgrid(x,y)`为例，来对该函数进行介绍。\n",
    "\n",
    "`[X,Y] = meshgrid(x,y)` 将向量x和y定义的区域转换成矩阵X和Y,其中矩阵X的行向量是向量x的简单复制，而矩阵Y的列向量是向量y的简单复制(注：下面代码中X和Y均是数组，在文中统一称为矩阵了)。\n",
    "\n",
    "假设x是长度为m的向量，y是长度为n的向量，则最终生成的矩阵X和Y的维度都是 nm （注意不是mn）。"
   ]
  },
  {
   "cell_type": "code",
   "execution_count": 2,
   "metadata": {
    "ExecuteTime": {
     "end_time": "2020-03-28T00:29:59.464511Z",
     "start_time": "2020-03-28T00:29:59.448256Z"
    }
   },
   "outputs": [
    {
     "data": {
      "text/plain": [
       "array([0.  , 0.25, 0.5 , 0.75, 1.  ])"
      ]
     },
     "execution_count": 2,
     "metadata": {},
     "output_type": "execute_result"
    }
   ],
   "source": [
    "m, n = (5, 3)\n",
    "x = np.linspace(0, 1, m)\n",
    "y = np.linspace(0, 1, n)\n",
    "X, Y = np.meshgrid(x, y)\n",
    "x"
   ]
  },
  {
   "cell_type": "code",
   "execution_count": 3,
   "metadata": {
    "ExecuteTime": {
     "end_time": "2020-03-28T00:30:01.117964Z",
     "start_time": "2020-03-28T00:30:01.112613Z"
    }
   },
   "outputs": [
    {
     "data": {
      "text/plain": [
       "array([0. , 0.5, 1. ])"
      ]
     },
     "execution_count": 3,
     "metadata": {},
     "output_type": "execute_result"
    }
   ],
   "source": [
    "y"
   ]
  },
  {
   "cell_type": "code",
   "execution_count": 4,
   "metadata": {
    "ExecuteTime": {
     "end_time": "2020-03-28T00:30:10.961181Z",
     "start_time": "2020-03-28T00:30:10.953921Z"
    }
   },
   "outputs": [
    {
     "data": {
      "text/plain": [
       "array([[0.  , 0.25, 0.5 , 0.75, 1.  ],\n",
       "       [0.  , 0.25, 0.5 , 0.75, 1.  ],\n",
       "       [0.  , 0.25, 0.5 , 0.75, 1.  ]])"
      ]
     },
     "execution_count": 4,
     "metadata": {},
     "output_type": "execute_result"
    }
   ],
   "source": [
    "X"
   ]
  },
  {
   "cell_type": "code",
   "execution_count": 5,
   "metadata": {
    "ExecuteTime": {
     "end_time": "2020-03-28T00:30:11.295280Z",
     "start_time": "2020-03-28T00:30:11.289583Z"
    }
   },
   "outputs": [
    {
     "data": {
      "text/plain": [
       "array([[0. , 0. , 0. , 0. , 0. ],\n",
       "       [0.5, 0.5, 0.5, 0.5, 0.5],\n",
       "       [1. , 1. , 1. , 1. , 1. ]])"
      ]
     },
     "execution_count": 5,
     "metadata": {},
     "output_type": "execute_result"
    }
   ],
   "source": [
    "Y"
   ]
  },
  {
   "cell_type": "markdown",
   "metadata": {},
   "source": [
    "可以看到X和Y的shape都是3x5，用图的话更好理解：\n",
    "\n",
    "[](../MarkdownPhotos/chp04/v2-a7f1c996c371d1167a0fb7b5273c6d01_r.jpg)\n",
    "\n",
    "![](http://oydgk2hgw.bkt.clouddn.com/pydata-book/jaa76.jpg)\n",
    "\n",
    "\n",
    "把X和Y画出来后，就可以看到网格了：\n",
    "\n"
   ]
  },
  {
   "cell_type": "code",
   "execution_count": 6,
   "metadata": {
    "ExecuteTime": {
     "end_time": "2020-03-28T00:30:27.330079Z",
     "start_time": "2020-03-28T00:30:26.532773Z"
    }
   },
   "outputs": [
    {
     "data": {
      "image/png": "[encoded data removed]",
      "text/plain": [
       "<Figure size 432x288 with 1 Axes>"
      ]
     },
     "metadata": {},
     "output_type": "display_data"
    }
   ],
   "source": [
    "import matplotlib.pyplot as plt\n",
    "%matplotlib inline\n",
    "plt.style.use('ggplot')\n",
    "\n",
    "plt.plot(X, Y, marker='.', color='blue', linestyle='none');"
   ]
  },
  {
   "cell_type": "markdown",
   "metadata": {},
   "source": [
    "可以用zip得到网格平面上坐标点的数据："
   ]
  },
  {
   "cell_type": "code",
   "execution_count": 7,
   "metadata": {
    "ExecuteTime": {
     "end_time": "2020-03-28T00:30:37.387286Z",
     "start_time": "2020-03-28T00:30:37.375901Z"
    }
   },
   "outputs": [
    {
     "data": {
      "text/plain": [
       "[(0.0, 0.0),\n",
       " (0.25, 0.0),\n",
       " (0.5, 0.0),\n",
       " (0.75, 0.0),\n",
       " (1.0, 0.0),\n",
       " (0.0, 0.5),\n",
       " (0.25, 0.5),\n",
       " (0.5, 0.5),\n",
       " (0.75, 0.5),\n",
       " (1.0, 0.5),\n",
       " (0.0, 1.0),\n",
       " (0.25, 1.0),\n",
       " (0.5, 1.0),\n",
       " (0.75, 1.0),\n",
       " (1.0, 1.0)]"
      ]
     },
     "execution_count": 7,
     "metadata": {},
     "output_type": "execute_result"
    }
   ],
   "source": [
    "z = [i for i in zip(X.flat, Y.flat)]\n",
    "z"
   ]
  },
  {
   "cell_type": "markdown",
   "metadata": {},
   "source": [
    "好了，下面继续进入书中的内容"
   ]
  },
  {
   "cell_type": "code",
   "execution_count": 8,
   "metadata": {
    "ExecuteTime": {
     "end_time": "2020-03-28T00:31:17.515052Z",
     "start_time": "2020-03-28T00:31:17.498262Z"
    }
   },
   "outputs": [
    {
     "data": {
      "text/plain": [
       "array([[-5.  , -5.  , -5.  , ..., -5.  , -5.  , -5.  ],\n",
       "       [-4.99, -4.99, -4.99, ..., -4.99, -4.99, -4.99],\n",
       "       [-4.98, -4.98, -4.98, ..., -4.98, -4.98, -4.98],\n",
       "       ...,\n",
       "       [ 4.97,  4.97,  4.97, ...,  4.97,  4.97,  4.97],\n",
       "       [ 4.98,  4.98,  4.98, ...,  4.98,  4.98,  4.98],\n",
       "       [ 4.99,  4.99,  4.99, ...,  4.99,  4.99,  4.99]])"
      ]
     },
     "execution_count": 8,
     "metadata": {},
     "output_type": "execute_result"
    }
   ],
   "source": [
    "points = np.arange(-5, 5, 0.01) # 1000 equally spaced points\n",
    "xs, ys = np.meshgrid(points, points) # xs和ys是一样的\n",
    "ys"
   ]
  },
  {
   "cell_type": "code",
   "execution_count": 9,
   "metadata": {
    "ExecuteTime": {
     "end_time": "2020-03-28T00:31:20.384645Z",
     "start_time": "2020-03-28T00:31:20.341149Z"
    }
   },
   "outputs": [
    {
     "data": {
      "text/plain": [
       "array([[7.07106781, 7.06400028, 7.05693985, ..., 7.04988652, 7.05693985,\n",
       "        7.06400028],\n",
       "       [7.06400028, 7.05692568, 7.04985815, ..., 7.04279774, 7.04985815,\n",
       "        7.05692568],\n",
       "       [7.05693985, 7.04985815, 7.04278354, ..., 7.03571603, 7.04278354,\n",
       "        7.04985815],\n",
       "       ...,\n",
       "       [7.04988652, 7.04279774, 7.03571603, ..., 7.0286414 , 7.03571603,\n",
       "        7.04279774],\n",
       "       [7.05693985, 7.04985815, 7.04278354, ..., 7.03571603, 7.04278354,\n",
       "        7.04985815],\n",
       "       [7.06400028, 7.05692568, 7.04985815, ..., 7.04279774, 7.04985815,\n",
       "        7.05692568]])"
      ]
     },
     "execution_count": 9,
     "metadata": {},
     "output_type": "execute_result"
    }
   ],
   "source": [
    "z = np.sqrt(xs ** 2 + ys ** 2)\n",
    "z"
   ]
  },
  {
   "cell_type": "markdown",
   "metadata": {},
   "source": [
    "这里我们用matplotlib把图画出来："
   ]
  },
  {
   "cell_type": "code",
   "execution_count": 10,
   "metadata": {
    "ExecuteTime": {
     "end_time": "2020-03-28T00:31:37.596059Z",
     "start_time": "2020-03-28T00:31:37.040869Z"
    }
   },
   "outputs": [
    {
     "data": {
      "image/png": "[encoded data removed]",
      "text/plain": [
       "<Figure size 432x288 with 2 Axes>"
      ]
     },
     "metadata": {},
     "output_type": "display_data"
    }
   ],
   "source": [
    "plt.imshow(z, cmap=plt.cm.gray); plt.colorbar()\n",
    "plt.title(\"Image plot of $\\sqrt{x^2 + y^2}$ for a grid of values\");"
   ]
  },
  {
   "cell_type": "markdown",
   "metadata": {},
   "source": [
    "# 1 Expressing Conditional Logic as Array Operations (像数组操作一样表示逻辑条件)\n",
    "\n",
    "`numpy.where`函数是一个向量版的三相表达式，`x if condition else y`。假设我们有一个布尔数组和两个数组："
   ]
  },
  {
   "cell_type": "code",
   "execution_count": 11,
   "metadata": {
    "ExecuteTime": {
     "end_time": "2020-03-28T00:31:58.697752Z",
     "start_time": "2020-03-28T00:31:58.690056Z"
    }
   },
   "outputs": [],
   "source": [
    "xarr = np.array([1.1, 1.2, 1.3, 1.4, 1.5])\n",
    "yarr = np.array([2.1, 2.2, 2.3, 2.4, 2.5])\n",
    "cond = np.array([True, False, True, True, False])"
   ]
  },
  {
   "cell_type": "markdown",
   "metadata": {},
   "source": [
    "假设如果cond中为true，我们取xarr中对应的值，否则就取yarr中的值。列表表达式的话会这么写："
   ]
  },
  {
   "cell_type": "code",
   "execution_count": 14,
   "metadata": {
    "ExecuteTime": {
     "end_time": "2020-03-28T00:32:37.186543Z",
     "start_time": "2020-03-28T00:32:37.178583Z"
    }
   },
   "outputs": [
    {
     "data": {
      "text/plain": [
       "[1.1, 2.2, 1.3, 1.4, 2.5]"
      ]
     },
     "execution_count": 14,
     "metadata": {},
     "output_type": "execute_result"
    }
   ],
   "source": [
    "result = [(x if c else y)\n",
    "          for x, y, c in zip(xarr, yarr, cond)]\n",
    "\n",
    "result"
   ]
  },
  {
   "cell_type": "markdown",
   "metadata": {},
   "source": [
    "这么做的话会有很多问题。首先，对于很大的数组，会比较慢。第二，对于多维数组不起作用。但`np.where`能让我们写得更简洁："
   ]
  },
  {
   "cell_type": "code",
   "execution_count": 15,
   "metadata": {
    "ExecuteTime": {
     "end_time": "2020-03-28T00:32:45.594915Z",
     "start_time": "2020-03-28T00:32:45.587826Z"
    }
   },
   "outputs": [
    {
     "data": {
      "text/plain": [
       "array([1.1, 2.2, 1.3, 1.4, 2.5])"
      ]
     },
     "execution_count": 15,
     "metadata": {},
     "output_type": "execute_result"
    }
   ],
   "source": [
    "result = np.where(cond, xarr, yarr)\n",
    "result"
   ]
  },
  {
   "cell_type": "markdown",
   "metadata": {},
   "source": [
    "`np.where`中第二个和第三个参数不用必须是数组。where在数据分析中一个典型的用法是基于一个数组，产生一个新的数组值。假设我们有一个随机数字生成的矩阵，我们想要把所有的正数变为2，所有的负数变为-2。用where的话会非常简单："
   ]
  },
  {
   "cell_type": "code",
   "execution_count": 16,
   "metadata": {
    "ExecuteTime": {
     "end_time": "2020-03-28T00:33:10.825930Z",
     "start_time": "2020-03-28T00:33:10.817484Z"
    }
   },
   "outputs": [
    {
     "data": {
      "text/plain": [
       "array([[-1.22608237,  0.41429707, -0.75819661, -0.99765809],\n",
       "       [-0.14544422,  0.49871135,  0.31024181,  0.26504936],\n",
       "       [-0.27087932, -0.22580511, -1.80852741, -0.25539767],\n",
       "       [ 0.35393593, -1.50524761,  0.11746686, -0.77260501]])"
      ]
     },
     "execution_count": 16,
     "metadata": {},
     "output_type": "execute_result"
    }
   ],
   "source": [
    "arr = np.random.randn(4, 4)\n",
    "arr"
   ]
  },
  {
   "cell_type": "code",
   "execution_count": 17,
   "metadata": {
    "ExecuteTime": {
     "end_time": "2020-03-28T00:33:11.905000Z",
     "start_time": "2020-03-28T00:33:11.898199Z"
    }
   },
   "outputs": [
    {
     "data": {
      "text/plain": [
       "array([[False,  True, False, False],\n",
       "       [False,  True,  True,  True],\n",
       "       [False, False, False, False],\n",
       "       [ True, False,  True, False]])"
      ]
     },
     "execution_count": 17,
     "metadata": {},
     "output_type": "execute_result"
    }
   ],
   "source": [
    "arr > 0"
   ]
  },
  {
   "cell_type": "code",
   "execution_count": 18,
   "metadata": {
    "ExecuteTime": {
     "end_time": "2020-03-28T00:33:22.624396Z",
     "start_time": "2020-03-28T00:33:22.616349Z"
    }
   },
   "outputs": [
    {
     "data": {
      "text/plain": [
       "array([[-2,  2, -2, -2],\n",
       "       [-2,  2,  2,  2],\n",
       "       [-2, -2, -2, -2],\n",
       "       [ 2, -2,  2, -2]])"
      ]
     },
     "execution_count": 18,
     "metadata": {},
     "output_type": "execute_result"
    }
   ],
   "source": [
    "np.where(arr > 0, 2, -2)"
   ]
  },
  {
   "cell_type": "markdown",
   "metadata": {},
   "source": [
    "我们可以结合标量和数组。比如只把整数变为2，其他仍未原来的数字："
   ]
  },
  {
   "cell_type": "code",
   "execution_count": 19,
   "metadata": {
    "ExecuteTime": {
     "end_time": "2020-03-28T00:35:22.255873Z",
     "start_time": "2020-03-28T00:35:22.246831Z"
    }
   },
   "outputs": [
    {
     "data": {
      "text/plain": [
       "array([[-1.22608237,  2.        , -0.75819661, -0.99765809],\n",
       "       [-0.14544422,  2.        ,  2.        ,  2.        ],\n",
       "       [-0.27087932, -0.22580511, -1.80852741, -0.25539767],\n",
       "       [ 2.        , -1.50524761,  2.        , -0.77260501]])"
      ]
     },
     "execution_count": 19,
     "metadata": {},
     "output_type": "execute_result"
    }
   ],
   "source": [
    "np.where(arr > 0, 2, arr) # set only positive value to 2"
   ]
  },
  {
   "cell_type": "markdown",
   "metadata": {},
   "source": [
    "# 2 Mathematical and Statistical Methods (数学和统计方法)\n",
    "\n",
    "一些能计算统计值的数学函数能基于整个数组，或者沿着一个axis（轴）。可以使用aggregations(often called reductions，汇总，或被叫做降维)，比如sum, mean, and std(标准差).\n",
    "\n",
    "下面是一些aggregate statistics（汇总统计）：\n"
   ]
  },
  {
   "cell_type": "code",
   "execution_count": 20,
   "metadata": {
    "ExecuteTime": {
     "end_time": "2020-03-28T00:35:28.305239Z",
     "start_time": "2020-03-28T00:35:28.295184Z"
    }
   },
   "outputs": [
    {
     "data": {
      "text/plain": [
       "array([[ 0.94315607, -0.94151417, -0.40347238, -1.29175393],\n",
       "       [-1.36435359,  1.48274319,  1.68090387,  1.17694391],\n",
       "       [-0.37660204,  1.76593047,  0.52465731,  0.12551916],\n",
       "       [-0.88844825, -1.62323745, -0.36123694,  1.05916699],\n",
       "       [ 0.38246319, -0.27352529, -0.02424558, -0.03660832]])"
      ]
     },
     "execution_count": 20,
     "metadata": {},
     "output_type": "execute_result"
    }
   ],
   "source": [
    "arr = np.random.randn(5, 4)\n",
    "arr"
   ]
  },
  {
   "cell_type": "code",
   "execution_count": 21,
   "metadata": {
    "ExecuteTime": {
     "end_time": "2020-03-28T00:35:29.968947Z",
     "start_time": "2020-03-28T00:35:29.962101Z"
    }
   },
   "outputs": [
    {
     "data": {
      "text/plain": [
       "0.07782431079952538"
      ]
     },
     "execution_count": 21,
     "metadata": {},
     "output_type": "execute_result"
    }
   ],
   "source": [
    "arr.mean()"
   ]
  },
  {
   "cell_type": "code",
   "execution_count": 22,
   "metadata": {
    "ExecuteTime": {
     "end_time": "2020-03-28T00:35:40.952517Z",
     "start_time": "2020-03-28T00:35:40.944027Z"
    }
   },
   "outputs": [
    {
     "data": {
      "text/plain": [
       "0.07782431079952538"
      ]
     },
     "execution_count": 22,
     "metadata": {},
     "output_type": "execute_result"
    }
   ],
   "source": [
    "np.mean(arr)"
   ]
  },
  {
   "cell_type": "code",
   "execution_count": 23,
   "metadata": {
    "ExecuteTime": {
     "end_time": "2020-03-28T00:35:42.813527Z",
     "start_time": "2020-03-28T00:35:42.806917Z"
    }
   },
   "outputs": [
    {
     "data": {
      "text/plain": [
       "1.5564862159905077"
      ]
     },
     "execution_count": 23,
     "metadata": {},
     "output_type": "execute_result"
    }
   ],
   "source": [
    "arr.sum()"
   ]
  },
  {
   "cell_type": "markdown",
   "metadata": {},
   "source": [
    "mean, sum这样的函数能接受axis作为参数来计算统计数字，返回的结果维度更少："
   ]
  },
  {
   "cell_type": "code",
   "execution_count": 24,
   "metadata": {
    "ExecuteTime": {
     "end_time": "2020-03-28T00:35:47.874626Z",
     "start_time": "2020-03-28T00:35:47.867017Z"
    }
   },
   "outputs": [
    {
     "data": {
      "text/plain": [
       "array([-0.4233961 ,  0.74405935,  0.50987623, -0.45343891,  0.012021  ])"
      ]
     },
     "execution_count": 24,
     "metadata": {},
     "output_type": "execute_result"
    }
   ],
   "source": [
    "arr.mean(axis=1)"
   ]
  },
  {
   "cell_type": "code",
   "execution_count": 25,
   "metadata": {
    "ExecuteTime": {
     "end_time": "2020-03-28T00:35:48.565970Z",
     "start_time": "2020-03-28T00:35:48.558386Z"
    }
   },
   "outputs": [
    {
     "data": {
      "text/plain": [
       "array([-1.30378462,  0.41039674,  1.41660628,  1.03326781])"
      ]
     },
     "execution_count": 25,
     "metadata": {},
     "output_type": "execute_result"
    }
   ],
   "source": [
    "arr.sum(axis=0)"
   ]
  },
  {
   "cell_type": "markdown",
   "metadata": {},
   "source": [
    "这里`arr.mean(1)`表示，compute mean acros the columns(计算各列之间的平均值)。`arr.sum(0)`表示，compute sum down the rows(计算各行总和)。\n",
    "\n",
    "其他一些方法，像cumsum和cumprod不做汇总，而是产生一个中间结果的数组："
   ]
  },
  {
   "cell_type": "code",
   "execution_count": 26,
   "metadata": {
    "ExecuteTime": {
     "end_time": "2020-03-28T00:35:54.226536Z",
     "start_time": "2020-03-28T00:35:54.218488Z"
    }
   },
   "outputs": [
    {
     "data": {
      "text/plain": [
       "array([ 0,  1,  3,  6, 10, 15, 21, 28])"
      ]
     },
     "execution_count": 26,
     "metadata": {},
     "output_type": "execute_result"
    }
   ],
   "source": [
    "arr = np.array([0, 1, 2, 3, 4, 5, 6, 7])\n",
    "arr.cumsum()"
   ]
  },
  {
   "cell_type": "markdown",
   "metadata": {},
   "source": [
    "上面的计算是一个累加的结果，`0+1=1，1+2=3，3+3=6`以此类推。"
   ]
  },
  {
   "cell_type": "code",
   "execution_count": 27,
   "metadata": {
    "ExecuteTime": {
     "end_time": "2020-03-28T00:36:05.185619Z",
     "start_time": "2020-03-28T00:36:05.107911Z"
    }
   },
   "outputs": [],
   "source": [
    "np.cumsum?"
   ]
  },
  {
   "cell_type": "markdown",
   "metadata": {},
   "source": [
    "对于多维数组，accumulation functions（累积函数）比如cumsum，返回的是同样大小的数组，但是部分聚合会沿着指示的轴向较低维度进行切片："
   ]
  },
  {
   "cell_type": "code",
   "execution_count": 28,
   "metadata": {
    "ExecuteTime": {
     "end_time": "2020-03-28T00:36:52.088173Z",
     "start_time": "2020-03-28T00:36:52.075533Z"
    }
   },
   "outputs": [
    {
     "data": {
      "text/plain": [
       "array([[0, 1, 2],\n",
       "       [3, 4, 5],\n",
       "       [6, 7, 8]])"
      ]
     },
     "execution_count": 28,
     "metadata": {},
     "output_type": "execute_result"
    }
   ],
   "source": [
    "arr = np.array([[0, 1, 2], [3, 4, 5], [6, 7, 8]])\n",
    "arr"
   ]
  },
  {
   "cell_type": "code",
   "execution_count": 29,
   "metadata": {
    "ExecuteTime": {
     "end_time": "2020-03-28T00:36:58.717275Z",
     "start_time": "2020-03-28T00:36:58.707304Z"
    }
   },
   "outputs": [
    {
     "data": {
      "text/plain": [
       "array([[ 0,  1,  2],\n",
       "       [ 3,  5,  7],\n",
       "       [ 9, 12, 15]])"
      ]
     },
     "execution_count": 29,
     "metadata": {},
     "output_type": "execute_result"
    }
   ],
   "source": [
    "arr.cumsum(axis=0) # 沿着行加法"
   ]
  },
  {
   "cell_type": "code",
   "execution_count": 30,
   "metadata": {
    "ExecuteTime": {
     "end_time": "2020-03-28T00:37:16.108245Z",
     "start_time": "2020-03-28T00:37:16.101735Z"
    }
   },
   "outputs": [
    {
     "data": {
      "text/plain": [
       "array([[  0,   0,   0],\n",
       "       [  3,  12,  60],\n",
       "       [  6,  42, 336]])"
      ]
     },
     "execution_count": 30,
     "metadata": {},
     "output_type": "execute_result"
    }
   ],
   "source": [
    "arr.cumprod(axis=1) # 沿着列乘法"
   ]
  },
  {
   "cell_type": "markdown",
   "metadata": {},
   "source": [
    "这里有一些基本的统计计算方法：\n",
    "![](http://oydgk2hgw.bkt.clouddn.com/pydata-book/9mzrp.png)\n",
    "\n",
    "# 3 Methods for Boolean Arrays（布尔数组的方法）\n",
    "\n",
    "sum是用来计算布尔数组中有多少个true的："
   ]
  },
  {
   "cell_type": "code",
   "execution_count": 31,
   "metadata": {
    "ExecuteTime": {
     "end_time": "2020-03-28T00:38:14.217228Z",
     "start_time": "2020-03-28T00:38:14.209593Z"
    }
   },
   "outputs": [
    {
     "data": {
      "text/plain": [
       "52"
      ]
     },
     "execution_count": 31,
     "metadata": {},
     "output_type": "execute_result"
    }
   ],
   "source": [
    "arr = np.random.randn(100)\n",
    "(arr > 0).sum() # Number of positive values"
   ]
  },
  {
   "cell_type": "markdown",
   "metadata": {},
   "source": [
    "有两个其他方法，any和all，对于布尔数组特别有用。any检测数组中只要有一个ture返回就是true，而all检测数组中都是true才会返回true。"
   ]
  },
  {
   "cell_type": "code",
   "execution_count": 32,
   "metadata": {
    "ExecuteTime": {
     "end_time": "2020-03-28T00:38:15.000178Z",
     "start_time": "2020-03-28T00:38:14.996598Z"
    }
   },
   "outputs": [],
   "source": [
    "bools = np.array([False, False, True, False])"
   ]
  },
  {
   "cell_type": "code",
   "execution_count": 33,
   "metadata": {
    "ExecuteTime": {
     "end_time": "2020-03-28T00:38:15.308183Z",
     "start_time": "2020-03-28T00:38:15.299058Z"
    }
   },
   "outputs": [
    {
     "data": {
      "text/plain": [
       "True"
      ]
     },
     "execution_count": 33,
     "metadata": {},
     "output_type": "execute_result"
    }
   ],
   "source": [
    "bools.any()"
   ]
  },
  {
   "cell_type": "code",
   "execution_count": 34,
   "metadata": {
    "ExecuteTime": {
     "end_time": "2020-03-28T00:38:15.676793Z",
     "start_time": "2020-03-28T00:38:15.670329Z"
    }
   },
   "outputs": [
    {
     "data": {
      "text/plain": [
       "False"
      ]
     },
     "execution_count": 34,
     "metadata": {},
     "output_type": "execute_result"
    }
   ],
   "source": [
    "bools.all()"
   ]
  },
  {
   "cell_type": "markdown",
   "metadata": {},
   "source": [
    "# 4 Sorting（排序）\n",
    "\n",
    "numpy中也有sort方法："
   ]
  },
  {
   "cell_type": "code",
   "execution_count": 35,
   "metadata": {
    "ExecuteTime": {
     "end_time": "2020-03-28T00:38:20.274232Z",
     "start_time": "2020-03-28T00:38:20.269834Z"
    }
   },
   "outputs": [],
   "source": [
    "np.random.randn?\n",
    "# 返回符合正态分布的数值"
   ]
  },
  {
   "cell_type": "code",
   "execution_count": 36,
   "metadata": {
    "ExecuteTime": {
     "end_time": "2020-03-28T00:38:58.957267Z",
     "start_time": "2020-03-28T00:38:58.948076Z"
    }
   },
   "outputs": [
    {
     "data": {
      "text/plain": [
       "array([-2.23599654,  1.08203206, -0.33902924,  1.48341891,  1.13389279,\n",
       "        0.41804319])"
      ]
     },
     "execution_count": 36,
     "metadata": {},
     "output_type": "execute_result"
    }
   ],
   "source": [
    "arr = np.random.randn(6)\n",
    "arr"
   ]
  },
  {
   "cell_type": "code",
   "execution_count": 37,
   "metadata": {
    "ExecuteTime": {
     "end_time": "2020-03-28T00:39:01.234975Z",
     "start_time": "2020-03-28T00:39:01.229828Z"
    }
   },
   "outputs": [],
   "source": [
    "arr.sort()"
   ]
  },
  {
   "cell_type": "code",
   "execution_count": 38,
   "metadata": {
    "ExecuteTime": {
     "end_time": "2020-03-28T00:39:02.063666Z",
     "start_time": "2020-03-28T00:39:02.057122Z"
    }
   },
   "outputs": [
    {
     "data": {
      "text/plain": [
       "array([-2.23599654, -0.33902924,  0.41804319,  1.08203206,  1.13389279,\n",
       "        1.48341891])"
      ]
     },
     "execution_count": 38,
     "metadata": {},
     "output_type": "execute_result"
    }
   ],
   "source": [
    "arr"
   ]
  },
  {
   "cell_type": "markdown",
   "metadata": {},
   "source": [
    "如果是多维数组，还可以按axis来排序："
   ]
  },
  {
   "cell_type": "code",
   "execution_count": 39,
   "metadata": {
    "ExecuteTime": {
     "end_time": "2020-03-28T00:39:59.211721Z",
     "start_time": "2020-03-28T00:39:59.205317Z"
    }
   },
   "outputs": [
    {
     "data": {
      "text/plain": [
       "array([[-0.90348529, -0.15122065,  0.35215721],\n",
       "       [ 0.95972198,  1.04751236, -1.0005259 ],\n",
       "       [ 0.16004019, -1.42019861, -0.75410005],\n",
       "       [ 0.40548215, -0.88586699, -0.29289923],\n",
       "       [ 0.54592205,  0.03303113, -0.07105181]])"
      ]
     },
     "execution_count": 39,
     "metadata": {},
     "output_type": "execute_result"
    }
   ],
   "source": [
    "arr = np.random.randn(5, 3)\n",
    "arr"
   ]
  },
  {
   "cell_type": "code",
   "execution_count": 40,
   "metadata": {
    "ExecuteTime": {
     "end_time": "2020-03-28T00:40:00.024268Z",
     "start_time": "2020-03-28T00:40:00.020788Z"
    }
   },
   "outputs": [],
   "source": [
    "arr.sort(1)"
   ]
  },
  {
   "cell_type": "code",
   "execution_count": 41,
   "metadata": {
    "ExecuteTime": {
     "end_time": "2020-03-28T00:40:02.272387Z",
     "start_time": "2020-03-28T00:40:02.265845Z"
    }
   },
   "outputs": [
    {
     "data": {
      "text/plain": [
       "array([[-0.90348529, -0.15122065,  0.35215721],\n",
       "       [-1.0005259 ,  0.95972198,  1.04751236],\n",
       "       [-1.42019861, -0.75410005,  0.16004019],\n",
       "       [-0.88586699, -0.29289923,  0.40548215],\n",
       "       [-0.07105181,  0.03303113,  0.54592205]])"
      ]
     },
     "execution_count": 41,
     "metadata": {},
     "output_type": "execute_result"
    }
   ],
   "source": [
    "arr"
   ]
  },
  {
   "cell_type": "markdown",
   "metadata": {},
   "source": [
    "上面是直接调用数组的sort方法，会改变原有数组的顺序。但如果使用`np.sort()`函数的话，会生成一个新的排序后的结果。\n",
    "\n",
    "一个计算分位数的快捷方法是先给数组排序，然后选择某个排名的值："
   ]
  },
  {
   "cell_type": "code",
   "execution_count": 42,
   "metadata": {
    "ExecuteTime": {
     "end_time": "2020-03-28T00:40:22.038084Z",
     "start_time": "2020-03-28T00:40:22.033346Z"
    }
   },
   "outputs": [],
   "source": [
    "large_arr = np.random.randn(1000)\n",
    "large_arr.sort()"
   ]
  },
  {
   "cell_type": "code",
   "execution_count": 43,
   "metadata": {
    "ExecuteTime": {
     "end_time": "2020-03-28T00:40:40.936730Z",
     "start_time": "2020-03-28T00:40:40.926759Z"
    }
   },
   "outputs": [
    {
     "data": {
      "text/plain": [
       "-1.7016049467631054"
      ]
     },
     "execution_count": 43,
     "metadata": {},
     "output_type": "execute_result"
    }
   ],
   "source": [
    "large_arr[int(0.05 * len(large_arr))] # 5% quantile"
   ]
  },
  {
   "cell_type": "markdown",
   "metadata": {},
   "source": [
    "# 5 Unique and Other Set Logic (单一性和其他集合逻辑)\n",
    "\n",
    "Numpy也有一些基本的集合操作用于一维数组。`np.unique`，能返回排好序且不重复的值："
   ]
  },
  {
   "cell_type": "code",
   "execution_count": 44,
   "metadata": {
    "ExecuteTime": {
     "end_time": "2020-03-28T00:42:15.720546Z",
     "start_time": "2020-03-28T00:42:15.712762Z"
    }
   },
   "outputs": [
    {
     "data": {
      "text/plain": [
       "array(['Bob', 'Joe', 'Will'], dtype='<U4')"
      ]
     },
     "execution_count": 44,
     "metadata": {},
     "output_type": "execute_result"
    }
   ],
   "source": [
    "names = np.array(['Bob', 'Joe', 'Will', 'Bob', 'Will', 'Joe', 'Joe'])\n",
    "np.unique(names)"
   ]
  },
  {
   "cell_type": "code",
   "execution_count": 45,
   "metadata": {
    "ExecuteTime": {
     "end_time": "2020-03-28T00:42:16.142585Z",
     "start_time": "2020-03-28T00:42:16.120561Z"
    }
   },
   "outputs": [],
   "source": [
    "ints = np.array([3, 3, 3, 2, 2, 1, 1, 4, 4])"
   ]
  },
  {
   "cell_type": "code",
   "execution_count": 46,
   "metadata": {
    "ExecuteTime": {
     "end_time": "2020-03-28T00:42:16.468414Z",
     "start_time": "2020-03-28T00:42:16.461118Z"
    }
   },
   "outputs": [
    {
     "data": {
      "text/plain": [
       "array([1, 2, 3, 4])"
      ]
     },
     "execution_count": 46,
     "metadata": {},
     "output_type": "execute_result"
    }
   ],
   "source": [
    "np.unique(ints)"
   ]
  },
  {
   "cell_type": "markdown",
   "metadata": {},
   "source": [
    "如果用纯python代码来实现的话，要这么写："
   ]
  },
  {
   "cell_type": "code",
   "execution_count": 47,
   "metadata": {
    "ExecuteTime": {
     "end_time": "2020-03-28T00:42:23.501316Z",
     "start_time": "2020-03-28T00:42:23.494666Z"
    }
   },
   "outputs": [
    {
     "data": {
      "text/plain": [
       "['Bob', 'Joe', 'Will']"
      ]
     },
     "execution_count": 47,
     "metadata": {},
     "output_type": "execute_result"
    }
   ],
   "source": [
    "sorted(set(names))"
   ]
  },
  {
   "cell_type": "markdown",
   "metadata": {},
   "source": [
    "`np.in1d`, 测试一个数组的值是否在另一个数组里，返回一个布尔数组："
   ]
  },
  {
   "cell_type": "code",
   "execution_count": 48,
   "metadata": {
    "ExecuteTime": {
     "end_time": "2020-03-28T00:42:30.119027Z",
     "start_time": "2020-03-28T00:42:30.114604Z"
    }
   },
   "outputs": [],
   "source": [
    "values = np.array([6, 0, 0, 3, 2, 5, 6])"
   ]
  },
  {
   "cell_type": "code",
   "execution_count": 49,
   "metadata": {
    "ExecuteTime": {
     "end_time": "2020-03-28T00:42:31.833149Z",
     "start_time": "2020-03-28T00:42:31.825989Z"
    }
   },
   "outputs": [
    {
     "data": {
      "text/plain": [
       "array([ True, False, False,  True,  True, False,  True])"
      ]
     },
     "execution_count": 49,
     "metadata": {},
     "output_type": "execute_result"
    }
   ],
   "source": [
    "np.in1d(values, [2, 3, 6])"
   ]
  },
  {
   "cell_type": "markdown",
   "metadata": {},
   "source": [
    "这里是一些数组的集合操作：\n",
    "![](http://oydgk2hgw.bkt.clouddn.com/pydata-book/du91n.png)"
   ]
  },
  {
   "cell_type": "code",
   "execution_count": null,
   "metadata": {
    "collapsed": true
   },
   "outputs": [],
   "source": []
  }
 ],
 "metadata": {
  "anaconda-cloud": {},
  "kernelspec": {
   "display_name": "Python 3",
   "language": "python",
   "name": "python3"
  },
  "language_info": {
   "codemirror_mode": {
    "name": "ipython",
    "version": 3
   },
   "file_extension": ".py",
   "mimetype": "text/x-python",
   "name": "python",
   "nbconvert_exporter": "python",
   "pygments_lexer": "ipython3",
   "version": "3.8.1"
  },
  "toc": {
   "base_numbering": 1,
   "nav_menu": {},
   "number_sections": true,
   "sideBar": true,
   "skip_h1_title": false,
   "title_cell": "Table of Contents",
   "title_sidebar": "Contents",
   "toc_cell": false,
   "toc_position": {},
   "toc_section_display": true,
   "toc_window_display": false
  }
 },
 "nbformat": 4,
 "nbformat_minor": 1
}
