{
 "cells": [
  {
   "cell_type": "markdown",
   "metadata": {},
   "source": [
    "# Prepare and understand data for modeling"
   ]
  },
  {
   "cell_type": "markdown",
   "metadata": {},
   "source": [
    "In this chapter, we will learn how to manage duplicates, missing observations and outliers."
   ]
  },
  {
   "cell_type": "markdown",
   "metadata": {},
   "source": [
    "### Duplicates\n",
    "\n",
    "Consider the following example."
   ]
  },
  {
   "cell_type": "code",
   "execution_count": 1,
   "metadata": {
    "collapsed": false
   },
   "outputs": [],
   "source": [
    "df = spark.createDataFrame([\n",
    "        (1, 144.5, 5.9, 33, 'M'), # This row have same data with `id=4`\n",
    "        (2, 167.2, 5.4, 45, 'M'),\n",
    "        (3, 124.1, 5.2, 23, 'F'), # Duplicate row extists in below.\n",
    "        (4, 144.5, 5.9, 33, 'M'),\n",
    "        (5, 133.2, 5.7, 54, 'F'),\n",
    "        (3, 124.1, 5.2, 23, 'F'),\n",
    "        (5, 129.2, 5.3, 42, 'M'), # `id=5` duplicates above row.\n",
    "    ], ['id', 'weight', 'height', 'age', 'gender'])"
   ]
  },
  {
   "cell_type": "markdown",
   "metadata": {},
   "source": [
    "Check for duplicates."
   ]
  },
  {
   "cell_type": "code",
   "execution_count": 2,
   "metadata": {
    "collapsed": false
   },
   "outputs": [
    {
     "name": "stdout",
     "output_type": "stream",
     "text": [
      "Count of rows: 7\n",
      "Count of distinct rows: 6\n"
     ]
    }
   ],
   "source": [
    "print('Count of rows: {0}'.format(df.count()))\n",
    "print('Count of distinct rows: {0}'.format(df.distinct().count()))"
   ]
  },
  {
   "cell_type": "markdown",
   "metadata": {},
   "source": [
    "If these two numbers differ - you have rows that are exact copies of each other. We can drop these rows by using the `.dropDuplicates(...)` method."
   ]
  },
  {
   "cell_type": "code",
   "execution_count": 4,
   "metadata": {
    "collapsed": false
   },
   "outputs": [
    {
     "name": "stdout",
     "output_type": "stream",
     "text": [
      "+---+------+------+---+------+\n",
      "| id|weight|height|age|gender|\n",
      "+---+------+------+---+------+\n",
      "|  5| 133.2|   5.7| 54|     F|\n",
      "|  5| 129.2|   5.3| 42|     M|\n",
      "|  1| 144.5|   5.9| 33|     M|\n",
      "|  4| 144.5|   5.9| 33|     M|\n",
      "|  2| 167.2|   5.4| 45|     M|\n",
      "|  3| 124.1|   5.2| 23|     F|\n",
      "+---+------+------+---+------+\n",
      "\n"
     ]
    }
   ],
   "source": [
    "df = df.dropDuplicates()\n",
    "df.show()"
   ]
  },
  {
   "cell_type": "markdown",
   "metadata": {},
   "source": [
    "Let's confirm."
   ]
  },
  {
   "cell_type": "code",
   "execution_count": 5,
   "metadata": {
    "collapsed": false
   },
   "outputs": [
    {
     "name": "stdout",
     "output_type": "stream",
     "text": [
      "Count of ids: 6\n",
      "Count of distinct ids: 5\n"
     ]
    }
   ],
   "source": [
    "print('Count of ids: {0}'.format(df.count()))\n",
    "\n",
    "# select distinct weight, height, age, gender from df;\n",
    "print('Count of distinct ids: {0}'.format(df.select([c for c in df.columns if c != 'id']).distinct().count()))"
   ]
  },
  {
   "cell_type": "markdown",
   "metadata": {},
   "source": [
    "We still have one more duplicate. We will use the `.dropDuplicates(...)` but add the `subset` parameter."
   ]
  },
  {
   "cell_type": "code",
   "execution_count": 6,
   "metadata": {
    "collapsed": false
   },
   "outputs": [
    {
     "name": "stdout",
     "output_type": "stream",
     "text": [
      "+---+------+------+---+------+\n",
      "| id|weight|height|age|gender|\n",
      "+---+------+------+---+------+\n",
      "|  5| 133.2|   5.7| 54|     F|\n",
      "|  1| 144.5|   5.9| 33|     M|\n",
      "|  2| 167.2|   5.4| 45|     M|\n",
      "|  3| 124.1|   5.2| 23|     F|\n",
      "|  5| 129.2|   5.3| 42|     M|\n",
      "+---+------+------+---+------+\n",
      "\n"
     ]
    }
   ],
   "source": [
    "df = df.dropDuplicates(subset=[c for c in df.columns if c != 'id'])\n",
    "df.show()"
   ]
  },
  {
   "cell_type": "markdown",
   "metadata": {},
   "source": [
    "To calculate the total and distinct number of IDs in one step we can use the `.agg(...)` method."
   ]
  },
  {
   "cell_type": "code",
   "execution_count": 7,
   "metadata": {
    "collapsed": false
   },
   "outputs": [
    {
     "name": "stdout",
     "output_type": "stream",
     "text": [
      "+-----+--------+\n",
      "|count|distinct|\n",
      "+-----+--------+\n",
      "|    5|       4|\n",
      "+-----+--------+\n",
      "\n"
     ]
    }
   ],
   "source": [
    "import pyspark.sql.functions as fn\n",
    "\n",
    "# select count(id), count(distinct id) from df;\n",
    "df.agg(\n",
    "    fn.count('id').alias('count'),\n",
    "    fn.countDistinct('id').alias('distinct')\n",
    ").show()"
   ]
  },
  {
   "cell_type": "markdown",
   "metadata": {},
   "source": [
    "Give each row a unique ID. "
   ]
  },
  {
   "cell_type": "code",
   "execution_count": 8,
   "metadata": {
    "collapsed": false
   },
   "outputs": [
    {
     "name": "stdout",
     "output_type": "stream",
     "text": [
      "+---+------+------+---+------+-------------+\n",
      "| id|weight|height|age|gender|       new_id|\n",
      "+---+------+------+---+------+-------------+\n",
      "|  5| 133.2|   5.7| 54|     F|  25769803776|\n",
      "|  1| 144.5|   5.9| 33|     M| 171798691840|\n",
      "|  2| 167.2|   5.4| 45|     M| 592705486848|\n",
      "|  3| 124.1|   5.2| 23|     F|1236950581248|\n",
      "|  5| 129.2|   5.3| 42|     M|1365799600128|\n",
      "+---+------+------+---+------+-------------+\n",
      "\n"
     ]
    }
   ],
   "source": [
    "df.withColumn('new_id', fn.monotonically_increasing_id()).show()"
   ]
  },
  {
   "cell_type": "markdown",
   "metadata": {},
   "source": [
    "### Missing observations\n",
    "\n",
    "Consider a similar example to the one we presented above.\n",
    "\n",
    "Mostly, our dataset has missing observations is caused by system failures, human errors, application bugs, etc."
   ]
  },
  {
   "cell_type": "code",
   "execution_count": 9,
   "metadata": {
    "collapsed": true
   },
   "outputs": [],
   "source": [
    "df_miss = spark.createDataFrame([\n",
    "        (1, 143.5, 5.6, 28,   'M',  100000),\n",
    "        (2, 167.2, 5.4, 45,   'M',  None),\n",
    "        (3, None , 5.2, None, None, None), # \n",
    "        (4, 144.5, 5.9, 33,   'M',  None),\n",
    "        (5, 133.2, 5.7, 54,   'F',  None),\n",
    "        (6, 124.1, 5.2, None, 'F',  None),\n",
    "        (7, 129.2, 5.3, 42,   'M',  76000),\n",
    "    ], ['id', 'weight', 'height', 'age', 'gender', 'income'])"
   ]
  },
  {
   "cell_type": "markdown",
   "metadata": {},
   "source": [
    "To find the number of missing observations per row we can use the following snippet."
   ]
  },
  {
   "cell_type": "code",
   "execution_count": 10,
   "metadata": {
    "collapsed": false
   },
   "outputs": [
    {
     "data": {
      "text/plain": [
       "[(1, 0), (2, 1), (3, 4), (4, 1), (5, 1), (6, 2), (7, 0)]"
      ]
     },
     "execution_count": 10,
     "metadata": {},
     "output_type": "execute_result"
    }
   ],
   "source": [
    "df_miss.rdd.map(\n",
    "    lambda row: (row['id'], sum([c == None for c in row]))\n",
    ").collect()"
   ]
  },
  {
   "cell_type": "markdown",
   "metadata": {},
   "source": [
    "Let's see what values are missing so when we count missing observations in columns we can decide whether to drop the observation altogether or impute some of the observations."
   ]
  },
  {
   "cell_type": "code",
   "execution_count": 11,
   "metadata": {
    "collapsed": false,
    "scrolled": true
   },
   "outputs": [
    {
     "name": "stdout",
     "output_type": "stream",
     "text": [
      "+---+------+------+----+------+------+\n",
      "| id|weight|height| age|gender|income|\n",
      "+---+------+------+----+------+------+\n",
      "|  3|  null|   5.2|null|  null|  null|\n",
      "+---+------+------+----+------+------+\n",
      "\n"
     ]
    }
   ],
   "source": [
    "df_miss.where('id == 3').show()"
   ]
  },
  {
   "cell_type": "markdown",
   "metadata": {},
   "source": [
    "What is the percentage of missing observations we see in each column?"
   ]
  },
  {
   "cell_type": "code",
   "execution_count": 12,
   "metadata": {
    "collapsed": false
   },
   "outputs": [
    {
     "name": "stdout",
     "output_type": "stream",
     "text": [
      "+----------+------------------+--------------+------------------+------------------+------------------+\n",
      "|id_missing|    weight_missing|height_missing|       age_missing|    gender_missing|    income_missing|\n",
      "+----------+------------------+--------------+------------------+------------------+------------------+\n",
      "|       0.0|0.1428571428571429|           0.0|0.2857142857142857|0.1428571428571429|0.7142857142857143|\n",
      "+----------+------------------+--------------+------------------+------------------+------------------+\n",
      "\n"
     ]
    }
   ],
   "source": [
    "df_miss.agg(*[\n",
    "    (1 - (fn.count(c) / fn.count('*'))).alias(c + '_missing')\n",
    "    for c in df_miss.columns\n",
    "]).show()"
   ]
  },
  {
   "cell_type": "markdown",
   "metadata": {},
   "source": [
    "We will drop the `'income'` feature as most of its values are missing."
   ]
  },
  {
   "cell_type": "code",
   "execution_count": 14,
   "metadata": {
    "collapsed": false
   },
   "outputs": [
    {
     "name": "stdout",
     "output_type": "stream",
     "text": [
      "+---+------+------+----+------+\n",
      "| id|weight|height| age|gender|\n",
      "+---+------+------+----+------+\n",
      "|  1| 143.5|   5.6|  28|     M|\n",
      "|  2| 167.2|   5.4|  45|     M|\n",
      "|  3|  null|   5.2|null|  null|\n",
      "|  4| 144.5|   5.9|  33|     M|\n",
      "|  5| 133.2|   5.7|  54|     F|\n",
      "|  6| 124.1|   5.2|null|     F|\n",
      "|  7| 129.2|   5.3|  42|     M|\n",
      "+---+------+------+----+------+\n",
      "\n"
     ]
    }
   ],
   "source": [
    "df_miss_no_income = df_miss.select([c for c in df_miss.columns if c != 'income'])\n",
    "df_miss_no_income.show()"
   ]
  },
  {
   "cell_type": "markdown",
   "metadata": {},
   "source": [
    "To drop the observations instead you can use the `.dropna(...)` method."
   ]
  },
  {
   "cell_type": "code",
   "execution_count": 15,
   "metadata": {
    "collapsed": false
   },
   "outputs": [
    {
     "name": "stdout",
     "output_type": "stream",
     "text": [
      "+---+------+------+----+------+\n",
      "| id|weight|height| age|gender|\n",
      "+---+------+------+----+------+\n",
      "|  1| 143.5|   5.6|  28|     M|\n",
      "|  2| 167.2|   5.4|  45|     M|\n",
      "|  4| 144.5|   5.9|  33|     M|\n",
      "|  5| 133.2|   5.7|  54|     F|\n",
      "|  6| 124.1|   5.2|null|     F|\n",
      "|  7| 129.2|   5.3|  42|     M|\n",
      "+---+------+------+----+------+\n",
      "\n"
     ]
    }
   ],
   "source": [
    "df_miss_no_income.dropna(thresh=3).show()"
   ]
  },
  {
   "cell_type": "markdown",
   "metadata": {},
   "source": [
    "To impute a mean, median or other *calculated* value you need to first calculate the value, create a dict with such values, and then pass it to the `.fillna(...)` method."
   ]
  },
  {
   "cell_type": "code",
   "execution_count": 23,
   "metadata": {
    "collapsed": false
   },
   "outputs": [
    {
     "name": "stdout",
     "output_type": "stream",
     "text": [
      "means = {'id': 4.0, 'weight': 140.28333333333333, 'height': 5.4714285714285724, 'age': 40.399999999999999}\n",
      "\n"
     ]
    }
   ],
   "source": [
    "means = df_miss_no_income.agg(\n",
    "    *[fn.mean(c).alias(c) for c in df_miss_no_income.columns if c != 'gender']\n",
    ").toPandas().to_dict('records')[0]\n",
    "\n",
    "print(f'means = {means}\\n')\n",
    "\n",
    "# means['gender'] = 'missing'\n",
    "\n",
    "# df_miss_no_income.fillna(means).show()"
   ]
  },
  {
   "cell_type": "markdown",
   "metadata": {},
   "source": [
    "### Outliers\n",
    "\n",
    "Consider another simple example."
   ]
  },
  {
   "cell_type": "code",
   "execution_count": 32,
   "metadata": {
    "collapsed": false
   },
   "outputs": [],
   "source": [
    "df_outliers = spark.createDataFrame([\n",
    "        (1, 143.5, 5.3, 28),\n",
    "        (2, 154.2, 5.5, 45),\n",
    "        (3, 342.3, 5.1, 99),\n",
    "        (4, 144.5, 5.5, 33),\n",
    "        (5, 133.2, 5.4, 54),\n",
    "        (6, 124.1, 5.1, 21),\n",
    "        (7, 129.2, 5.3, 42),\n",
    "    ], ['id', 'weight', 'height', 'age'])"
   ]
  },
  {
   "cell_type": "markdown",
   "metadata": {},
   "source": [
    "First, we calculate the lower and upper *cut off* points for each feature.\n",
    "\n",
    "Using quartile method for outliers instead of Smirnov‐Grubbs test, Thompson test, etc."
   ]
  },
  {
   "cell_type": "code",
   "execution_count": 33,
   "metadata": {
    "collapsed": false
   },
   "outputs": [],
   "source": [
    "cols = ['weight', 'height', 'age']\n",
    "bounds = {}\n",
    "\n",
    "for col in cols:\n",
    "    quantiles = df_outliers.approxQuantile(col, [0.25, 0.75], 0.05)\n",
    "    IQR = quantiles[1] - quantiles[0]\n",
    "    # print(f'col = {col} Iquantiles = {quantiles} QR = {IQR}')\n",
    "    bounds[col] = [quantiles[0] - 1.5 * IQR, quantiles[1] + 1.5 * IQR]"
   ]
  },
  {
   "cell_type": "markdown",
   "metadata": {},
   "source": [
    "The `bounds` dictionary holds the lower and upper bounds for each feature. "
   ]
  },
  {
   "cell_type": "code",
   "execution_count": 30,
   "metadata": {
    "collapsed": false
   },
   "outputs": [
    {
     "data": {
      "text/plain": [
       "{'age': [-11.0, 93.0],\n",
       " 'height': [4.499999999999999, 6.1000000000000005],\n",
       " 'weight': [91.69999999999999, 191.7]}"
      ]
     },
     "execution_count": 30,
     "metadata": {},
     "output_type": "execute_result"
    }
   ],
   "source": [
    "bounds"
   ]
  },
  {
   "cell_type": "markdown",
   "metadata": {},
   "source": [
    "Let's now use it to flag our outliers."
   ]
  },
  {
   "cell_type": "code",
   "execution_count": 19,
   "metadata": {
    "collapsed": false
   },
   "outputs": [
    {
     "name": "stdout",
     "output_type": "stream",
     "text": [
      "+---+--------+--------+-----+\n",
      "| id|weight_o|height_o|age_o|\n",
      "+---+--------+--------+-----+\n",
      "|  1|   false|   false|false|\n",
      "|  2|    true|   false|false|\n",
      "|  3|    true|   false| true|\n",
      "|  4|   false|   false|false|\n",
      "|  5|   false|   false| true|\n",
      "|  6|   false|   false|false|\n",
      "|  7|   false|   false|false|\n",
      "+---+--------+--------+-----+\n",
      "\n"
     ]
    }
   ],
   "source": [
    "outliers = df_outliers.select(*['id'] + [\n",
    "    (\n",
    "        (df_outliers[c] < bounds[c][0]) | \n",
    "        (df_outliers[c] > bounds[c][1])\n",
    "    ).alias(c + '_o') for c in cols\n",
    "])\n",
    "outliers.show()"
   ]
  },
  {
   "cell_type": "markdown",
   "metadata": {},
   "source": [
    "We have two outliers in the `weight` feature and two in the `age` feature."
   ]
  },
  {
   "cell_type": "code",
   "execution_count": 20,
   "metadata": {
    "collapsed": false
   },
   "outputs": [
    {
     "name": "stdout",
     "output_type": "stream",
     "text": [
      "+---+------+\n",
      "| id|weight|\n",
      "+---+------+\n",
      "|  3| 342.3|\n",
      "|  2| 154.2|\n",
      "+---+------+\n",
      "\n",
      "+---+---+\n",
      "| id|age|\n",
      "+---+---+\n",
      "|  5| 54|\n",
      "|  3| 99|\n",
      "+---+---+\n",
      "\n"
     ]
    }
   ],
   "source": [
    "df_outliers = df_outliers.join(outliers, on='id')\n",
    "df_outliers.filter('weight_o').select('id', 'weight').show()\n",
    "df_outliers.filter('age_o').select('id', 'age').show()"
   ]
  },
  {
   "cell_type": "markdown",
   "metadata": {},
   "source": [
    "## Understand your data\n",
    "\n",
    "### Descriptive statistics"
   ]
  },
  {
   "cell_type": "markdown",
   "metadata": {},
   "source": [
    "Load our data and convert it to a Spark DataFrame."
   ]
  },
  {
   "cell_type": "code",
   "execution_count": 37,
   "metadata": {
    "collapsed": true
   },
   "outputs": [],
   "source": [
    "import pyspark.sql.types as typ"
   ]
  },
  {
   "cell_type": "markdown",
   "metadata": {},
   "source": [
    "Next, we read the data in."
   ]
  },
  {
   "cell_type": "code",
   "execution_count": 36,
   "metadata": {
    "collapsed": false
   },
   "outputs": [],
   "source": [
    "fraud = sc.textFile('/Users/fujitajun/Documents/workspace/learningPySpark/ccFraud.csv.gz')\n",
    "header = fraud.first()\n",
    "\n",
    "fraud = fraud \\\n",
    "    .filter(lambda row: row != header) \\\n",
    "    .map(lambda row: [int(elem) for elem in row.split(',')])"
   ]
  },
  {
   "cell_type": "markdown",
   "metadata": {},
   "source": [
    "Following, we create the schema for our `DataFrame`."
   ]
  },
  {
   "cell_type": "code",
   "execution_count": 39,
   "metadata": {
    "collapsed": true
   },
   "outputs": [],
   "source": [
    "fields = [\n",
    "    *[\n",
    "        typ.StructField(h[1:-1], typ.IntegerType(), True)\n",
    "        for h in header.split(',')\n",
    "    ]\n",
    "]\n",
    "\n",
    "schema = typ.StructType(fields)"
   ]
  },
  {
   "cell_type": "markdown",
   "metadata": {},
   "source": [
    "Finally, we create our `DataFrame`."
   ]
  },
  {
   "cell_type": "code",
   "execution_count": 44,
   "metadata": {
    "collapsed": false
   },
   "outputs": [],
   "source": [
    "fraud_df = spark.createDataFrame(fraud, schema)"
   ]
  },
  {
   "cell_type": "markdown",
   "metadata": {},
   "source": [
    "Now that the dataframe is ready we can calculate the basic descriptive statistics for our dataset. "
   ]
  },
  {
   "cell_type": "code",
   "execution_count": 42,
   "metadata": {
    "collapsed": false
   },
   "outputs": [
    {
     "name": "stdout",
     "output_type": "stream",
     "text": [
      "root\n",
      " |-- custID: integer (nullable = true)\n",
      " |-- gender: integer (nullable = true)\n",
      " |-- state: integer (nullable = true)\n",
      " |-- cardholder: integer (nullable = true)\n",
      " |-- balance: integer (nullable = true)\n",
      " |-- numTrans: integer (nullable = true)\n",
      " |-- numIntlTrans: integer (nullable = true)\n",
      " |-- creditLine: integer (nullable = true)\n",
      " |-- fraudRisk: integer (nullable = true)\n",
      "\n"
     ]
    }
   ],
   "source": [
    "fraud_df.printSchema()"
   ]
  },
  {
   "cell_type": "markdown",
   "metadata": {
    "collapsed": true
   },
   "source": [
    "For categorical columns we will count the frequencies of their values using `.groupby(...)` method."
   ]
  },
  {
   "cell_type": "code",
   "execution_count": 45,
   "metadata": {
    "collapsed": false
   },
   "outputs": [
    {
     "name": "stdout",
     "output_type": "stream",
     "text": [
      "+------+-------+\n",
      "|gender|  count|\n",
      "+------+-------+\n",
      "|     1|6178231|\n",
      "|     2|3821769|\n",
      "+------+-------+\n",
      "\n"
     ]
    }
   ],
   "source": [
    "fraud_df.groupby('gender').count().show()"
   ]
  },
  {
   "cell_type": "markdown",
   "metadata": {},
   "source": [
    "For the truly numerical features we can use the `.describe()` method."
   ]
  },
  {
   "cell_type": "markdown",
   "metadata": {},
   "source": [
    "In english, \n",
    "\n",
    "`記述統計` = descriptive-statistics\n",
    "`歪度` = skewness"
   ]
  },
  {
   "cell_type": "code",
   "execution_count": 27,
   "metadata": {
    "collapsed": true
   },
   "outputs": [],
   "source": [
    "numerical = ['balance', 'numTrans', 'numIntlTrans']"
   ]
  },
  {
   "cell_type": "code",
   "execution_count": 28,
   "metadata": {
    "collapsed": false
   },
   "outputs": [
    {
     "name": "stdout",
     "output_type": "stream",
     "text": [
      "+-------+-----------------+------------------+-----------------+\n",
      "|summary|          balance|          numTrans|     numIntlTrans|\n",
      "+-------+-----------------+------------------+-----------------+\n",
      "|  count|         10000000|          10000000|         10000000|\n",
      "|   mean|     4109.9199193|        28.9351871|        4.0471899|\n",
      "| stddev|3996.847309737077|26.553781024522852|8.602970115863767|\n",
      "|    min|                0|                 0|                0|\n",
      "|    max|            41485|               100|               60|\n",
      "+-------+-----------------+------------------+-----------------+\n",
      "\n"
     ]
    }
   ],
   "source": [
    "desc = fraud_df.describe(numerical)\n",
    "desc.show()"
   ]
  },
  {
   "cell_type": "markdown",
   "metadata": {},
   "source": [
    "Here's how you check skewness and kurtosis (we will do it for the `'balance'` feature only)."
   ]
  },
  {
   "cell_type": "code",
   "execution_count": 48,
   "metadata": {
    "collapsed": false
   },
   "outputs": [
    {
     "name": "stdout",
     "output_type": "stream",
     "text": [
      "+-----------------+\n",
      "|kurtosis(balance)|\n",
      "+-----------------+\n",
      "|1.826501325798854|\n",
      "+-----------------+\n",
      "\n"
     ]
    }
   ],
   "source": [
    "fraud_df.agg({'balance': 'kurtosis'}).show()"
   ]
  },
  {
   "cell_type": "markdown",
   "metadata": {
    "collapsed": true
   },
   "source": [
    "### Correlations"
   ]
  },
  {
   "cell_type": "markdown",
   "metadata": {
    "collapsed": true
   },
   "source": [
    "Calculating correlations in PySpark is very easy once your data is in a DataFrame form.\n",
    "\n",
    "`corr(...)` method only support Pearson correlation　at the moment."
   ]
  },
  {
   "cell_type": "code",
   "execution_count": 49,
   "metadata": {
    "collapsed": false
   },
   "outputs": [
    {
     "data": {
      "text/plain": [
       "0.00044523140172659576"
      ]
     },
     "execution_count": 49,
     "metadata": {},
     "output_type": "execute_result"
    }
   ],
   "source": [
    "fraud_df.corr('balance', 'numTrans')"
   ]
  },
  {
   "cell_type": "markdown",
   "metadata": {},
   "source": [
    "In order to create a correlations matrix you can use the script below."
   ]
  },
  {
   "cell_type": "code",
   "execution_count": 30,
   "metadata": {
    "collapsed": false
   },
   "outputs": [
    {
     "data": {
      "text/plain": [
       "[[1.0, 0.00044523140172659576, 0.00027139913398184604],\n",
       " [None, 1.0, -0.0002805712819816179],\n",
       " [None, None, 1.0]]"
      ]
     },
     "execution_count": 30,
     "metadata": {},
     "output_type": "execute_result"
    }
   ],
   "source": [
    "n_numerical = len(numerical)\n",
    "\n",
    "corr = []\n",
    "\n",
    "for i in range(0, n_numerical):\n",
    "    temp = [None] * i\n",
    "    \n",
    "    for j in range(i, n_numerical):\n",
    "        temp.append(fraud_df.corr(numerical[i], numerical[j]))\n",
    "    corr.append(temp)\n",
    "    \n",
    "corr"
   ]
  },
  {
   "cell_type": "markdown",
   "metadata": {
    "collapsed": true
   },
   "source": [
    "### Visualization"
   ]
  },
  {
   "cell_type": "markdown",
   "metadata": {
    "collapsed": true
   },
   "source": [
    "First, let's load the modules and set them up."
   ]
  },
  {
   "cell_type": "code",
   "execution_count": 50,
   "metadata": {
    "collapsed": false
   },
   "outputs": [
    {
     "data": {
      "text/html": [
       "\n",
       "    <div class=\"bk-root\">\n",
       "        <a href=\"http://bokeh.pydata.org\" target=\"_blank\" class=\"bk-logo bk-logo-small bk-logo-notebook\"></a>\n",
       "        <span id=\"4f41a609-4d3b-4b8c-8cb6-e27cfcb4011c\">Loading BokehJS ...</span>\n",
       "    </div>"
      ]
     },
     "metadata": {},
     "output_type": "display_data"
    },
    {
     "data": {
      "application/javascript": [
       "\n",
       "(function(global) {\n",
       "  function now() {\n",
       "    return new Date();\n",
       "  }\n",
       "\n",
       "  var force = true;\n",
       "\n",
       "  if (typeof (window._bokeh_onload_callbacks) === \"undefined\" || force === true) {\n",
       "    window._bokeh_onload_callbacks = [];\n",
       "    window._bokeh_is_loading = undefined;\n",
       "  }\n",
       "\n",
       "\n",
       "  \n",
       "  if (typeof (window._bokeh_timeout) === \"undefined\" || force === true) {\n",
       "    window._bokeh_timeout = Date.now() + 5000;\n",
       "    window._bokeh_failed_load = false;\n",
       "  }\n",
       "\n",
       "  var NB_LOAD_WARNING = {'data': {'text/html':\n",
       "     \"<div style='background-color: #fdd'>\\n\"+\n",
       "     \"<p>\\n\"+\n",
       "     \"BokehJS does not appear to have successfully loaded. If loading BokehJS from CDN, this \\n\"+\n",
       "     \"may be due to a slow or bad network connection. Possible fixes:\\n\"+\n",
       "     \"</p>\\n\"+\n",
       "     \"<ul>\\n\"+\n",
       "     \"<li>re-rerun `output_notebook()` to attempt to load from CDN again, or</li>\\n\"+\n",
       "     \"<li>use INLINE resources instead, as so:</li>\\n\"+\n",
       "     \"</ul>\\n\"+\n",
       "     \"<code>\\n\"+\n",
       "     \"from bokeh.resources import INLINE\\n\"+\n",
       "     \"output_notebook(resources=INLINE)\\n\"+\n",
       "     \"</code>\\n\"+\n",
       "     \"</div>\"}};\n",
       "\n",
       "  function display_loaded() {\n",
       "    if (window.Bokeh !== undefined) {\n",
       "      document.getElementById(\"4f41a609-4d3b-4b8c-8cb6-e27cfcb4011c\").textContent = \"BokehJS successfully loaded.\";\n",
       "    } else if (Date.now() < window._bokeh_timeout) {\n",
       "      setTimeout(display_loaded, 100)\n",
       "    }\n",
       "  }\n",
       "\n",
       "  function run_callbacks() {\n",
       "    window._bokeh_onload_callbacks.forEach(function(callback) { callback() });\n",
       "    delete window._bokeh_onload_callbacks\n",
       "    console.info(\"Bokeh: all callbacks have finished\");\n",
       "  }\n",
       "\n",
       "  function load_libs(js_urls, callback) {\n",
       "    window._bokeh_onload_callbacks.push(callback);\n",
       "    if (window._bokeh_is_loading > 0) {\n",
       "      console.log(\"Bokeh: BokehJS is being loaded, scheduling callback at\", now());\n",
       "      return null;\n",
       "    }\n",
       "    if (js_urls == null || js_urls.length === 0) {\n",
       "      run_callbacks();\n",
       "      return null;\n",
       "    }\n",
       "    console.log(\"Bokeh: BokehJS not loaded, scheduling load and callback at\", now());\n",
       "    window._bokeh_is_loading = js_urls.length;\n",
       "    for (var i = 0; i < js_urls.length; i++) {\n",
       "      var url = js_urls[i];\n",
       "      var s = document.createElement('script');\n",
       "      s.src = url;\n",
       "      s.async = false;\n",
       "      s.onreadystatechange = s.onload = function() {\n",
       "        window._bokeh_is_loading--;\n",
       "        if (window._bokeh_is_loading === 0) {\n",
       "          console.log(\"Bokeh: all BokehJS libraries loaded\");\n",
       "          run_callbacks()\n",
       "        }\n",
       "      };\n",
       "      s.onerror = function() {\n",
       "        console.warn(\"failed to load library \" + url);\n",
       "      };\n",
       "      console.log(\"Bokeh: injecting script tag for BokehJS library: \", url);\n",
       "      document.getElementsByTagName(\"head\")[0].appendChild(s);\n",
       "    }\n",
       "  };var element = document.getElementById(\"4f41a609-4d3b-4b8c-8cb6-e27cfcb4011c\");\n",
       "  if (element == null) {\n",
       "    console.log(\"Bokeh: ERROR: autoload.js configured with elementid '4f41a609-4d3b-4b8c-8cb6-e27cfcb4011c' but no matching script tag was found. \")\n",
       "    return false;\n",
       "  }\n",
       "\n",
       "  var js_urls = [\"https://cdn.pydata.org/bokeh/release/bokeh-0.12.4.min.js\", \"https://cdn.pydata.org/bokeh/release/bokeh-widgets-0.12.4.min.js\"];\n",
       "\n",
       "  var inline_js = [\n",
       "    function(Bokeh) {\n",
       "      Bokeh.set_log_level(\"info\");\n",
       "    },\n",
       "    \n",
       "    function(Bokeh) {\n",
       "      \n",
       "      document.getElementById(\"4f41a609-4d3b-4b8c-8cb6-e27cfcb4011c\").textContent = \"BokehJS is loading...\";\n",
       "    },\n",
       "    function(Bokeh) {\n",
       "      console.log(\"Bokeh: injecting CSS: https://cdn.pydata.org/bokeh/release/bokeh-0.12.4.min.css\");\n",
       "      Bokeh.embed.inject_css(\"https://cdn.pydata.org/bokeh/release/bokeh-0.12.4.min.css\");\n",
       "      console.log(\"Bokeh: injecting CSS: https://cdn.pydata.org/bokeh/release/bokeh-widgets-0.12.4.min.css\");\n",
       "      Bokeh.embed.inject_css(\"https://cdn.pydata.org/bokeh/release/bokeh-widgets-0.12.4.min.css\");\n",
       "    }\n",
       "  ];\n",
       "\n",
       "  function run_inline_js() {\n",
       "    \n",
       "    if ((window.Bokeh !== undefined) || (force === true)) {\n",
       "      for (var i = 0; i < inline_js.length; i++) {\n",
       "        inline_js[i](window.Bokeh);\n",
       "      }if (force === true) {\n",
       "        display_loaded();\n",
       "      }} else if (Date.now() < window._bokeh_timeout) {\n",
       "      setTimeout(run_inline_js, 100);\n",
       "    } else if (!window._bokeh_failed_load) {\n",
       "      console.log(\"Bokeh: BokehJS failed to load within specified timeout.\");\n",
       "      window._bokeh_failed_load = true;\n",
       "    } else if (force !== true) {\n",
       "      var cell = $(document.getElementById(\"4f41a609-4d3b-4b8c-8cb6-e27cfcb4011c\")).parents('.cell').data().cell;\n",
       "      cell.output_area.append_execute_result(NB_LOAD_WARNING)\n",
       "    }\n",
       "\n",
       "  }\n",
       "\n",
       "  if (window._bokeh_is_loading === 0) {\n",
       "    console.log(\"Bokeh: BokehJS loaded, going straight to plotting\");\n",
       "    run_inline_js();\n",
       "  } else {\n",
       "    load_libs(js_urls, function() {\n",
       "      console.log(\"Bokeh: BokehJS plotting callback run at\", now());\n",
       "      run_inline_js();\n",
       "    });\n",
       "  }\n",
       "}(this));"
      ]
     },
     "metadata": {},
     "output_type": "display_data"
    }
   ],
   "source": [
    "%matplotlib inline\n",
    "import matplotlib.pyplot as plt\n",
    "plt.style.use('ggplot')\n",
    "\n",
    "import bokeh.charts as chrt\n",
    "from bokeh.io import output_notebook\n",
    "\n",
    "output_notebook()"
   ]
  },
  {
   "cell_type": "markdown",
   "metadata": {
    "collapsed": true
   },
   "source": [
    "### Histograms\n",
    "\n",
    "Aggreagate the data in workers and return aggregated list of cut-off points and counts in each bin of the histogram to the driver."
   ]
  },
  {
   "cell_type": "code",
   "execution_count": 51,
   "metadata": {
    "collapsed": false
   },
   "outputs": [],
   "source": [
    "hists = fraud_df.select('balance').rdd.flatMap(lambda row: row).histogram(20)"
   ]
  },
  {
   "cell_type": "markdown",
   "metadata": {},
   "source": [
    "To plot the histogram you can simply call the matplotlib like below."
   ]
  },
  {
   "cell_type": "code",
   "execution_count": 39,
   "metadata": {
    "collapsed": false
   },
   "outputs": [
    {
     "data": {
      "image/png": "[encoded data removed]",
      "text/plain": [
       "<matplotlib.figure.Figure at 0x11923e2b0>"
      ]
     },
     "metadata": {},
     "output_type": "display_data"
    }
   ],
   "source": [
    "data = {\n",
    "    'bins': hists[0][:-1],\n",
    "    'freq': hists[1]\n",
    "}\n",
    "\n",
    "fig = plt.figure(figsize=(12,9))\n",
    "ax = fig.add_subplot(1, 1, 1)\n",
    "ax.bar(data['bins'], data['freq'], width=2000)\n",
    "ax.set_title('Histogram of \\'balance\\'')\n",
    "\n",
    "plt.savefig('B05793_05_22.png', dpi=300)"
   ]
  },
  {
   "cell_type": "markdown",
   "metadata": {},
   "source": [
    "In a similar manner, a histogram can be create with Bokeh."
   ]
  },
  {
   "cell_type": "code",
   "execution_count": 41,
   "metadata": {
    "collapsed": false
   },
   "outputs": [
    {
     "name": "stderr",
     "output_type": "stream",
     "text": [
      "/Users/drabast/anaconda/lib/python3.5/site-packages/bokeh/charts/_attributes.py:78: FutureWarning: sort(columns=....) is deprecated, use sort_values(by=.....)\n",
      "  df = df.sort(columns=columns)\n"
     ]
    },
    {
     "data": {
      "text/html": [
       "<script type=\"text/javascript\">\n",
       "        Bokeh.$(function() {\n",
       "        var all_models = [{\"id\": \"1aea33e2-0f77-4299-9815-dafbbcbade35\", \"type\": \"GlyphRenderer\", \"attributes\": {\"id\": \"1aea33e2-0f77-4299-9815-dafbbcbade35\", \"tags\": [], \"selection_glyph\": null, \"doc\": null, \"data_source\": {\"id\": \"7cb45699-3a6c-498f-91df-5d811b704889\", \"type\": \"ColumnDataSource\"}, \"glyph\": {\"id\": \"ec5508bb-f1f3-4f6e-846c-1ae75aba42b8\", \"type\": \"Rect\"}, \"nonselection_glyph\": null}}, {\"id\": \"1ee52f41-6871-42d1-889b-d76e930f37ea\", \"type\": \"GlyphRenderer\", \"attributes\": {\"id\": \"1ee52f41-6871-42d1-889b-d76e930f37ea\", \"tags\": [], \"selection_glyph\": null, \"doc\": null, \"data_source\": {\"id\": \"d75e14ec-9628-458b-aee2-39885a00f9cc\", \"type\": \"ColumnDataSource\"}, \"glyph\": {\"id\": \"b0f81089-4dda-47d0-b397-1e5914dde3de\", \"type\": \"Rect\"}, \"nonselection_glyph\": null}}, {\"id\": \"4766b346-8ee1-4cea-afdf-1ec62a69061a\", \"type\": \"GlyphRenderer\", \"attributes\": {\"id\": \"4766b346-8ee1-4cea-afdf-1ec62a69061a\", \"tags\": [], \"selection_glyph\": null, \"doc\": null, \"data_source\": {\"id\": \"2fe0fdb0-ca0d-405f-b24f-211b292bf7f9\", \"type\": \"ColumnDataSource\"}, \"glyph\": {\"id\": \"97b93931-7b3e-473a-afb5-eb982302aafe\", \"type\": \"Rect\"}, \"nonselection_glyph\": null}}, {\"id\": \"b0f81089-4dda-47d0-b397-1e5914dde3de\", \"type\": \"Rect\", \"attributes\": {\"width\": {\"units\": \"data\", \"field\": \"width\"}, \"fill_color\": {\"field\": \"color\"}, \"x\": {\"field\": \"x\"}, \"tags\": [], \"height\": {\"units\": \"data\", \"field\": \"height\"}, \"y\": {\"field\": \"y\"}, \"doc\": null, \"fill_alpha\": {\"field\": \"fill_alpha\"}, \"id\": \"b0f81089-4dda-47d0-b397-1e5914dde3de\"}}, {\"id\": \"33897aa7-b402-4bb1-ae8b-aac3d0bd4f2f\", \"type\": \"PreviewSaveTool\", \"attributes\": {\"id\": \"33897aa7-b402-4bb1-ae8b-aac3d0bd4f2f\", \"tags\": [], \"plot\": {\"id\": \"43eb23e9-7714-4ad3-8c99-f24122e57843\", \"subtype\": \"Chart\", \"type\": \"Plot\"}, \"doc\": null}}, {\"id\": \"5fdb08bb-f6d4-4c9f-bbff-b7ec94ad0445\", \"type\": \"FactorRange\", \"attributes\": {\"id\": \"5fdb08bb-f6d4-4c9f-bbff-b7ec94ad0445\", \"factors\": [\"0.0\", \"2074.25\", \"4148.5\", \"6222.75\", \"8297.0\", \"10371.25\", \"12445.5\", \"14519.75\", \"16594.0\", \"18668.25\", \"20742.5\", \"22816.75\", \"24891.0\", \"26965.25\", \"29039.5\", \"31113.75\", \"33188.0\", \"35262.25\", \"37336.5\", \"39410.75\"], \"tags\": [], \"callback\": null, \"doc\": null}}, {\"id\": \"b5f27a3f-ebab-4f66-8b9c-78460364e979\", \"type\": \"ColumnDataSource\", \"attributes\": {\"id\": \"b5f27a3f-ebab-4f66-8b9c-78460364e979\", \"data\": {\"width\": [0.8], \"x\": [\"22816.75\"], \"height\": [5805.0], \"color\": [\"#f22c40\"], \"fill_alpha\": [0.8], \"y\": [2902.5]}, \"callback\": null, \"tags\": [], \"doc\": null, \"selected\": {\"2d\": {\"indices\": []}, \"0d\": {\"indices\": [], \"flag\": false}, \"1d\": {\"indices\": []}}, \"column_names\": [\"width\", \"x\", \"height\", \"color\", \"fill_alpha\", \"y\"]}}, {\"id\": \"f70af274-50ce-4ff1-b044-9d1e7a281db7\", \"type\": \"ColumnDataSource\", \"attributes\": {\"id\": \"f70af274-50ce-4ff1-b044-9d1e7a281db7\", \"data\": {\"width\": [0.8], \"x\": [\"4148.5\"], \"height\": [1718633.0], \"color\": [\"#f22c40\"], \"fill_alpha\": [0.8], \"y\": [859316.5]}, \"callback\": null, \"tags\": [], \"doc\": null, \"selected\": {\"2d\": {\"indices\": []}, \"0d\": {\"indices\": [], \"flag\": false}, \"1d\": {\"indices\": []}}, \"column_names\": [\"width\", \"x\", \"height\", \"color\", \"fill_alpha\", \"y\"]}}, {\"id\": \"b8ec485f-c66f-458a-863a-adbbfc5e0c52\", \"type\": \"GlyphRenderer\", \"attributes\": {\"id\": \"b8ec485f-c66f-458a-863a-adbbfc5e0c52\", \"tags\": [], \"selection_glyph\": null, \"doc\": null, \"data_source\": {\"id\": \"0c298d33-6c8f-4ba8-87c3-665394ffcdff\", \"type\": \"ColumnDataSource\"}, \"glyph\": {\"id\": \"c3b73a1a-807b-41ee-9763-b19392cecb27\", \"type\": \"Rect\"}, \"nonselection_glyph\": null}}, {\"id\": \"97b93931-7b3e-473a-afb5-eb982302aafe\", \"type\": \"Rect\", \"attributes\": {\"width\": {\"units\": \"data\", \"field\": \"width\"}, \"fill_color\": {\"field\": \"color\"}, \"x\": {\"field\": \"x\"}, \"tags\": [], \"height\": {\"units\": \"data\", \"field\": \"height\"}, \"y\": {\"field\": \"y\"}, \"doc\": null, \"fill_alpha\": {\"field\": \"fill_alpha\"}, \"id\": \"97b93931-7b3e-473a-afb5-eb982302aafe\"}}, {\"id\": \"d63bd1c2-c109-4edb-9026-c480114655cc\", \"type\": \"ColumnDataSource\", \"attributes\": {\"id\": \"d63bd1c2-c109-4edb-9026-c480114655cc\", \"data\": {\"width\": [0.8], \"x\": [\"31113.75\"], \"height\": [127.0], \"color\": [\"#f22c40\"], \"fill_alpha\": [0.8], \"y\": [63.5]}, \"callback\": null, \"tags\": [], \"doc\": null, \"selected\": {\"2d\": {\"indices\": []}, \"0d\": {\"indices\": [], \"flag\": false}, \"1d\": {\"indices\": []}}, \"column_names\": [\"width\", \"x\", \"height\", \"color\", \"fill_alpha\", \"y\"]}}, {\"id\": \"8df55f6e-2b97-4184-974b-3026bd15bae2\", \"type\": \"ColumnDataSource\", \"attributes\": {\"id\": \"8df55f6e-2b97-4184-974b-3026bd15bae2\", \"data\": {\"width\": [0.8], \"x\": [\"18668.25\"], \"height\": [27570.0], \"color\": [\"#f22c40\"], \"fill_alpha\": [0.8], \"y\": [13785.0]}, \"callback\": null, \"tags\": [], \"doc\": null, \"selected\": {\"2d\": {\"indices\": []}, \"0d\": {\"indices\": [], \"flag\": false}, \"1d\": {\"indices\": []}}, \"column_names\": [\"width\", \"x\", \"height\", \"color\", \"fill_alpha\", \"y\"]}}, {\"id\": \"d3e4b7dc-d311-4e35-91f9-835193df19b5\", \"type\": \"GlyphRenderer\", \"attributes\": {\"id\": \"d3e4b7dc-d311-4e35-91f9-835193df19b5\", \"tags\": [], \"selection_glyph\": null, \"doc\": null, \"data_source\": {\"id\": \"d63bd1c2-c109-4edb-9026-c480114655cc\", \"type\": \"ColumnDataSource\"}, \"glyph\": {\"id\": \"3aec7749-c2db-4e64-ae27-1b1305bbf0cc\", \"type\": \"Rect\"}, \"nonselection_glyph\": null}}, {\"id\": \"87db1b0c-fc2a-43b4-a457-01b2e82bce39\", \"type\": \"Range1d\", \"attributes\": {\"start\": 0.0, \"id\": \"87db1b0c-fc2a-43b4-a457-01b2e82bce39\", \"tags\": [], \"callback\": null, \"end\": 4004023.1, \"doc\": null}}, {\"id\": \"cee67f9d-6366-4214-83bb-f3d3fa5e6ba9\", \"type\": \"GlyphRenderer\", \"attributes\": {\"id\": \"cee67f9d-6366-4214-83bb-f3d3fa5e6ba9\", \"tags\": [], \"selection_glyph\": null, \"doc\": null, \"data_source\": {\"id\": \"1c14bec5-9a3f-48e2-ba55-803bd232e42c\", \"type\": \"ColumnDataSource\"}, \"glyph\": {\"id\": \"6b0b2a09-e884-4a7b-94cd-22aac6254994\", \"type\": \"Rect\"}, \"nonselection_glyph\": null}}, {\"id\": \"a48da264-3728-4591-b343-51c1b6f9f78f\", \"type\": \"GlyphRenderer\", \"attributes\": {\"id\": \"a48da264-3728-4591-b343-51c1b6f9f78f\", \"tags\": [], \"selection_glyph\": null, \"doc\": null, \"data_source\": {\"id\": \"f0b5ec83-1b50-4aed-b988-c7fa5a519647\", \"type\": \"ColumnDataSource\"}, \"glyph\": {\"id\": \"740146ba-7dca-4aca-b9b2-dc3a138f444e\", \"type\": \"Rect\"}, \"nonselection_glyph\": null}}, {\"id\": \"1a986d9f-bbb8-4037-93ad-d32ec4d9a8ce\", \"type\": \"Rect\", \"attributes\": {\"width\": {\"units\": \"data\", \"field\": \"width\"}, \"fill_color\": {\"field\": \"color\"}, \"x\": {\"field\": \"x\"}, \"tags\": [], \"height\": {\"units\": \"data\", \"field\": \"height\"}, \"y\": {\"field\": \"y\"}, \"doc\": null, \"fill_alpha\": {\"field\": \"fill_alpha\"}, \"id\": \"1a986d9f-bbb8-4037-93ad-d32ec4d9a8ce\"}}, {\"id\": \"740146ba-7dca-4aca-b9b2-dc3a138f444e\", \"type\": \"Rect\", \"attributes\": {\"width\": {\"units\": \"data\", \"field\": \"width\"}, \"fill_color\": {\"field\": \"color\"}, \"x\": {\"field\": \"x\"}, \"tags\": [], \"height\": {\"units\": \"data\", \"field\": \"height\"}, \"y\": {\"field\": \"y\"}, \"doc\": null, \"fill_alpha\": {\"field\": \"fill_alpha\"}, \"id\": \"740146ba-7dca-4aca-b9b2-dc3a138f444e\"}}, {\"id\": \"57ad941d-5bf2-4494-977b-4e95c070f11d\", \"type\": \"GlyphRenderer\", \"attributes\": {\"id\": \"57ad941d-5bf2-4494-977b-4e95c070f11d\", \"tags\": [], \"selection_glyph\": null, \"doc\": null, \"data_source\": {\"id\": \"91f0865e-4b48-4d30-9ae1-b02b54b1e9f0\", \"type\": \"ColumnDataSource\"}, \"glyph\": {\"id\": \"66aacbb5-fba5-41e2-b82e-42eefad8808a\", \"type\": \"Rect\"}, \"nonselection_glyph\": null}}, {\"id\": \"66aacbb5-fba5-41e2-b82e-42eefad8808a\", \"type\": \"Rect\", \"attributes\": {\"width\": {\"units\": \"data\", \"field\": \"width\"}, \"fill_color\": {\"field\": \"color\"}, \"x\": {\"field\": \"x\"}, \"tags\": [], \"height\": {\"units\": \"data\", \"field\": \"height\"}, \"y\": {\"field\": \"y\"}, \"doc\": null, \"fill_alpha\": {\"field\": \"fill_alpha\"}, \"id\": \"66aacbb5-fba5-41e2-b82e-42eefad8808a\"}}, {\"id\": \"0d149a28-c194-4710-9058-a89f4733f560\", \"type\": \"CategoricalTicker\", \"attributes\": {\"id\": \"0d149a28-c194-4710-9058-a89f4733f560\", \"doc\": null, \"tags\": []}}, {\"id\": \"018fe626-71d3-4388-9c62-af2139815526\", \"type\": \"ToolEvents\", \"attributes\": {\"id\": \"018fe626-71d3-4388-9c62-af2139815526\", \"geometries\": [], \"tags\": [], \"doc\": null}}, {\"id\": \"8dbe7270-34a7-4ca6-930d-5b393e9d64ee\", \"type\": \"ResetTool\", \"attributes\": {\"id\": \"8dbe7270-34a7-4ca6-930d-5b393e9d64ee\", \"tags\": [], \"plot\": {\"id\": \"43eb23e9-7714-4ad3-8c99-f24122e57843\", \"subtype\": \"Chart\", \"type\": \"Plot\"}, \"doc\": null}}, {\"id\": \"8234285e-0e21-425b-beb1-b4d4762c45ac\", \"type\": \"LinearAxis\", \"attributes\": {\"ticker\": {\"id\": \"705631d9-043b-4494-b4bd-1ece604d84c4\", \"type\": \"BasicTicker\"}, \"axis_label\": \"Sum( Freq )\", \"tags\": [], \"id\": \"8234285e-0e21-425b-beb1-b4d4762c45ac\", \"plot\": {\"id\": \"43eb23e9-7714-4ad3-8c99-f24122e57843\", \"subtype\": \"Chart\", \"type\": \"Plot\"}, \"doc\": null, \"formatter\": {\"id\": \"503836b6-11c9-4eca-8c4b-1e04765a4130\", \"type\": \"BasicTickFormatter\"}}}, {\"id\": \"6f2a35dc-1dc1-40df-9cc2-96251258d408\", \"type\": \"WheelZoomTool\", \"attributes\": {\"id\": \"6f2a35dc-1dc1-40df-9cc2-96251258d408\", \"dimensions\": [\"width\", \"height\"], \"tags\": [], \"plot\": {\"id\": \"43eb23e9-7714-4ad3-8c99-f24122e57843\", \"subtype\": \"Chart\", \"type\": \"Plot\"}, \"doc\": null}}, {\"id\": \"7cb45699-3a6c-498f-91df-5d811b704889\", \"type\": \"ColumnDataSource\", \"attributes\": {\"id\": \"7cb45699-3a6c-498f-91df-5d811b704889\", \"data\": {\"width\": [0.8], \"x\": [\"35262.25\"], \"height\": [15.0], \"color\": [\"#f22c40\"], \"fill_alpha\": [0.8], \"y\": [7.5]}, \"callback\": null, \"tags\": [], \"doc\": null, \"selected\": {\"2d\": {\"indices\": []}, \"0d\": {\"indices\": [], \"flag\": false}, \"1d\": {\"indices\": []}}, \"column_names\": [\"width\", \"x\", \"height\", \"color\", \"fill_alpha\", \"y\"]}}, {\"id\": \"161623d0-daf9-47c4-9ce3-4c999f7b6a2f\", \"type\": \"Rect\", \"attributes\": {\"width\": {\"units\": \"data\", \"field\": \"width\"}, \"fill_color\": {\"field\": \"color\"}, \"x\": {\"field\": \"x\"}, \"tags\": [], \"height\": {\"units\": \"data\", \"field\": \"height\"}, \"y\": {\"field\": \"y\"}, \"doc\": null, \"fill_alpha\": {\"field\": \"fill_alpha\"}, \"id\": \"161623d0-daf9-47c4-9ce3-4c999f7b6a2f\"}}, {\"id\": \"503836b6-11c9-4eca-8c4b-1e04765a4130\", \"type\": \"BasicTickFormatter\", \"attributes\": {\"id\": \"503836b6-11c9-4eca-8c4b-1e04765a4130\", \"doc\": null, \"tags\": []}}, {\"id\": \"ac8b230d-8ba9-4a69-9be0-d49a1aa2d937\", \"type\": \"GlyphRenderer\", \"attributes\": {\"id\": \"ac8b230d-8ba9-4a69-9be0-d49a1aa2d937\", \"tags\": [], \"selection_glyph\": null, \"doc\": null, \"data_source\": {\"id\": \"60cabe7b-4fa7-44e9-9325-5f110c04ddb4\", \"type\": \"ColumnDataSource\"}, \"glyph\": {\"id\": \"0c8a924b-4c4c-480f-aae0-0958ea622f55\", \"type\": \"Rect\"}, \"nonselection_glyph\": null}}, {\"id\": \"c3ac9d0e-be49-48fb-bca7-b68c060a83f4\", \"type\": \"GlyphRenderer\", \"attributes\": {\"id\": \"c3ac9d0e-be49-48fb-bca7-b68c060a83f4\", \"tags\": [], \"selection_glyph\": null, \"doc\": null, \"data_source\": {\"id\": \"b5f27a3f-ebab-4f66-8b9c-78460364e979\", \"type\": \"ColumnDataSource\"}, \"glyph\": {\"id\": \"bb189a12-01e8-41ac-9709-717b02aae620\", \"type\": \"Rect\"}, \"nonselection_glyph\": null}}, {\"id\": \"e5b86a24-3f10-4d75-8a2b-8f9e7726cf52\", \"type\": \"ColumnDataSource\", \"attributes\": {\"id\": \"e5b86a24-3f10-4d75-8a2b-8f9e7726cf52\", \"data\": {\"width\": [0.8], \"x\": [\"26965.25\"], \"height\": [1103.0], \"color\": [\"#f22c40\"], \"fill_alpha\": [0.8], \"y\": [551.5]}, \"callback\": null, \"tags\": [], \"doc\": null, \"selected\": {\"2d\": {\"indices\": []}, \"0d\": {\"indices\": [], \"flag\": false}, \"1d\": {\"indices\": []}}, \"column_names\": [\"width\", \"x\", \"height\", \"color\", \"fill_alpha\", \"y\"]}}, {\"id\": \"f0b5ec83-1b50-4aed-b988-c7fa5a519647\", \"type\": \"ColumnDataSource\", \"attributes\": {\"id\": \"f0b5ec83-1b50-4aed-b988-c7fa5a519647\", \"data\": {\"width\": [0.8], \"x\": [\"24891.0\"], \"height\": [2650.0], \"color\": [\"#f22c40\"], \"fill_alpha\": [0.8], \"y\": [1325.0]}, \"callback\": null, \"tags\": [], \"doc\": null, \"selected\": {\"2d\": {\"indices\": []}, \"0d\": {\"indices\": [], \"flag\": false}, \"1d\": {\"indices\": []}}, \"column_names\": [\"width\", \"x\", \"height\", \"color\", \"fill_alpha\", \"y\"]}}, {\"id\": \"b092ed11-2f0e-4aee-a909-204cb7f4f004\", \"type\": \"GlyphRenderer\", \"attributes\": {\"id\": \"b092ed11-2f0e-4aee-a909-204cb7f4f004\", \"tags\": [], \"selection_glyph\": null, \"doc\": null, \"data_source\": {\"id\": \"dcf6ea56-2fb3-41b3-8b69-9094b63e3916\", \"type\": \"ColumnDataSource\"}, \"glyph\": {\"id\": \"8bef513e-ce33-4fe4-a725-784372257266\", \"type\": \"Rect\"}, \"nonselection_glyph\": null}}, {\"id\": \"bbb04421-78c4-479b-9d61-1ee06abf15a8\", \"type\": \"ColumnDataSource\", \"attributes\": {\"id\": \"bbb04421-78c4-479b-9d61-1ee06abf15a8\", \"data\": {\"width\": [0.8], \"x\": [\"6222.75\"], \"height\": [1035019.0], \"color\": [\"#f22c40\"], \"fill_alpha\": [0.8], \"y\": [517509.5]}, \"callback\": null, \"tags\": [], \"doc\": null, \"selected\": {\"2d\": {\"indices\": []}, \"0d\": {\"indices\": [], \"flag\": false}, \"1d\": {\"indices\": []}}, \"column_names\": [\"width\", \"x\", \"height\", \"color\", \"fill_alpha\", \"y\"]}}, {\"id\": \"33f9e201-5a73-4ff8-94e1-d5dfc32e3631\", \"type\": \"GlyphRenderer\", \"attributes\": {\"id\": \"33f9e201-5a73-4ff8-94e1-d5dfc32e3631\", \"tags\": [], \"selection_glyph\": null, \"doc\": null, \"data_source\": {\"id\": \"bbb04421-78c4-479b-9d61-1ee06abf15a8\", \"type\": \"ColumnDataSource\"}, \"glyph\": {\"id\": \"09fbd9af-a146-4ac7-bbe7-87d3887320e1\", \"type\": \"Rect\"}, \"nonselection_glyph\": null}}, {\"id\": \"fcbcdb73-f58a-4960-82d4-ad77586ed1f4\", \"type\": \"HelpTool\", \"attributes\": {\"id\": \"fcbcdb73-f58a-4960-82d4-ad77586ed1f4\", \"tags\": [], \"plot\": {\"id\": \"43eb23e9-7714-4ad3-8c99-f24122e57843\", \"subtype\": \"Chart\", \"type\": \"Plot\"}, \"doc\": null}}, {\"id\": \"0c298d33-6c8f-4ba8-87c3-665394ffcdff\", \"type\": \"ColumnDataSource\", \"attributes\": {\"id\": \"0c298d33-6c8f-4ba8-87c3-665394ffcdff\", \"data\": {\"width\": [0.8], \"x\": [\"39410.75\"], \"height\": [4.0], \"color\": [\"#f22c40\"], \"fill_alpha\": [0.8], \"y\": [2.0]}, \"callback\": null, \"tags\": [], \"doc\": null, \"selected\": {\"2d\": {\"indices\": []}, \"0d\": {\"indices\": [], \"flag\": false}, \"1d\": {\"indices\": []}}, \"column_names\": [\"width\", \"x\", \"height\", \"color\", \"fill_alpha\", \"y\"]}}, {\"id\": \"604b4c0c-835b-4fee-b83e-cd334a0dadf3\", \"type\": \"ColumnDataSource\", \"attributes\": {\"id\": \"604b4c0c-835b-4fee-b83e-cd334a0dadf3\", \"data\": {\"width\": [0.8], \"x\": [\"37336.5\"], \"height\": [1.0], \"color\": [\"#f22c40\"], \"fill_alpha\": [0.8], \"y\": [0.5]}, \"callback\": null, \"tags\": [], \"doc\": null, \"selected\": {\"2d\": {\"indices\": []}, \"0d\": {\"indices\": [], \"flag\": false}, \"1d\": {\"indices\": []}}, \"column_names\": [\"width\", \"x\", \"height\", \"color\", \"fill_alpha\", \"y\"]}}, {\"id\": \"f6459509-4850-4e62-bfd9-1e88c8cf784b\", \"type\": \"PanTool\", \"attributes\": {\"id\": \"f6459509-4850-4e62-bfd9-1e88c8cf784b\", \"dimensions\": [\"width\", \"height\"], \"tags\": [], \"plot\": {\"id\": \"43eb23e9-7714-4ad3-8c99-f24122e57843\", \"subtype\": \"Chart\", \"type\": \"Plot\"}, \"doc\": null}}, {\"id\": \"8c5eccef-b283-405e-be8b-4f79d8834d6b\", \"type\": \"ResizeTool\", \"attributes\": {\"id\": \"8c5eccef-b283-405e-be8b-4f79d8834d6b\", \"tags\": [], \"plot\": {\"id\": \"43eb23e9-7714-4ad3-8c99-f24122e57843\", \"subtype\": \"Chart\", \"type\": \"Plot\"}, \"doc\": null}}, {\"id\": \"1c14bec5-9a3f-48e2-ba55-803bd232e42c\", \"type\": \"ColumnDataSource\", \"attributes\": {\"id\": \"1c14bec5-9a3f-48e2-ba55-803bd232e42c\", \"data\": {\"width\": [0.8], \"x\": [\"2074.25\"], \"height\": [2258778.0], \"color\": [\"#f22c40\"], \"fill_alpha\": [0.8], \"y\": [1129389.0]}, \"callback\": null, \"tags\": [], \"doc\": null, \"selected\": {\"2d\": {\"indices\": []}, \"0d\": {\"indices\": [], \"flag\": false}, \"1d\": {\"indices\": []}}, \"column_names\": [\"width\", \"x\", \"height\", \"color\", \"fill_alpha\", \"y\"]}}, {\"id\": \"dcf6ea56-2fb3-41b3-8b69-9094b63e3916\", \"type\": \"ColumnDataSource\", \"attributes\": {\"id\": \"dcf6ea56-2fb3-41b3-8b69-9094b63e3916\", \"data\": {\"width\": [0.8], \"x\": [\"10371.25\"], \"height\": [343461.0], \"color\": [\"#f22c40\"], \"fill_alpha\": [0.8], \"y\": [171730.5]}, \"callback\": null, \"tags\": [], \"doc\": null, \"selected\": {\"2d\": {\"indices\": []}, \"0d\": {\"indices\": [], \"flag\": false}, \"1d\": {\"indices\": []}}, \"column_names\": [\"width\", \"x\", \"height\", \"color\", \"fill_alpha\", \"y\"]}}, {\"id\": \"6b0b2a09-e884-4a7b-94cd-22aac6254994\", \"type\": \"Rect\", \"attributes\": {\"width\": {\"units\": \"data\", \"field\": \"width\"}, \"fill_color\": {\"field\": \"color\"}, \"x\": {\"field\": \"x\"}, \"tags\": [], \"height\": {\"units\": \"data\", \"field\": \"height\"}, \"y\": {\"field\": \"y\"}, \"doc\": null, \"fill_alpha\": {\"field\": \"fill_alpha\"}, \"id\": \"6b0b2a09-e884-4a7b-94cd-22aac6254994\"}}, {\"id\": \"055fe8c9-cb64-46c8-9fdd-06202c2ecf06\", \"type\": \"ColumnDataSource\", \"attributes\": {\"id\": \"055fe8c9-cb64-46c8-9fdd-06202c2ecf06\", \"data\": {\"width\": [0.8], \"x\": [\"0.0\"], \"height\": [3640021.0], \"color\": [\"#f22c40\"], \"fill_alpha\": [0.8], \"y\": [1820010.5]}, \"callback\": null, \"tags\": [], \"doc\": null, \"selected\": {\"2d\": {\"indices\": []}, \"0d\": {\"indices\": [], \"flag\": false}, \"1d\": {\"indices\": []}}, \"column_names\": [\"width\", \"x\", \"height\", \"color\", \"fill_alpha\", \"y\"]}}, {\"id\": \"0c8a924b-4c4c-480f-aae0-0958ea622f55\", \"type\": \"Rect\", \"attributes\": {\"width\": {\"units\": \"data\", \"field\": \"width\"}, \"fill_color\": {\"field\": \"color\"}, \"x\": {\"field\": \"x\"}, \"tags\": [], \"height\": {\"units\": \"data\", \"field\": \"height\"}, \"y\": {\"field\": \"y\"}, \"doc\": null, \"fill_alpha\": {\"field\": \"fill_alpha\"}, \"id\": \"0c8a924b-4c4c-480f-aae0-0958ea622f55\"}}, {\"id\": \"a0751c0c-7169-4475-9926-681865740897\", \"type\": \"Rect\", \"attributes\": {\"width\": {\"units\": \"data\", \"field\": \"width\"}, \"fill_color\": {\"field\": \"color\"}, \"x\": {\"field\": \"x\"}, \"tags\": [], \"height\": {\"units\": \"data\", \"field\": \"height\"}, \"y\": {\"field\": \"y\"}, \"doc\": null, \"fill_alpha\": {\"field\": \"fill_alpha\"}, \"id\": \"a0751c0c-7169-4475-9926-681865740897\"}}, {\"id\": \"67b0be9e-c1a8-4a79-a1ad-3a5fce7aeec3\", \"type\": \"ColumnDataSource\", \"attributes\": {\"id\": \"67b0be9e-c1a8-4a79-a1ad-3a5fce7aeec3\", \"data\": {\"width\": [0.8], \"x\": [\"33188.0\"], \"height\": [45.0], \"color\": [\"#f22c40\"], \"fill_alpha\": [0.8], \"y\": [22.5]}, \"callback\": null, \"tags\": [], \"doc\": null, \"selected\": {\"2d\": {\"indices\": []}, \"0d\": {\"indices\": [], \"flag\": false}, \"1d\": {\"indices\": []}}, \"column_names\": [\"width\", \"x\", \"height\", \"color\", \"fill_alpha\", \"y\"]}}, {\"id\": \"7dff0bc6-e437-4f53-82f6-7863fd40aa01\", \"type\": \"Rect\", \"attributes\": {\"width\": {\"units\": \"data\", \"field\": \"width\"}, \"fill_color\": {\"field\": \"color\"}, \"x\": {\"field\": \"x\"}, \"tags\": [], \"height\": {\"units\": \"data\", \"field\": \"height\"}, \"y\": {\"field\": \"y\"}, \"doc\": null, \"fill_alpha\": {\"field\": \"fill_alpha\"}, \"id\": \"7dff0bc6-e437-4f53-82f6-7863fd40aa01\"}}, {\"id\": \"ec5508bb-f1f3-4f6e-846c-1ae75aba42b8\", \"type\": \"Rect\", \"attributes\": {\"width\": {\"units\": \"data\", \"field\": \"width\"}, \"fill_color\": {\"field\": \"color\"}, \"x\": {\"field\": \"x\"}, \"tags\": [], \"height\": {\"units\": \"data\", \"field\": \"height\"}, \"y\": {\"field\": \"y\"}, \"doc\": null, \"fill_alpha\": {\"field\": \"fill_alpha\"}, \"id\": \"ec5508bb-f1f3-4f6e-846c-1ae75aba42b8\"}}, {\"id\": \"3117f47c-5c05-41c8-8220-07769ef614d5\", \"type\": \"GlyphRenderer\", \"attributes\": {\"id\": \"3117f47c-5c05-41c8-8220-07769ef614d5\", \"tags\": [], \"selection_glyph\": null, \"doc\": null, \"data_source\": {\"id\": \"e5b86a24-3f10-4d75-8a2b-8f9e7726cf52\", \"type\": \"ColumnDataSource\"}, \"glyph\": {\"id\": \"a0751c0c-7169-4475-9926-681865740897\", \"type\": \"Rect\"}, \"nonselection_glyph\": null}}, {\"id\": \"b351e551-3adf-443a-b2fd-c599b3c9dc3f\", \"type\": \"CategoricalTickFormatter\", \"attributes\": {\"id\": \"b351e551-3adf-443a-b2fd-c599b3c9dc3f\", \"doc\": null, \"tags\": []}}, {\"id\": \"d2473c30-4011-4c14-84f4-f039dfe34b18\", \"type\": \"GlyphRenderer\", \"attributes\": {\"id\": \"d2473c30-4011-4c14-84f4-f039dfe34b18\", \"tags\": [], \"selection_glyph\": null, \"doc\": null, \"data_source\": {\"id\": \"604b4c0c-835b-4fee-b83e-cd334a0dadf3\", \"type\": \"ColumnDataSource\"}, \"glyph\": {\"id\": \"161623d0-daf9-47c4-9ce3-4c999f7b6a2f\", \"type\": \"Rect\"}, \"nonselection_glyph\": null}}, {\"id\": \"43eb23e9-7714-4ad3-8c99-f24122e57843\", \"subtype\": \"Chart\", \"type\": \"Plot\", \"attributes\": {\"extra_x_ranges\": {}, \"tags\": [], \"title_text_font_size\": {\"value\": \"12pt\"}, \"tool_events\": {\"id\": \"018fe626-71d3-4388-9c62-af2139815526\", \"type\": \"ToolEvents\"}, \"y_range\": {\"id\": \"87db1b0c-fc2a-43b4-a457-01b2e82bce39\", \"type\": \"Range1d\"}, \"right\": [], \"tools\": [{\"id\": \"f6459509-4850-4e62-bfd9-1e88c8cf784b\", \"type\": \"PanTool\"}, {\"id\": \"6f2a35dc-1dc1-40df-9cc2-96251258d408\", \"type\": \"WheelZoomTool\"}, {\"id\": \"e8b2b6c2-82fb-4754-8e4d-b7892bf95dff\", \"type\": \"BoxZoomTool\"}, {\"id\": \"33897aa7-b402-4bb1-ae8b-aac3d0bd4f2f\", \"type\": \"PreviewSaveTool\"}, {\"id\": \"8c5eccef-b283-405e-be8b-4f79d8834d6b\", \"type\": \"ResizeTool\"}, {\"id\": \"8dbe7270-34a7-4ca6-930d-5b393e9d64ee\", \"type\": \"ResetTool\"}, {\"id\": \"fcbcdb73-f58a-4960-82d4-ad77586ed1f4\", \"type\": \"HelpTool\"}], \"plot_width\": 600, \"below\": [{\"id\": \"667d663c-3459-4ef0-b150-938941cd9128\", \"type\": \"CategoricalAxis\"}], \"extra_y_ranges\": {}, \"doc\": null, \"renderers\": [{\"id\": \"d55efe7e-22f4-4ee6-9a05-3382b5ef4900\", \"type\": \"GlyphRenderer\"}, {\"id\": \"cee67f9d-6366-4214-83bb-f3d3fa5e6ba9\", \"type\": \"GlyphRenderer\"}, {\"id\": \"b988c667-c514-47bc-8422-fa69c4f073aa\", \"type\": \"GlyphRenderer\"}, {\"id\": \"33f9e201-5a73-4ff8-94e1-d5dfc32e3631\", \"type\": \"GlyphRenderer\"}, {\"id\": \"4766b346-8ee1-4cea-afdf-1ec62a69061a\", \"type\": \"GlyphRenderer\"}, {\"id\": \"b092ed11-2f0e-4aee-a909-204cb7f4f004\", \"type\": \"GlyphRenderer\"}, {\"id\": \"ac8b230d-8ba9-4a69-9be0-d49a1aa2d937\", \"type\": \"GlyphRenderer\"}, {\"id\": \"4ae88936-3d97-4e4d-acc6-16b071dfe2bf\", \"type\": \"GlyphRenderer\"}, {\"id\": \"57ad941d-5bf2-4494-977b-4e95c070f11d\", \"type\": \"GlyphRenderer\"}, {\"id\": \"5913f044-5f2a-4a58-b8a9-0b7ef802a24b\", \"type\": \"GlyphRenderer\"}, {\"id\": \"1ee52f41-6871-42d1-889b-d76e930f37ea\", \"type\": \"GlyphRenderer\"}, {\"id\": \"c3ac9d0e-be49-48fb-bca7-b68c060a83f4\", \"type\": \"GlyphRenderer\"}, {\"id\": \"a48da264-3728-4591-b343-51c1b6f9f78f\", \"type\": \"GlyphRenderer\"}, {\"id\": \"3117f47c-5c05-41c8-8220-07769ef614d5\", \"type\": \"GlyphRenderer\"}, {\"id\": \"1eaed48f-68d9-492b-ac1c-4f248c2b580f\", \"type\": \"GlyphRenderer\"}, {\"id\": \"d3e4b7dc-d311-4e35-91f9-835193df19b5\", \"type\": \"GlyphRenderer\"}, {\"id\": \"c92217ae-eff5-4703-85ec-074216a10054\", \"type\": \"GlyphRenderer\"}, {\"id\": \"1aea33e2-0f77-4299-9815-dafbbcbade35\", \"type\": \"GlyphRenderer\"}, {\"id\": \"d2473c30-4011-4c14-84f4-f039dfe34b18\", \"type\": \"GlyphRenderer\"}, {\"id\": \"b8ec485f-c66f-458a-863a-adbbfc5e0c52\", \"type\": \"GlyphRenderer\"}, {\"id\": \"667d663c-3459-4ef0-b150-938941cd9128\", \"type\": \"CategoricalAxis\"}, {\"id\": \"8234285e-0e21-425b-beb1-b4d4762c45ac\", \"type\": \"LinearAxis\"}, {\"id\": \"103f159a-eaf5-40ac-9845-4d561c7e1328\", \"type\": \"Grid\"}], \"id\": \"43eb23e9-7714-4ad3-8c99-f24122e57843\", \"above\": [], \"responsive\": false, \"left\": [{\"id\": \"8234285e-0e21-425b-beb1-b4d4762c45ac\", \"type\": \"LinearAxis\"}], \"title_text_font_style\": \"bold\", \"x_range\": {\"id\": \"5fdb08bb-f6d4-4c9f-bbff-b7ec94ad0445\", \"type\": \"FactorRange\"}, \"plot_height\": 400, \"title\": \"Histogram of 'balance'\"}}, {\"id\": \"91f0865e-4b48-4d30-9ae1-b02b54b1e9f0\", \"type\": \"ColumnDataSource\", \"attributes\": {\"id\": \"91f0865e-4b48-4d30-9ae1-b02b54b1e9f0\", \"data\": {\"width\": [0.8], \"x\": [\"16594.0\"], \"height\": [54517.0], \"color\": [\"#f22c40\"], \"fill_alpha\": [0.8], \"y\": [27258.5]}, \"callback\": null, \"tags\": [], \"doc\": null, \"selected\": {\"2d\": {\"indices\": []}, \"0d\": {\"indices\": [], \"flag\": false}, \"1d\": {\"indices\": []}}, \"column_names\": [\"width\", \"x\", \"height\", \"color\", \"fill_alpha\", \"y\"]}}, {\"id\": \"4ae88936-3d97-4e4d-acc6-16b071dfe2bf\", \"type\": \"GlyphRenderer\", \"attributes\": {\"id\": \"4ae88936-3d97-4e4d-acc6-16b071dfe2bf\", \"tags\": [], \"selection_glyph\": null, \"doc\": null, \"data_source\": {\"id\": \"1a30772c-3586-405a-8529-6725a6d151b2\", \"type\": \"ColumnDataSource\"}, \"glyph\": {\"id\": \"903d0bf4-9a4c-4d0d-82df-c840c1db024f\", \"type\": \"Rect\"}, \"nonselection_glyph\": null}}, {\"id\": \"2fe0fdb0-ca0d-405f-b24f-211b292bf7f9\", \"type\": \"ColumnDataSource\", \"attributes\": {\"id\": \"2fe0fdb0-ca0d-405f-b24f-211b292bf7f9\", \"data\": {\"width\": [0.8], \"x\": [\"8297.0\"], \"height\": [601524.0], \"color\": [\"#f22c40\"], \"fill_alpha\": [0.8], \"y\": [300762.0]}, \"callback\": null, \"tags\": [], \"doc\": null, \"selected\": {\"2d\": {\"indices\": []}, \"0d\": {\"indices\": [], \"flag\": false}, \"1d\": {\"indices\": []}}, \"column_names\": [\"width\", \"x\", \"height\", \"color\", \"fill_alpha\", \"y\"]}}, {\"id\": \"3aec7749-c2db-4e64-ae27-1b1305bbf0cc\", \"type\": \"Rect\", \"attributes\": {\"width\": {\"units\": \"data\", \"field\": \"width\"}, \"fill_color\": {\"field\": \"color\"}, \"x\": {\"field\": \"x\"}, \"tags\": [], \"height\": {\"units\": \"data\", \"field\": \"height\"}, \"y\": {\"field\": \"y\"}, \"doc\": null, \"fill_alpha\": {\"field\": \"fill_alpha\"}, \"id\": \"3aec7749-c2db-4e64-ae27-1b1305bbf0cc\"}}, {\"id\": \"09fbd9af-a146-4ac7-bbe7-87d3887320e1\", \"type\": \"Rect\", \"attributes\": {\"width\": {\"units\": \"data\", \"field\": \"width\"}, \"fill_color\": {\"field\": \"color\"}, \"x\": {\"field\": \"x\"}, \"tags\": [], \"height\": {\"units\": \"data\", \"field\": \"height\"}, \"y\": {\"field\": \"y\"}, \"doc\": null, \"fill_alpha\": {\"field\": \"fill_alpha\"}, \"id\": \"09fbd9af-a146-4ac7-bbe7-87d3887320e1\"}}, {\"id\": \"60cabe7b-4fa7-44e9-9325-5f110c04ddb4\", \"type\": \"ColumnDataSource\", \"attributes\": {\"id\": \"60cabe7b-4fa7-44e9-9325-5f110c04ddb4\", \"data\": {\"width\": [0.8], \"x\": [\"12445.5\"], \"height\": [192766.0], \"color\": [\"#f22c40\"], \"fill_alpha\": [0.8], \"y\": [96383.0]}, \"callback\": null, \"tags\": [], \"doc\": null, \"selected\": {\"2d\": {\"indices\": []}, \"0d\": {\"indices\": [], \"flag\": false}, \"1d\": {\"indices\": []}}, \"column_names\": [\"width\", \"x\", \"height\", \"color\", \"fill_alpha\", \"y\"]}}, {\"id\": \"fe5fda1d-1df6-4d4c-9455-6c594f91bf48\", \"type\": \"Rect\", \"attributes\": {\"width\": {\"units\": \"data\", \"field\": \"width\"}, \"fill_color\": {\"field\": \"color\"}, \"x\": {\"field\": \"x\"}, \"tags\": [], \"height\": {\"units\": \"data\", \"field\": \"height\"}, \"y\": {\"field\": \"y\"}, \"doc\": null, \"fill_alpha\": {\"field\": \"fill_alpha\"}, \"id\": \"fe5fda1d-1df6-4d4c-9455-6c594f91bf48\"}}, {\"id\": \"1eaed48f-68d9-492b-ac1c-4f248c2b580f\", \"type\": \"GlyphRenderer\", \"attributes\": {\"id\": \"1eaed48f-68d9-492b-ac1c-4f248c2b580f\", \"tags\": [], \"selection_glyph\": null, \"doc\": null, \"data_source\": {\"id\": \"ea8da4a1-99fa-44f2-895d-7685b0a53c1e\", \"type\": \"ColumnDataSource\"}, \"glyph\": {\"id\": \"8ec04e0a-f6e7-4c56-8949-674048d7df22\", \"type\": \"Rect\"}, \"nonselection_glyph\": null}}, {\"id\": \"bb189a12-01e8-41ac-9709-717b02aae620\", \"type\": \"Rect\", \"attributes\": {\"width\": {\"units\": \"data\", \"field\": \"width\"}, \"fill_color\": {\"field\": \"color\"}, \"x\": {\"field\": \"x\"}, \"tags\": [], \"height\": {\"units\": \"data\", \"field\": \"height\"}, \"y\": {\"field\": \"y\"}, \"doc\": null, \"fill_alpha\": {\"field\": \"fill_alpha\"}, \"id\": \"bb189a12-01e8-41ac-9709-717b02aae620\"}}, {\"id\": \"705631d9-043b-4494-b4bd-1ece604d84c4\", \"type\": \"BasicTicker\", \"attributes\": {\"id\": \"705631d9-043b-4494-b4bd-1ece604d84c4\", \"tags\": [], \"mantissas\": [2, 5, 10], \"doc\": null}}, {\"id\": \"b988c667-c514-47bc-8422-fa69c4f073aa\", \"type\": \"GlyphRenderer\", \"attributes\": {\"id\": \"b988c667-c514-47bc-8422-fa69c4f073aa\", \"tags\": [], \"selection_glyph\": null, \"doc\": null, \"data_source\": {\"id\": \"f70af274-50ce-4ff1-b044-9d1e7a281db7\", \"type\": \"ColumnDataSource\"}, \"glyph\": {\"id\": \"b74284ec-63ed-42e7-a0ec-fe4d2d792386\", \"type\": \"Rect\"}, \"nonselection_glyph\": null}}, {\"id\": \"d75e14ec-9628-458b-aee2-39885a00f9cc\", \"type\": \"ColumnDataSource\", \"attributes\": {\"id\": \"d75e14ec-9628-458b-aee2-39885a00f9cc\", \"data\": {\"width\": [0.8], \"x\": [\"20742.5\"], \"height\": [13117.0], \"color\": [\"#f22c40\"], \"fill_alpha\": [0.8], \"y\": [6558.5]}, \"callback\": null, \"tags\": [], \"doc\": null, \"selected\": {\"2d\": {\"indices\": []}, \"0d\": {\"indices\": [], \"flag\": false}, \"1d\": {\"indices\": []}}, \"column_names\": [\"width\", \"x\", \"height\", \"color\", \"fill_alpha\", \"y\"]}}, {\"id\": \"903d0bf4-9a4c-4d0d-82df-c840c1db024f\", \"type\": \"Rect\", \"attributes\": {\"width\": {\"units\": \"data\", \"field\": \"width\"}, \"fill_color\": {\"field\": \"color\"}, \"x\": {\"field\": \"x\"}, \"tags\": [], \"height\": {\"units\": \"data\", \"field\": \"height\"}, \"y\": {\"field\": \"y\"}, \"doc\": null, \"fill_alpha\": {\"field\": \"fill_alpha\"}, \"id\": \"903d0bf4-9a4c-4d0d-82df-c840c1db024f\"}}, {\"id\": \"d55efe7e-22f4-4ee6-9a05-3382b5ef4900\", \"type\": \"GlyphRenderer\", \"attributes\": {\"id\": \"d55efe7e-22f4-4ee6-9a05-3382b5ef4900\", \"tags\": [], \"selection_glyph\": null, \"doc\": null, \"data_source\": {\"id\": \"055fe8c9-cb64-46c8-9fdd-06202c2ecf06\", \"type\": \"ColumnDataSource\"}, \"glyph\": {\"id\": \"7dff0bc6-e437-4f53-82f6-7863fd40aa01\", \"type\": \"Rect\"}, \"nonselection_glyph\": null}}, {\"id\": \"103f159a-eaf5-40ac-9845-4d561c7e1328\", \"type\": \"Grid\", \"attributes\": {\"ticker\": {\"id\": \"705631d9-043b-4494-b4bd-1ece604d84c4\", \"type\": \"BasicTicker\"}, \"dimension\": 1, \"tags\": [], \"id\": \"103f159a-eaf5-40ac-9845-4d561c7e1328\", \"plot\": {\"id\": \"43eb23e9-7714-4ad3-8c99-f24122e57843\", \"subtype\": \"Chart\", \"type\": \"Plot\"}, \"doc\": null}}, {\"id\": \"e8b2b6c2-82fb-4754-8e4d-b7892bf95dff\", \"type\": \"BoxZoomTool\", \"attributes\": {\"id\": \"e8b2b6c2-82fb-4754-8e4d-b7892bf95dff\", \"dimensions\": [\"width\", \"height\"], \"tags\": [], \"plot\": {\"id\": \"43eb23e9-7714-4ad3-8c99-f24122e57843\", \"subtype\": \"Chart\", \"type\": \"Plot\"}, \"doc\": null}}, {\"id\": \"ea8da4a1-99fa-44f2-895d-7685b0a53c1e\", \"type\": \"ColumnDataSource\", \"attributes\": {\"id\": \"ea8da4a1-99fa-44f2-895d-7685b0a53c1e\", \"data\": {\"width\": [0.8], \"x\": [\"29039.5\"], \"height\": [358.0], \"color\": [\"#f22c40\"], \"fill_alpha\": [0.8], \"y\": [179.0]}, \"callback\": null, \"tags\": [], \"doc\": null, \"selected\": {\"2d\": {\"indices\": []}, \"0d\": {\"indices\": [], \"flag\": false}, \"1d\": {\"indices\": []}}, \"column_names\": [\"width\", \"x\", \"height\", \"color\", \"fill_alpha\", \"y\"]}}, {\"id\": \"8ec04e0a-f6e7-4c56-8949-674048d7df22\", \"type\": \"Rect\", \"attributes\": {\"width\": {\"units\": \"data\", \"field\": \"width\"}, \"fill_color\": {\"field\": \"color\"}, \"x\": {\"field\": \"x\"}, \"tags\": [], \"height\": {\"units\": \"data\", \"field\": \"height\"}, \"y\": {\"field\": \"y\"}, \"doc\": null, \"fill_alpha\": {\"field\": \"fill_alpha\"}, \"id\": \"8ec04e0a-f6e7-4c56-8949-674048d7df22\"}}, {\"id\": \"1a30772c-3586-405a-8529-6725a6d151b2\", \"type\": \"ColumnDataSource\", \"attributes\": {\"id\": \"1a30772c-3586-405a-8529-6725a6d151b2\", \"data\": {\"width\": [0.8], \"x\": [\"14519.75\"], \"height\": [104486.0], \"color\": [\"#f22c40\"], \"fill_alpha\": [0.8], \"y\": [52243.0]}, \"callback\": null, \"tags\": [], \"doc\": null, \"selected\": {\"2d\": {\"indices\": []}, \"0d\": {\"indices\": [], \"flag\": false}, \"1d\": {\"indices\": []}}, \"column_names\": [\"width\", \"x\", \"height\", \"color\", \"fill_alpha\", \"y\"]}}, {\"id\": \"c3b73a1a-807b-41ee-9763-b19392cecb27\", \"type\": \"Rect\", \"attributes\": {\"width\": {\"units\": \"data\", \"field\": \"width\"}, \"fill_color\": {\"field\": \"color\"}, \"x\": {\"field\": \"x\"}, \"tags\": [], \"height\": {\"units\": \"data\", \"field\": \"height\"}, \"y\": {\"field\": \"y\"}, \"doc\": null, \"fill_alpha\": {\"field\": \"fill_alpha\"}, \"id\": \"c3b73a1a-807b-41ee-9763-b19392cecb27\"}}, {\"id\": \"667d663c-3459-4ef0-b150-938941cd9128\", \"type\": \"CategoricalAxis\", \"attributes\": {\"ticker\": {\"id\": \"0d149a28-c194-4710-9058-a89f4733f560\", \"type\": \"CategoricalTicker\"}, \"axis_label\": \"Bins\", \"tags\": [], \"id\": \"667d663c-3459-4ef0-b150-938941cd9128\", \"plot\": {\"id\": \"43eb23e9-7714-4ad3-8c99-f24122e57843\", \"subtype\": \"Chart\", \"type\": \"Plot\"}, \"doc\": null, \"formatter\": {\"id\": \"b351e551-3adf-443a-b2fd-c599b3c9dc3f\", \"type\": \"CategoricalTickFormatter\"}, \"major_label_orientation\": 0.7853981633974483}}, {\"id\": \"8bef513e-ce33-4fe4-a725-784372257266\", \"type\": \"Rect\", \"attributes\": {\"width\": {\"units\": \"data\", \"field\": \"width\"}, \"fill_color\": {\"field\": \"color\"}, \"x\": {\"field\": \"x\"}, \"tags\": [], \"height\": {\"units\": \"data\", \"field\": \"height\"}, \"y\": {\"field\": \"y\"}, \"doc\": null, \"fill_alpha\": {\"field\": \"fill_alpha\"}, \"id\": \"8bef513e-ce33-4fe4-a725-784372257266\"}}, {\"id\": \"c92217ae-eff5-4703-85ec-074216a10054\", \"type\": \"GlyphRenderer\", \"attributes\": {\"id\": \"c92217ae-eff5-4703-85ec-074216a10054\", \"tags\": [], \"selection_glyph\": null, \"doc\": null, \"data_source\": {\"id\": \"67b0be9e-c1a8-4a79-a1ad-3a5fce7aeec3\", \"type\": \"ColumnDataSource\"}, \"glyph\": {\"id\": \"1a986d9f-bbb8-4037-93ad-d32ec4d9a8ce\", \"type\": \"Rect\"}, \"nonselection_glyph\": null}}, {\"id\": \"5913f044-5f2a-4a58-b8a9-0b7ef802a24b\", \"type\": \"GlyphRenderer\", \"attributes\": {\"id\": \"5913f044-5f2a-4a58-b8a9-0b7ef802a24b\", \"tags\": [], \"selection_glyph\": null, \"doc\": null, \"data_source\": {\"id\": \"8df55f6e-2b97-4184-974b-3026bd15bae2\", \"type\": \"ColumnDataSource\"}, \"glyph\": {\"id\": \"fe5fda1d-1df6-4d4c-9455-6c594f91bf48\", \"type\": \"Rect\"}, \"nonselection_glyph\": null}}, {\"id\": \"b74284ec-63ed-42e7-a0ec-fe4d2d792386\", \"type\": \"Rect\", \"attributes\": {\"width\": {\"units\": \"data\", \"field\": \"width\"}, \"fill_color\": {\"field\": \"color\"}, \"x\": {\"field\": \"x\"}, \"tags\": [], \"height\": {\"units\": \"data\", \"field\": \"height\"}, \"y\": {\"field\": \"y\"}, \"doc\": null, \"fill_alpha\": {\"field\": \"fill_alpha\"}, \"id\": \"b74284ec-63ed-42e7-a0ec-fe4d2d792386\"}}];\n",
       "        Bokeh.load_models(all_models);\n",
       "        var plots = [{'modeltype': 'Plot', 'elementid': '312a3061-0088-45e7-96f8-3e20635fb20e', 'modelid': '43eb23e9-7714-4ad3-8c99-f24122e57843'}];\n",
       "        for (idx in plots) {\n",
       "        \tvar plot = plots[idx];\n",
       "        \tvar model = Bokeh.Collections(plot.modeltype).get(plot.modelid);\n",
       "        \tBokeh.logger.info('Realizing plot:')\n",
       "        \tBokeh.logger.info(' - modeltype: ' + plot.modeltype);\n",
       "        \tBokeh.logger.info(' - modelid: ' + plot.modelid);\n",
       "        \tBokeh.logger.info(' - elementid: ' + plot.elementid);\n",
       "        \tvar view = new model.default_view({\n",
       "        \t\tmodel: model,\n",
       "        \t\tel: '#' + plot.elementid\n",
       "        \t});\n",
       "        \tBokeh.index[plot.modelid] = view;\n",
       "        }\n",
       "    });\n",
       "    </script>\n",
       "<div class=\"plotdiv\" id=\"312a3061-0088-45e7-96f8-3e20635fb20e\"></div>\n",
       "\n"
      ]
     },
     "metadata": {},
     "output_type": "display_data"
    }
   ],
   "source": [
    "b_hist = chrt.Bar(data, values='freq', label='bins', title='Histogram of \\'balance\\'')\n",
    "chrt.show(b_hist)"
   ]
  },
  {
   "cell_type": "markdown",
   "metadata": {},
   "source": [
    "If your data is small enough to fit on the driver (although we would argue it would normally be faster to use the method showed above) you can bring the data and use the `.hist(...)` (from Matplotlib) or `.Histogram(...)` (from Bokeh) methods."
   ]
  },
  {
   "cell_type": "code",
   "execution_count": 42,
   "metadata": {
    "collapsed": true
   },
   "outputs": [],
   "source": [
    "data_driver = {'obs': fraud_df.select('balance').rdd.flatMap(lambda row: row).collect()}"
   ]
  },
  {
   "cell_type": "code",
   "execution_count": 44,
   "metadata": {
    "collapsed": false
   },
   "outputs": [
    {
     "data": {
      "image/png": "[encoded data removed]",
      "text/plain": [
       "<matplotlib.figure.Figure at 0x126b30b00>"
      ]
     },
     "metadata": {},
     "output_type": "display_data"
    }
   ],
   "source": [
    "fig = plt.figure(figsize=(12,9))\n",
    "ax = fig.add_subplot(1, 1, 1)\n",
    "\n",
    "ax.hist(data_driver['obs'], bins=20)\n",
    "ax.set_title('Histogram of \\'balance\\' using .hist()')\n",
    "\n",
    "\n",
    "plt.savefig('B05793_05_24.png', dpi=300)"
   ]
  },
  {
   "cell_type": "code",
   "execution_count": 37,
   "metadata": {
    "collapsed": false
   },
   "outputs": [
    {
     "data": {
      "text/html": [
       "<script type=\"text/javascript\">\n",
       "        Bokeh.$(function() {\n",
       "        var all_models = [{\"id\": \"7a3eafb7-e683-479c-a3d8-54f65a3eeac9\", \"type\": \"PreviewSaveTool\", \"attributes\": {\"id\": \"7a3eafb7-e683-479c-a3d8-54f65a3eeac9\", \"tags\": [], \"plot\": {\"id\": \"64b9f05a-3066-4e98-b447-a70bbc86a10e\", \"subtype\": \"Chart\", \"type\": \"Plot\"}, \"doc\": null}}, {\"id\": \"47ca3ea3-67f9-47b9-bbee-3a35efd3d95a\", \"type\": \"Rect\", \"attributes\": {\"width\": {\"units\": \"data\", \"field\": \"width\"}, \"fill_color\": {\"field\": \"color\"}, \"x\": {\"field\": \"x\"}, \"tags\": [], \"height\": {\"units\": \"data\", \"field\": \"height\"}, \"y\": {\"field\": \"y\"}, \"doc\": null, \"fill_alpha\": {\"field\": \"fill_alpha\"}, \"id\": \"47ca3ea3-67f9-47b9-bbee-3a35efd3d95a\"}}, {\"id\": \"511e91ea-5eb0-4d60-9954-188c9709ae03\", \"type\": \"GlyphRenderer\", \"attributes\": {\"id\": \"511e91ea-5eb0-4d60-9954-188c9709ae03\", \"tags\": [], \"selection_glyph\": null, \"doc\": null, \"data_source\": {\"id\": \"65b29613-af78-4bc7-8e2a-88cb726788b6\", \"type\": \"ColumnDataSource\"}, \"glyph\": {\"id\": \"a7aded4c-1ac5-485d-9cd5-25af5250aeb3\", \"type\": \"Rect\"}, \"nonselection_glyph\": null}}, {\"id\": \"66f81ff8-ff16-45c8-be95-2f8fb80c1306\", \"type\": \"ColumnDataSource\", \"attributes\": {\"id\": \"66f81ff8-ff16-45c8-be95-2f8fb80c1306\", \"data\": {\"width\": [2095.0], \"x\": [28002.35], \"height\": [1103.0], \"color\": [\"#f22c40\"], \"fill_alpha\": [0.8], \"y\": [551.5]}, \"callback\": null, \"tags\": [], \"doc\": null, \"selected\": {\"2d\": {\"indices\": []}, \"0d\": {\"indices\": [], \"flag\": false}, \"1d\": {\"indices\": []}}, \"column_names\": [\"width\", \"x\", \"height\", \"color\", \"fill_alpha\", \"y\"]}}, {\"id\": \"89356aa3-6398-4d4e-980e-644e778d6096\", \"type\": \"ColumnDataSource\", \"attributes\": {\"id\": \"89356aa3-6398-4d4e-980e-644e778d6096\", \"data\": {\"width\": [2095.0], \"x\": [36299.35], \"height\": [15.0], \"color\": [\"#f22c40\"], \"fill_alpha\": [0.8], \"y\": [7.5]}, \"callback\": null, \"tags\": [], \"doc\": null, \"selected\": {\"2d\": {\"indices\": []}, \"0d\": {\"indices\": [], \"flag\": false}, \"1d\": {\"indices\": []}}, \"column_names\": [\"width\", \"x\", \"height\", \"color\", \"fill_alpha\", \"y\"]}}, {\"id\": \"469156be-2c1c-4a67-a998-fb21d39fda93\", \"type\": \"ColumnDataSource\", \"attributes\": {\"id\": \"469156be-2c1c-4a67-a998-fb21d39fda93\", \"data\": {\"width\": [2095.0], \"x\": [32150.9], \"height\": [127.0], \"color\": [\"#f22c40\"], \"fill_alpha\": [0.8], \"y\": [63.5]}, \"callback\": null, \"tags\": [], \"doc\": null, \"selected\": {\"2d\": {\"indices\": []}, \"0d\": {\"indices\": [], \"flag\": false}, \"1d\": {\"indices\": []}}, \"column_names\": [\"width\", \"x\", \"height\", \"color\", \"fill_alpha\", \"y\"]}}, {\"id\": \"fcc99e3b-87b7-461b-8ec0-5cdaaa4db479\", \"type\": \"GlyphRenderer\", \"attributes\": {\"id\": \"fcc99e3b-87b7-461b-8ec0-5cdaaa4db479\", \"tags\": [], \"selection_glyph\": null, \"doc\": null, \"data_source\": {\"id\": \"66f81ff8-ff16-45c8-be95-2f8fb80c1306\", \"type\": \"ColumnDataSource\"}, \"glyph\": {\"id\": \"82af460e-5061-4797-b5a8-109c1363d0cc\", \"type\": \"Rect\"}, \"nonselection_glyph\": null}}, {\"id\": \"dc425d2b-68fc-4547-ba76-e7c92723c334\", \"type\": \"ResetTool\", \"attributes\": {\"id\": \"dc425d2b-68fc-4547-ba76-e7c92723c334\", \"tags\": [], \"plot\": {\"id\": \"64b9f05a-3066-4e98-b447-a70bbc86a10e\", \"subtype\": \"Chart\", \"type\": \"Plot\"}, \"doc\": null}}, {\"id\": \"82af460e-5061-4797-b5a8-109c1363d0cc\", \"type\": \"Rect\", \"attributes\": {\"width\": {\"units\": \"data\", \"field\": \"width\"}, \"fill_color\": {\"field\": \"color\"}, \"x\": {\"field\": \"x\"}, \"tags\": [], \"height\": {\"units\": \"data\", \"field\": \"height\"}, \"y\": {\"field\": \"y\"}, \"doc\": null, \"fill_alpha\": {\"field\": \"fill_alpha\"}, \"id\": \"82af460e-5061-4797-b5a8-109c1363d0cc\"}}, {\"id\": \"2e02172e-08fa-4c12-8827-d6cf32c54b1a\", \"type\": \"GlyphRenderer\", \"attributes\": {\"id\": \"2e02172e-08fa-4c12-8827-d6cf32c54b1a\", \"tags\": [], \"selection_glyph\": null, \"doc\": null, \"data_source\": {\"id\": \"90a85eee-3b06-44c5-bd3a-321768082dc8\", \"type\": \"ColumnDataSource\"}, \"glyph\": {\"id\": \"023bf0c8-33ae-468e-bd21-ff12a2c315de\", \"type\": \"Rect\"}, \"nonselection_glyph\": null}}, {\"id\": \"50483c08-67c6-4d60-9112-205beedc9a02\", \"type\": \"LinearAxis\", \"attributes\": {\"ticker\": {\"id\": \"79e723cc-0a1d-49fa-9d1a-655b3962f5f4\", \"type\": \"BasicTicker\"}, \"axis_label\": \"obs\", \"tags\": [], \"id\": \"50483c08-67c6-4d60-9112-205beedc9a02\", \"plot\": {\"id\": \"64b9f05a-3066-4e98-b447-a70bbc86a10e\", \"subtype\": \"Chart\", \"type\": \"Plot\"}, \"doc\": null, \"formatter\": {\"id\": \"7a050f9e-d766-4cb4-b1b0-f487aa5edbd7\", \"type\": \"BasicTickFormatter\"}}}, {\"id\": \"be05def3-3be0-4cdd-951c-fb2f1a1db0fb\", \"type\": \"Rect\", \"attributes\": {\"width\": {\"units\": \"data\", \"field\": \"width\"}, \"fill_color\": {\"field\": \"color\"}, \"x\": {\"field\": \"x\"}, \"tags\": [], \"height\": {\"units\": \"data\", \"field\": \"height\"}, \"y\": {\"field\": \"y\"}, \"doc\": null, \"fill_alpha\": {\"field\": \"fill_alpha\"}, \"id\": \"be05def3-3be0-4cdd-951c-fb2f1a1db0fb\"}}, {\"id\": \"45459c7b-e422-4466-9741-e4ff4b340353\", \"type\": \"Rect\", \"attributes\": {\"width\": {\"units\": \"data\", \"field\": \"width\"}, \"fill_color\": {\"field\": \"color\"}, \"x\": {\"field\": \"x\"}, \"tags\": [], \"height\": {\"units\": \"data\", \"field\": \"height\"}, \"y\": {\"field\": \"y\"}, \"doc\": null, \"fill_alpha\": {\"field\": \"fill_alpha\"}, \"id\": \"45459c7b-e422-4466-9741-e4ff4b340353\"}}, {\"id\": \"b7d36d8d-aed9-4b83-b26e-e8a651c6e648\", \"type\": \"LinearAxis\", \"attributes\": {\"ticker\": {\"id\": \"be327bd6-bcc6-46ec-953a-e1196c1ad244\", \"type\": \"BasicTicker\"}, \"axis_label\": \"Count( Obs )\", \"tags\": [], \"id\": \"b7d36d8d-aed9-4b83-b26e-e8a651c6e648\", \"plot\": {\"id\": \"64b9f05a-3066-4e98-b447-a70bbc86a10e\", \"subtype\": \"Chart\", \"type\": \"Plot\"}, \"doc\": null, \"formatter\": {\"id\": \"2c3acd8c-092c-4e4f-aea5-49324c1b1c72\", \"type\": \"BasicTickFormatter\"}}}, {\"id\": \"761733f6-af2e-4cbe-b2b5-b347938745f5\", \"type\": \"GlyphRenderer\", \"attributes\": {\"id\": \"761733f6-af2e-4cbe-b2b5-b347938745f5\", \"tags\": [], \"selection_glyph\": null, \"doc\": null, \"data_source\": {\"id\": \"343cd4d1-7e5d-40ba-a802-b2f8492c161a\", \"type\": \"ColumnDataSource\"}, \"glyph\": {\"id\": \"06e02527-c99e-413e-9129-e3b0bf05d565\", \"type\": \"Rect\"}, \"nonselection_glyph\": null}}, {\"id\": \"a3575f29-069d-4ded-af2b-fbf91edd9c3d\", \"type\": \"Rect\", \"attributes\": {\"width\": {\"units\": \"data\", \"field\": \"width\"}, \"fill_color\": {\"field\": \"color\"}, \"x\": {\"field\": \"x\"}, \"tags\": [], \"height\": {\"units\": \"data\", \"field\": \"height\"}, \"y\": {\"field\": \"y\"}, \"doc\": null, \"fill_alpha\": {\"field\": \"fill_alpha\"}, \"id\": \"a3575f29-069d-4ded-af2b-fbf91edd9c3d\"}}, {\"id\": \"539a94a6-ec3d-42e4-a01a-628efb4d5973\", \"type\": \"GlyphRenderer\", \"attributes\": {\"id\": \"539a94a6-ec3d-42e4-a01a-628efb4d5973\", \"tags\": [], \"selection_glyph\": null, \"doc\": null, \"data_source\": {\"id\": \"89356aa3-6398-4d4e-980e-644e778d6096\", \"type\": \"ColumnDataSource\"}, \"glyph\": {\"id\": \"89a04d93-557b-4afc-9bda-504e170a4e94\", \"type\": \"Rect\"}, \"nonselection_glyph\": null}}, {\"id\": \"8ccdd90f-7e64-448a-86b3-ef587c2c2c9b\", \"type\": \"ColumnDataSource\", \"attributes\": {\"id\": \"8ccdd90f-7e64-448a-86b3-ef587c2c2c9b\", \"data\": {\"width\": [2095.0], \"x\": [11408.35], \"height\": [343461.0], \"color\": [\"#f22c40\"], \"fill_alpha\": [0.8], \"y\": [171730.5]}, \"callback\": null, \"tags\": [], \"doc\": null, \"selected\": {\"2d\": {\"indices\": []}, \"0d\": {\"indices\": [], \"flag\": false}, \"1d\": {\"indices\": []}}, \"column_names\": [\"width\", \"x\", \"height\", \"color\", \"fill_alpha\", \"y\"]}}, {\"id\": \"65b29613-af78-4bc7-8e2a-88cb726788b6\", \"type\": \"ColumnDataSource\", \"attributes\": {\"id\": \"65b29613-af78-4bc7-8e2a-88cb726788b6\", \"data\": {\"width\": [2095.0], \"x\": [5185.65], \"height\": [1718633.0], \"color\": [\"#f22c40\"], \"fill_alpha\": [0.8], \"y\": [859316.5]}, \"callback\": null, \"tags\": [], \"doc\": null, \"selected\": {\"2d\": {\"indices\": []}, \"0d\": {\"indices\": [], \"flag\": false}, \"1d\": {\"indices\": []}}, \"column_names\": [\"width\", \"x\", \"height\", \"color\", \"fill_alpha\", \"y\"]}}, {\"id\": \"0fc4b31f-a8cb-48a8-b585-71a230ad0e7c\", \"type\": \"Grid\", \"attributes\": {\"ticker\": {\"id\": \"be327bd6-bcc6-46ec-953a-e1196c1ad244\", \"type\": \"BasicTicker\"}, \"dimension\": 1, \"tags\": [], \"id\": \"0fc4b31f-a8cb-48a8-b585-71a230ad0e7c\", \"plot\": {\"id\": \"64b9f05a-3066-4e98-b447-a70bbc86a10e\", \"subtype\": \"Chart\", \"type\": \"Plot\"}, \"doc\": null}}, {\"id\": \"ccd32884-8158-4734-a26f-2505726c08d7\", \"type\": \"WheelZoomTool\", \"attributes\": {\"id\": \"ccd32884-8158-4734-a26f-2505726c08d7\", \"dimensions\": [\"width\", \"height\"], \"tags\": [], \"plot\": {\"id\": \"64b9f05a-3066-4e98-b447-a70bbc86a10e\", \"subtype\": \"Chart\", \"type\": \"Plot\"}, \"doc\": null}}, {\"id\": \"2cc69f60-12b3-4ca5-b54f-e9983bc9aa20\", \"type\": \"PanTool\", \"attributes\": {\"id\": \"2cc69f60-12b3-4ca5-b54f-e9983bc9aa20\", \"dimensions\": [\"width\", \"height\"], \"tags\": [], \"plot\": {\"id\": \"64b9f05a-3066-4e98-b447-a70bbc86a10e\", \"subtype\": \"Chart\", \"type\": \"Plot\"}, \"doc\": null}}, {\"id\": \"5d4f2248-cfb8-431a-b0b9-e06055751b04\", \"type\": \"Rect\", \"attributes\": {\"width\": {\"units\": \"data\", \"field\": \"width\"}, \"fill_color\": {\"field\": \"color\"}, \"x\": {\"field\": \"x\"}, \"tags\": [], \"height\": {\"units\": \"data\", \"field\": \"height\"}, \"y\": {\"field\": \"y\"}, \"doc\": null, \"fill_alpha\": {\"field\": \"fill_alpha\"}, \"id\": \"5d4f2248-cfb8-431a-b0b9-e06055751b04\"}}, {\"id\": \"d15f04b0-6a2a-49f7-a80a-b841ddf3d2c1\", \"type\": \"Range1d\", \"attributes\": {\"start\": -2104.3625, \"id\": \"d15f04b0-6a2a-49f7-a80a-b841ddf3d2c1\", \"tags\": [], \"callback\": null, \"end\": 43568.6125, \"doc\": null}}, {\"id\": \"5b1c1986-1f96-48ab-a6b3-0d93fa04ace9\", \"type\": \"Rect\", \"attributes\": {\"width\": {\"units\": \"data\", \"field\": \"width\"}, \"fill_color\": {\"field\": \"color\"}, \"x\": {\"field\": \"x\"}, \"tags\": [], \"height\": {\"units\": \"data\", \"field\": \"height\"}, \"y\": {\"field\": \"y\"}, \"doc\": null, \"fill_alpha\": {\"field\": \"fill_alpha\"}, \"id\": \"5b1c1986-1f96-48ab-a6b3-0d93fa04ace9\"}}, {\"id\": \"9cb1aee2-7463-4bab-9bf0-2a120c37e893\", \"type\": \"Rect\", \"attributes\": {\"width\": {\"units\": \"data\", \"field\": \"width\"}, \"fill_color\": {\"field\": \"color\"}, \"x\": {\"field\": \"x\"}, \"tags\": [], \"height\": {\"units\": \"data\", \"field\": \"height\"}, \"y\": {\"field\": \"y\"}, \"doc\": null, \"fill_alpha\": {\"field\": \"fill_alpha\"}, \"id\": \"9cb1aee2-7463-4bab-9bf0-2a120c37e893\"}}, {\"id\": \"be327bd6-bcc6-46ec-953a-e1196c1ad244\", \"type\": \"BasicTicker\", \"attributes\": {\"id\": \"be327bd6-bcc6-46ec-953a-e1196c1ad244\", \"tags\": [], \"mantissas\": [2, 5, 10], \"doc\": null}}, {\"id\": \"7a050f9e-d766-4cb4-b1b0-f487aa5edbd7\", \"type\": \"BasicTickFormatter\", \"attributes\": {\"id\": \"7a050f9e-d766-4cb4-b1b0-f487aa5edbd7\", \"doc\": null, \"tags\": []}}, {\"id\": \"a43d47b6-f470-46bf-bd48-f2c3c3e8eefc\", \"type\": \"ToolEvents\", \"attributes\": {\"id\": \"a43d47b6-f470-46bf-bd48-f2c3c3e8eefc\", \"geometries\": [], \"tags\": [], \"doc\": null}}, {\"id\": \"a69d8875-cd08-4534-86c6-1033ad9e878f\", \"type\": \"GlyphRenderer\", \"attributes\": {\"id\": \"a69d8875-cd08-4534-86c6-1033ad9e878f\", \"tags\": [], \"selection_glyph\": null, \"doc\": null, \"data_source\": {\"id\": \"469156be-2c1c-4a67-a998-fb21d39fda93\", \"type\": \"ColumnDataSource\"}, \"glyph\": {\"id\": \"bbd35173-75dd-41d8-a3ad-1dc39a1318b9\", \"type\": \"Rect\"}, \"nonselection_glyph\": null}}, {\"id\": \"6b239aa9-59df-42dc-8240-beeae3799b41\", \"type\": \"ResizeTool\", \"attributes\": {\"id\": \"6b239aa9-59df-42dc-8240-beeae3799b41\", \"tags\": [], \"plot\": {\"id\": \"64b9f05a-3066-4e98-b447-a70bbc86a10e\", \"subtype\": \"Chart\", \"type\": \"Plot\"}, \"doc\": null}}, {\"id\": \"50f1116e-8e5a-4611-aabd-79f06fbf193f\", \"type\": \"ColumnDataSource\", \"attributes\": {\"id\": \"50f1116e-8e5a-4611-aabd-79f06fbf193f\", \"data\": {\"width\": [2095.0], \"x\": [17631.1], \"height\": [54491.0], \"color\": [\"#f22c40\"], \"fill_alpha\": [0.8], \"y\": [27245.5]}, \"callback\": null, \"tags\": [], \"doc\": null, \"selected\": {\"2d\": {\"indices\": []}, \"0d\": {\"indices\": [], \"flag\": false}, \"1d\": {\"indices\": []}}, \"column_names\": [\"width\", \"x\", \"height\", \"color\", \"fill_alpha\", \"y\"]}}, {\"id\": \"a7aded4c-1ac5-485d-9cd5-25af5250aeb3\", \"type\": \"Rect\", \"attributes\": {\"width\": {\"units\": \"data\", \"field\": \"width\"}, \"fill_color\": {\"field\": \"color\"}, \"x\": {\"field\": \"x\"}, \"tags\": [], \"height\": {\"units\": \"data\", \"field\": \"height\"}, \"y\": {\"field\": \"y\"}, \"doc\": null, \"fill_alpha\": {\"field\": \"fill_alpha\"}, \"id\": \"a7aded4c-1ac5-485d-9cd5-25af5250aeb3\"}}, {\"id\": \"ab6e1e22-2a4b-4eef-9724-77fcfc611530\", \"type\": \"ColumnDataSource\", \"attributes\": {\"id\": \"ab6e1e22-2a4b-4eef-9724-77fcfc611530\", \"data\": {\"width\": [2095.0], \"x\": [13482.65], \"height\": [192766.0], \"color\": [\"#f22c40\"], \"fill_alpha\": [0.8], \"y\": [96383.0]}, \"callback\": null, \"tags\": [], \"doc\": null, \"selected\": {\"2d\": {\"indices\": []}, \"0d\": {\"indices\": [], \"flag\": false}, \"1d\": {\"indices\": []}}, \"column_names\": [\"width\", \"x\", \"height\", \"color\", \"fill_alpha\", \"y\"]}}, {\"id\": \"023bf0c8-33ae-468e-bd21-ff12a2c315de\", \"type\": \"Rect\", \"attributes\": {\"width\": {\"units\": \"data\", \"field\": \"width\"}, \"fill_color\": {\"field\": \"color\"}, \"x\": {\"field\": \"x\"}, \"tags\": [], \"height\": {\"units\": \"data\", \"field\": \"height\"}, \"y\": {\"field\": \"y\"}, \"doc\": null, \"fill_alpha\": {\"field\": \"fill_alpha\"}, \"id\": \"023bf0c8-33ae-468e-bd21-ff12a2c315de\"}}, {\"id\": \"8ab2ae96-1f8e-4fbd-aaa2-00623b8495da\", \"type\": \"ColumnDataSource\", \"attributes\": {\"id\": \"8ab2ae96-1f8e-4fbd-aaa2-00623b8495da\", \"data\": {\"width\": [2095.0], \"x\": [25928.1], \"height\": [2650.0], \"color\": [\"#f22c40\"], \"fill_alpha\": [0.8], \"y\": [1325.0]}, \"callback\": null, \"tags\": [], \"doc\": null, \"selected\": {\"2d\": {\"indices\": []}, \"0d\": {\"indices\": [], \"flag\": false}, \"1d\": {\"indices\": []}}, \"column_names\": [\"width\", \"x\", \"height\", \"color\", \"fill_alpha\", \"y\"]}}, {\"id\": \"30cd0992-0541-46d5-b2cb-798e95de30e3\", \"type\": \"ColumnDataSource\", \"attributes\": {\"id\": \"30cd0992-0541-46d5-b2cb-798e95de30e3\", \"data\": {\"width\": [2095.0], \"x\": [1016.3499999999999], \"height\": [3640021.0], \"color\": [\"#f22c40\"], \"fill_alpha\": [0.8], \"y\": [1820010.5]}, \"callback\": null, \"tags\": [], \"doc\": null, \"selected\": {\"2d\": {\"indices\": []}, \"0d\": {\"indices\": [], \"flag\": false}, \"1d\": {\"indices\": []}}, \"column_names\": [\"width\", \"x\", \"height\", \"color\", \"fill_alpha\", \"y\"]}}, {\"id\": \"5434824d-0ca4-4608-977e-20053a7835b9\", \"type\": \"Rect\", \"attributes\": {\"width\": {\"units\": \"data\", \"field\": \"width\"}, \"fill_color\": {\"field\": \"color\"}, \"x\": {\"field\": \"x\"}, \"tags\": [], \"height\": {\"units\": \"data\", \"field\": \"height\"}, \"y\": {\"field\": \"y\"}, \"doc\": null, \"fill_alpha\": {\"field\": \"fill_alpha\"}, \"id\": \"5434824d-0ca4-4608-977e-20053a7835b9\"}}, {\"id\": \"5b88a44d-e90c-4953-b3e5-bf0a5c3739da\", \"type\": \"GlyphRenderer\", \"attributes\": {\"id\": \"5b88a44d-e90c-4953-b3e5-bf0a5c3739da\", \"tags\": [], \"selection_glyph\": null, \"doc\": null, \"data_source\": {\"id\": \"ab6e1e22-2a4b-4eef-9724-77fcfc611530\", \"type\": \"ColumnDataSource\"}, \"glyph\": {\"id\": \"5b1c1986-1f96-48ab-a6b3-0d93fa04ace9\", \"type\": \"Rect\"}, \"nonselection_glyph\": null}}, {\"id\": \"06e02527-c99e-413e-9129-e3b0bf05d565\", \"type\": \"Rect\", \"attributes\": {\"width\": {\"units\": \"data\", \"field\": \"width\"}, \"fill_color\": {\"field\": \"color\"}, \"x\": {\"field\": \"x\"}, \"tags\": [], \"height\": {\"units\": \"data\", \"field\": \"height\"}, \"y\": {\"field\": \"y\"}, \"doc\": null, \"fill_alpha\": {\"field\": \"fill_alpha\"}, \"id\": \"06e02527-c99e-413e-9129-e3b0bf05d565\"}}, {\"id\": \"79fe640b-5ddc-4fbb-9d60-2bea8b514c4c\", \"type\": \"ColumnDataSource\", \"attributes\": {\"id\": \"79fe640b-5ddc-4fbb-9d60-2bea8b514c4c\", \"data\": {\"width\": [2095.0], \"x\": [38373.65], \"height\": [1.0], \"color\": [\"#f22c40\"], \"fill_alpha\": [0.8], \"y\": [0.5]}, \"callback\": null, \"tags\": [], \"doc\": null, \"selected\": {\"2d\": {\"indices\": []}, \"0d\": {\"indices\": [], \"flag\": false}, \"1d\": {\"indices\": []}}, \"column_names\": [\"width\", \"x\", \"height\", \"color\", \"fill_alpha\", \"y\"]}}, {\"id\": \"90a85eee-3b06-44c5-bd3a-321768082dc8\", \"type\": \"ColumnDataSource\", \"attributes\": {\"id\": \"90a85eee-3b06-44c5-bd3a-321768082dc8\", \"data\": {\"width\": [2095.0], \"x\": [19705.35], \"height\": [27570.0], \"color\": [\"#f22c40\"], \"fill_alpha\": [0.8], \"y\": [13785.0]}, \"callback\": null, \"tags\": [], \"doc\": null, \"selected\": {\"2d\": {\"indices\": []}, \"0d\": {\"indices\": [], \"flag\": false}, \"1d\": {\"indices\": []}}, \"column_names\": [\"width\", \"x\", \"height\", \"color\", \"fill_alpha\", \"y\"]}}, {\"id\": \"4e9028a3-2187-4927-b1de-31298e2c221a\", \"type\": \"HelpTool\", \"attributes\": {\"id\": \"4e9028a3-2187-4927-b1de-31298e2c221a\", \"tags\": [], \"plot\": {\"id\": \"64b9f05a-3066-4e98-b447-a70bbc86a10e\", \"subtype\": \"Chart\", \"type\": \"Plot\"}, \"doc\": null}}, {\"id\": \"79e723cc-0a1d-49fa-9d1a-655b3962f5f4\", \"type\": \"BasicTicker\", \"attributes\": {\"id\": \"79e723cc-0a1d-49fa-9d1a-655b3962f5f4\", \"tags\": [], \"mantissas\": [2, 5, 10], \"doc\": null}}, {\"id\": \"15b9e739-b5da-48d7-bee3-3bcfd2e09a73\", \"type\": \"Rect\", \"attributes\": {\"width\": {\"units\": \"data\", \"field\": \"width\"}, \"fill_color\": {\"field\": \"color\"}, \"x\": {\"field\": \"x\"}, \"tags\": [], \"height\": {\"units\": \"data\", \"field\": \"height\"}, \"y\": {\"field\": \"y\"}, \"doc\": null, \"fill_alpha\": {\"field\": \"fill_alpha\"}, \"id\": \"15b9e739-b5da-48d7-bee3-3bcfd2e09a73\"}}, {\"id\": \"4a31e1e4-d8f0-4321-b42a-34680d45a709\", \"type\": \"GlyphRenderer\", \"attributes\": {\"id\": \"4a31e1e4-d8f0-4321-b42a-34680d45a709\", \"tags\": [], \"selection_glyph\": null, \"doc\": null, \"data_source\": {\"id\": \"8ab2ae96-1f8e-4fbd-aaa2-00623b8495da\", \"type\": \"ColumnDataSource\"}, \"glyph\": {\"id\": \"b4aa6c71-f43f-4974-b12b-5cb20f976117\", \"type\": \"Rect\"}, \"nonselection_glyph\": null}}, {\"id\": \"a5077b15-d9df-4331-a971-44e4afb04816\", \"type\": \"GlyphRenderer\", \"attributes\": {\"id\": \"a5077b15-d9df-4331-a971-44e4afb04816\", \"tags\": [], \"selection_glyph\": null, \"doc\": null, \"data_source\": {\"id\": \"6d1b22af-4d2a-4c18-856d-42f5bb33ef55\", \"type\": \"ColumnDataSource\"}, \"glyph\": {\"id\": \"15b9e739-b5da-48d7-bee3-3bcfd2e09a73\", \"type\": \"Rect\"}, \"nonselection_glyph\": null}}, {\"id\": \"00371903-15f3-497e-8586-9e9013cfb72f\", \"type\": \"Range1d\", \"attributes\": {\"start\": 0.0, \"id\": \"00371903-15f3-497e-8586-9e9013cfb72f\", \"tags\": [], \"callback\": null, \"end\": 4004023.1, \"doc\": null}}, {\"id\": \"95f52e87-6213-4b13-a614-57187d312712\", \"type\": \"GlyphRenderer\", \"attributes\": {\"id\": \"95f52e87-6213-4b13-a614-57187d312712\", \"tags\": [], \"selection_glyph\": null, \"doc\": null, \"data_source\": {\"id\": \"6555e7bb-c266-40df-ad77-e7c3a4da5e20\", \"type\": \"ColumnDataSource\"}, \"glyph\": {\"id\": \"a3575f29-069d-4ded-af2b-fbf91edd9c3d\", \"type\": \"Rect\"}, \"nonselection_glyph\": null}}, {\"id\": \"7a1db637-b8cc-4b99-8262-51b9ceb2d64f\", \"type\": \"ColumnDataSource\", \"attributes\": {\"id\": \"7a1db637-b8cc-4b99-8262-51b9ceb2d64f\", \"data\": {\"width\": [2095.0], \"x\": [21779.65], \"height\": [13117.0], \"color\": [\"#f22c40\"], \"fill_alpha\": [0.8], \"y\": [6558.5]}, \"callback\": null, \"tags\": [], \"doc\": null, \"selected\": {\"2d\": {\"indices\": []}, \"0d\": {\"indices\": [], \"flag\": false}, \"1d\": {\"indices\": []}}, \"column_names\": [\"width\", \"x\", \"height\", \"color\", \"fill_alpha\", \"y\"]}}, {\"id\": \"6555e7bb-c266-40df-ad77-e7c3a4da5e20\", \"type\": \"ColumnDataSource\", \"attributes\": {\"id\": \"6555e7bb-c266-40df-ad77-e7c3a4da5e20\", \"data\": {\"width\": [2095.0], \"x\": [23853.9], \"height\": [5805.0], \"color\": [\"#f22c40\"], \"fill_alpha\": [0.8], \"y\": [2902.5]}, \"callback\": null, \"tags\": [], \"doc\": null, \"selected\": {\"2d\": {\"indices\": []}, \"0d\": {\"indices\": [], \"flag\": false}, \"1d\": {\"indices\": []}}, \"column_names\": [\"width\", \"x\", \"height\", \"color\", \"fill_alpha\", \"y\"]}}, {\"id\": \"2c3acd8c-092c-4e4f-aea5-49324c1b1c72\", \"type\": \"BasicTickFormatter\", \"attributes\": {\"id\": \"2c3acd8c-092c-4e4f-aea5-49324c1b1c72\", \"doc\": null, \"tags\": []}}, {\"id\": \"d1cd04f3-fabe-4ea5-85e9-14182769f327\", \"type\": \"Rect\", \"attributes\": {\"width\": {\"units\": \"data\", \"field\": \"width\"}, \"fill_color\": {\"field\": \"color\"}, \"x\": {\"field\": \"x\"}, \"tags\": [], \"height\": {\"units\": \"data\", \"field\": \"height\"}, \"y\": {\"field\": \"y\"}, \"doc\": null, \"fill_alpha\": {\"field\": \"fill_alpha\"}, \"id\": \"d1cd04f3-fabe-4ea5-85e9-14182769f327\"}}, {\"id\": \"20a2ae19-8dd0-427a-a95d-8e5516880987\", \"type\": \"GlyphRenderer\", \"attributes\": {\"id\": \"20a2ae19-8dd0-427a-a95d-8e5516880987\", \"tags\": [], \"selection_glyph\": null, \"doc\": null, \"data_source\": {\"id\": \"a8927ee4-699c-480b-9062-1f5da9d68297\", \"type\": \"ColumnDataSource\"}, \"glyph\": {\"id\": \"5434824d-0ca4-4608-977e-20053a7835b9\", \"type\": \"Rect\"}, \"nonselection_glyph\": null}}, {\"id\": \"37adc570-a320-44e6-9130-dcfee8901798\", \"type\": \"GlyphRenderer\", \"attributes\": {\"id\": \"37adc570-a320-44e6-9130-dcfee8901798\", \"tags\": [], \"selection_glyph\": null, \"doc\": null, \"data_source\": {\"id\": \"bc7d993b-fab2-42ba-9b1c-5d1f85782fea\", \"type\": \"ColumnDataSource\"}, \"glyph\": {\"id\": \"d1cd04f3-fabe-4ea5-85e9-14182769f327\", \"type\": \"Rect\"}, \"nonselection_glyph\": null}}, {\"id\": \"41fc29a9-1aa2-4358-85ce-cd3d06359296\", \"type\": \"GlyphRenderer\", \"attributes\": {\"id\": \"41fc29a9-1aa2-4358-85ce-cd3d06359296\", \"tags\": [], \"selection_glyph\": null, \"doc\": null, \"data_source\": {\"id\": \"30cd0992-0541-46d5-b2cb-798e95de30e3\", \"type\": \"ColumnDataSource\"}, \"glyph\": {\"id\": \"be05def3-3be0-4cdd-951c-fb2f1a1db0fb\", \"type\": \"Rect\"}, \"nonselection_glyph\": null}}, {\"id\": \"b85ba8ce-35a6-45ef-9109-6ae2d29556fd\", \"type\": \"ColumnDataSource\", \"attributes\": {\"id\": \"b85ba8ce-35a6-45ef-9109-6ae2d29556fd\", \"data\": {\"width\": [2095.0], \"x\": [9334.1], \"height\": [601345.0], \"color\": [\"#f22c40\"], \"fill_alpha\": [0.8], \"y\": [300672.5]}, \"callback\": null, \"tags\": [], \"doc\": null, \"selected\": {\"2d\": {\"indices\": []}, \"0d\": {\"indices\": [], \"flag\": false}, \"1d\": {\"indices\": []}}, \"column_names\": [\"width\", \"x\", \"height\", \"color\", \"fill_alpha\", \"y\"]}}, {\"id\": \"b83dd4b9-4d64-4d39-ba08-15e8606942e7\", \"type\": \"GlyphRenderer\", \"attributes\": {\"id\": \"b83dd4b9-4d64-4d39-ba08-15e8606942e7\", \"tags\": [], \"selection_glyph\": null, \"doc\": null, \"data_source\": {\"id\": \"b85ba8ce-35a6-45ef-9109-6ae2d29556fd\", \"type\": \"ColumnDataSource\"}, \"glyph\": {\"id\": \"5d4f2248-cfb8-431a-b0b9-e06055751b04\", \"type\": \"Rect\"}, \"nonselection_glyph\": null}}, {\"id\": \"0dbb9574-9034-4184-b09c-94d82483c5f8\", \"type\": \"ColumnDataSource\", \"attributes\": {\"id\": \"0dbb9574-9034-4184-b09c-94d82483c5f8\", \"data\": {\"width\": [2095.0], \"x\": [3111.35], \"height\": [2258778.0], \"color\": [\"#f22c40\"], \"fill_alpha\": [0.8], \"y\": [1129389.0]}, \"callback\": null, \"tags\": [], \"doc\": null, \"selected\": {\"2d\": {\"indices\": []}, \"0d\": {\"indices\": [], \"flag\": false}, \"1d\": {\"indices\": []}}, \"column_names\": [\"width\", \"x\", \"height\", \"color\", \"fill_alpha\", \"y\"]}}, {\"id\": \"aac2c890-e41a-4162-a046-7833885a569f\", \"type\": \"Rect\", \"attributes\": {\"width\": {\"units\": \"data\", \"field\": \"width\"}, \"fill_color\": {\"field\": \"color\"}, \"x\": {\"field\": \"x\"}, \"tags\": [], \"height\": {\"units\": \"data\", \"field\": \"height\"}, \"y\": {\"field\": \"y\"}, \"doc\": null, \"fill_alpha\": {\"field\": \"fill_alpha\"}, \"id\": \"aac2c890-e41a-4162-a046-7833885a569f\"}}, {\"id\": \"45e52cf6-c0f6-4ddd-8149-5eb1f200a095\", \"type\": \"GlyphRenderer\", \"attributes\": {\"id\": \"45e52cf6-c0f6-4ddd-8149-5eb1f200a095\", \"tags\": [], \"selection_glyph\": null, \"doc\": null, \"data_source\": {\"id\": \"8ccdd90f-7e64-448a-86b3-ef587c2c2c9b\", \"type\": \"ColumnDataSource\"}, \"glyph\": {\"id\": \"45459c7b-e422-4466-9741-e4ff4b340353\", \"type\": \"Rect\"}, \"nonselection_glyph\": null}}, {\"id\": \"6d1b22af-4d2a-4c18-856d-42f5bb33ef55\", \"type\": \"ColumnDataSource\", \"attributes\": {\"id\": \"6d1b22af-4d2a-4c18-856d-42f5bb33ef55\", \"data\": {\"width\": [2095.0], \"x\": [15556.9], \"height\": [104512.0], \"color\": [\"#f22c40\"], \"fill_alpha\": [0.8], \"y\": [52256.0]}, \"callback\": null, \"tags\": [], \"doc\": null, \"selected\": {\"2d\": {\"indices\": []}, \"0d\": {\"indices\": [], \"flag\": false}, \"1d\": {\"indices\": []}}, \"column_names\": [\"width\", \"x\", \"height\", \"color\", \"fill_alpha\", \"y\"]}}, {\"id\": \"c10a69f4-bdba-4f75-889a-23c933fa498a\", \"type\": \"GlyphRenderer\", \"attributes\": {\"id\": \"c10a69f4-bdba-4f75-889a-23c933fa498a\", \"tags\": [], \"selection_glyph\": null, \"doc\": null, \"data_source\": {\"id\": \"50f1116e-8e5a-4611-aabd-79f06fbf193f\", \"type\": \"ColumnDataSource\"}, \"glyph\": {\"id\": \"aac2c890-e41a-4162-a046-7833885a569f\", \"type\": \"Rect\"}, \"nonselection_glyph\": null}}, {\"id\": \"03378cc7-963f-4a00-a54d-cdce3120c1e6\", \"type\": \"Rect\", \"attributes\": {\"width\": {\"units\": \"data\", \"field\": \"width\"}, \"fill_color\": {\"field\": \"color\"}, \"x\": {\"field\": \"x\"}, \"tags\": [], \"height\": {\"units\": \"data\", \"field\": \"height\"}, \"y\": {\"field\": \"y\"}, \"doc\": null, \"fill_alpha\": {\"field\": \"fill_alpha\"}, \"id\": \"03378cc7-963f-4a00-a54d-cdce3120c1e6\"}}, {\"id\": \"b1bac700-696c-4181-81ae-7c6474e34dff\", \"type\": \"GlyphRenderer\", \"attributes\": {\"id\": \"b1bac700-696c-4181-81ae-7c6474e34dff\", \"tags\": [], \"selection_glyph\": null, \"doc\": null, \"data_source\": {\"id\": \"7a1db637-b8cc-4b99-8262-51b9ceb2d64f\", \"type\": \"ColumnDataSource\"}, \"glyph\": {\"id\": \"03378cc7-963f-4a00-a54d-cdce3120c1e6\", \"type\": \"Rect\"}, \"nonselection_glyph\": null}}, {\"id\": \"9ee8de95-5ec2-4424-be14-6bde8eaf28e8\", \"type\": \"Rect\", \"attributes\": {\"width\": {\"units\": \"data\", \"field\": \"width\"}, \"fill_color\": {\"field\": \"color\"}, \"x\": {\"field\": \"x\"}, \"tags\": [], \"height\": {\"units\": \"data\", \"field\": \"height\"}, \"y\": {\"field\": \"y\"}, \"doc\": null, \"fill_alpha\": {\"field\": \"fill_alpha\"}, \"id\": \"9ee8de95-5ec2-4424-be14-6bde8eaf28e8\"}}, {\"id\": \"4dabe61a-3bfe-4950-8e1e-e55767094a5c\", \"type\": \"GlyphRenderer\", \"attributes\": {\"id\": \"4dabe61a-3bfe-4950-8e1e-e55767094a5c\", \"tags\": [], \"selection_glyph\": null, \"doc\": null, \"data_source\": {\"id\": \"901d1766-471f-4a27-addf-9e277bae7d5f\", \"type\": \"ColumnDataSource\"}, \"glyph\": {\"id\": \"9ee8de95-5ec2-4424-be14-6bde8eaf28e8\", \"type\": \"Rect\"}, \"nonselection_glyph\": null}}, {\"id\": \"bc7d993b-fab2-42ba-9b1c-5d1f85782fea\", \"type\": \"ColumnDataSource\", \"attributes\": {\"id\": \"bc7d993b-fab2-42ba-9b1c-5d1f85782fea\", \"data\": {\"width\": [2095.0], \"x\": [30076.65], \"height\": [358.0], \"color\": [\"#f22c40\"], \"fill_alpha\": [0.8], \"y\": [179.0]}, \"callback\": null, \"tags\": [], \"doc\": null, \"selected\": {\"2d\": {\"indices\": []}, \"0d\": {\"indices\": [], \"flag\": false}, \"1d\": {\"indices\": []}}, \"column_names\": [\"width\", \"x\", \"height\", \"color\", \"fill_alpha\", \"y\"]}}, {\"id\": \"64b9f05a-3066-4e98-b447-a70bbc86a10e\", \"subtype\": \"Chart\", \"type\": \"Plot\", \"attributes\": {\"extra_x_ranges\": {}, \"tags\": [], \"title_text_font_size\": {\"value\": \"12pt\"}, \"tool_events\": {\"id\": \"a43d47b6-f470-46bf-bd48-f2c3c3e8eefc\", \"type\": \"ToolEvents\"}, \"y_range\": {\"id\": \"00371903-15f3-497e-8586-9e9013cfb72f\", \"type\": \"Range1d\"}, \"right\": [], \"tools\": [{\"id\": \"2cc69f60-12b3-4ca5-b54f-e9983bc9aa20\", \"type\": \"PanTool\"}, {\"id\": \"ccd32884-8158-4734-a26f-2505726c08d7\", \"type\": \"WheelZoomTool\"}, {\"id\": \"6437a039-dbd0-4d3f-8453-c9cb056a7bfb\", \"type\": \"BoxZoomTool\"}, {\"id\": \"7a3eafb7-e683-479c-a3d8-54f65a3eeac9\", \"type\": \"PreviewSaveTool\"}, {\"id\": \"6b239aa9-59df-42dc-8240-beeae3799b41\", \"type\": \"ResizeTool\"}, {\"id\": \"dc425d2b-68fc-4547-ba76-e7c92723c334\", \"type\": \"ResetTool\"}, {\"id\": \"4e9028a3-2187-4927-b1de-31298e2c221a\", \"type\": \"HelpTool\"}], \"plot_width\": 600, \"below\": [{\"id\": \"50483c08-67c6-4d60-9112-205beedc9a02\", \"type\": \"LinearAxis\"}], \"extra_y_ranges\": {}, \"doc\": null, \"renderers\": [{\"id\": \"41fc29a9-1aa2-4358-85ce-cd3d06359296\", \"type\": \"GlyphRenderer\"}, {\"id\": \"10c86829-ee13-412f-b27c-95015af78cce\", \"type\": \"GlyphRenderer\"}, {\"id\": \"511e91ea-5eb0-4d60-9954-188c9709ae03\", \"type\": \"GlyphRenderer\"}, {\"id\": \"761733f6-af2e-4cbe-b2b5-b347938745f5\", \"type\": \"GlyphRenderer\"}, {\"id\": \"b83dd4b9-4d64-4d39-ba08-15e8606942e7\", \"type\": \"GlyphRenderer\"}, {\"id\": \"45e52cf6-c0f6-4ddd-8149-5eb1f200a095\", \"type\": \"GlyphRenderer\"}, {\"id\": \"5b88a44d-e90c-4953-b3e5-bf0a5c3739da\", \"type\": \"GlyphRenderer\"}, {\"id\": \"a5077b15-d9df-4331-a971-44e4afb04816\", \"type\": \"GlyphRenderer\"}, {\"id\": \"c10a69f4-bdba-4f75-889a-23c933fa498a\", \"type\": \"GlyphRenderer\"}, {\"id\": \"2e02172e-08fa-4c12-8827-d6cf32c54b1a\", \"type\": \"GlyphRenderer\"}, {\"id\": \"b1bac700-696c-4181-81ae-7c6474e34dff\", \"type\": \"GlyphRenderer\"}, {\"id\": \"95f52e87-6213-4b13-a614-57187d312712\", \"type\": \"GlyphRenderer\"}, {\"id\": \"4a31e1e4-d8f0-4321-b42a-34680d45a709\", \"type\": \"GlyphRenderer\"}, {\"id\": \"fcc99e3b-87b7-461b-8ec0-5cdaaa4db479\", \"type\": \"GlyphRenderer\"}, {\"id\": \"37adc570-a320-44e6-9130-dcfee8901798\", \"type\": \"GlyphRenderer\"}, {\"id\": \"a69d8875-cd08-4534-86c6-1033ad9e878f\", \"type\": \"GlyphRenderer\"}, {\"id\": \"4dabe61a-3bfe-4950-8e1e-e55767094a5c\", \"type\": \"GlyphRenderer\"}, {\"id\": \"539a94a6-ec3d-42e4-a01a-628efb4d5973\", \"type\": \"GlyphRenderer\"}, {\"id\": \"c7fd0004-d5ae-4d71-8fb1-7e07d929931d\", \"type\": \"GlyphRenderer\"}, {\"id\": \"20a2ae19-8dd0-427a-a95d-8e5516880987\", \"type\": \"GlyphRenderer\"}, {\"id\": \"50483c08-67c6-4d60-9112-205beedc9a02\", \"type\": \"LinearAxis\"}, {\"id\": \"b7d36d8d-aed9-4b83-b26e-e8a651c6e648\", \"type\": \"LinearAxis\"}, {\"id\": \"0fc4b31f-a8cb-48a8-b585-71a230ad0e7c\", \"type\": \"Grid\"}], \"id\": \"64b9f05a-3066-4e98-b447-a70bbc86a10e\", \"above\": [], \"responsive\": false, \"left\": [{\"id\": \"b7d36d8d-aed9-4b83-b26e-e8a651c6e648\", \"type\": \"LinearAxis\"}], \"title_text_font_style\": \"bold\", \"x_range\": {\"id\": \"d15f04b0-6a2a-49f7-a80a-b841ddf3d2c1\", \"type\": \"Range1d\"}, \"plot_height\": 400, \"title\": \"Histogram of 'balance' using .Histogram()\"}}, {\"id\": \"c7fd0004-d5ae-4d71-8fb1-7e07d929931d\", \"type\": \"GlyphRenderer\", \"attributes\": {\"id\": \"c7fd0004-d5ae-4d71-8fb1-7e07d929931d\", \"tags\": [], \"selection_glyph\": null, \"doc\": null, \"data_source\": {\"id\": \"79fe640b-5ddc-4fbb-9d60-2bea8b514c4c\", \"type\": \"ColumnDataSource\"}, \"glyph\": {\"id\": \"9cb1aee2-7463-4bab-9bf0-2a120c37e893\", \"type\": \"Rect\"}, \"nonselection_glyph\": null}}, {\"id\": \"10c86829-ee13-412f-b27c-95015af78cce\", \"type\": \"GlyphRenderer\", \"attributes\": {\"id\": \"10c86829-ee13-412f-b27c-95015af78cce\", \"tags\": [], \"selection_glyph\": null, \"doc\": null, \"data_source\": {\"id\": \"0dbb9574-9034-4184-b09c-94d82483c5f8\", \"type\": \"ColumnDataSource\"}, \"glyph\": {\"id\": \"47ca3ea3-67f9-47b9-bbee-3a35efd3d95a\", \"type\": \"Rect\"}, \"nonselection_glyph\": null}}, {\"id\": \"6437a039-dbd0-4d3f-8453-c9cb056a7bfb\", \"type\": \"BoxZoomTool\", \"attributes\": {\"id\": \"6437a039-dbd0-4d3f-8453-c9cb056a7bfb\", \"dimensions\": [\"width\", \"height\"], \"tags\": [], \"plot\": {\"id\": \"64b9f05a-3066-4e98-b447-a70bbc86a10e\", \"subtype\": \"Chart\", \"type\": \"Plot\"}, \"doc\": null}}, {\"id\": \"343cd4d1-7e5d-40ba-a802-b2f8492c161a\", \"type\": \"ColumnDataSource\", \"attributes\": {\"id\": \"343cd4d1-7e5d-40ba-a802-b2f8492c161a\", \"data\": {\"width\": [2095.0], \"x\": [7259.9], \"height\": [1035198.0], \"color\": [\"#f22c40\"], \"fill_alpha\": [0.8], \"y\": [517599.0]}, \"callback\": null, \"tags\": [], \"doc\": null, \"selected\": {\"2d\": {\"indices\": []}, \"0d\": {\"indices\": [], \"flag\": false}, \"1d\": {\"indices\": []}}, \"column_names\": [\"width\", \"x\", \"height\", \"color\", \"fill_alpha\", \"y\"]}}, {\"id\": \"901d1766-471f-4a27-addf-9e277bae7d5f\", \"type\": \"ColumnDataSource\", \"attributes\": {\"id\": \"901d1766-471f-4a27-addf-9e277bae7d5f\", \"data\": {\"width\": [2095.0], \"x\": [34225.1], \"height\": [45.0], \"color\": [\"#f22c40\"], \"fill_alpha\": [0.8], \"y\": [22.5]}, \"callback\": null, \"tags\": [], \"doc\": null, \"selected\": {\"2d\": {\"indices\": []}, \"0d\": {\"indices\": [], \"flag\": false}, \"1d\": {\"indices\": []}}, \"column_names\": [\"width\", \"x\", \"height\", \"color\", \"fill_alpha\", \"y\"]}}, {\"id\": \"89a04d93-557b-4afc-9bda-504e170a4e94\", \"type\": \"Rect\", \"attributes\": {\"width\": {\"units\": \"data\", \"field\": \"width\"}, \"fill_color\": {\"field\": \"color\"}, \"x\": {\"field\": \"x\"}, \"tags\": [], \"height\": {\"units\": \"data\", \"field\": \"height\"}, \"y\": {\"field\": \"y\"}, \"doc\": null, \"fill_alpha\": {\"field\": \"fill_alpha\"}, \"id\": \"89a04d93-557b-4afc-9bda-504e170a4e94\"}}, {\"id\": \"a8927ee4-699c-480b-9062-1f5da9d68297\", \"type\": \"ColumnDataSource\", \"attributes\": {\"id\": \"a8927ee4-699c-480b-9062-1f5da9d68297\", \"data\": {\"width\": [2095.0], \"x\": [40447.9], \"height\": [4.0], \"color\": [\"#f22c40\"], \"fill_alpha\": [0.8], \"y\": [2.0]}, \"callback\": null, \"tags\": [], \"doc\": null, \"selected\": {\"2d\": {\"indices\": []}, \"0d\": {\"indices\": [], \"flag\": false}, \"1d\": {\"indices\": []}}, \"column_names\": [\"width\", \"x\", \"height\", \"color\", \"fill_alpha\", \"y\"]}}, {\"id\": \"bbd35173-75dd-41d8-a3ad-1dc39a1318b9\", \"type\": \"Rect\", \"attributes\": {\"width\": {\"units\": \"data\", \"field\": \"width\"}, \"fill_color\": {\"field\": \"color\"}, \"x\": {\"field\": \"x\"}, \"tags\": [], \"height\": {\"units\": \"data\", \"field\": \"height\"}, \"y\": {\"field\": \"y\"}, \"doc\": null, \"fill_alpha\": {\"field\": \"fill_alpha\"}, \"id\": \"bbd35173-75dd-41d8-a3ad-1dc39a1318b9\"}}, {\"id\": \"b4aa6c71-f43f-4974-b12b-5cb20f976117\", \"type\": \"Rect\", \"attributes\": {\"width\": {\"units\": \"data\", \"field\": \"width\"}, \"fill_color\": {\"field\": \"color\"}, \"x\": {\"field\": \"x\"}, \"tags\": [], \"height\": {\"units\": \"data\", \"field\": \"height\"}, \"y\": {\"field\": \"y\"}, \"doc\": null, \"fill_alpha\": {\"field\": \"fill_alpha\"}, \"id\": \"b4aa6c71-f43f-4974-b12b-5cb20f976117\"}}];\n",
       "        Bokeh.load_models(all_models);\n",
       "        var plots = [{'modeltype': 'Plot', 'elementid': 'b4725c2b-a93d-43dd-8b76-df2ff92b1b70', 'modelid': '64b9f05a-3066-4e98-b447-a70bbc86a10e'}];\n",
       "        for (idx in plots) {\n",
       "        \tvar plot = plots[idx];\n",
       "        \tvar model = Bokeh.Collections(plot.modeltype).get(plot.modelid);\n",
       "        \tBokeh.logger.info('Realizing plot:')\n",
       "        \tBokeh.logger.info(' - modeltype: ' + plot.modeltype);\n",
       "        \tBokeh.logger.info(' - modelid: ' + plot.modelid);\n",
       "        \tBokeh.logger.info(' - elementid: ' + plot.elementid);\n",
       "        \tvar view = new model.default_view({\n",
       "        \t\tmodel: model,\n",
       "        \t\tel: '#' + plot.elementid\n",
       "        \t});\n",
       "        \tBokeh.index[plot.modelid] = view;\n",
       "        }\n",
       "    });\n",
       "    </script>\n",
       "<div class=\"plotdiv\" id=\"b4725c2b-a93d-43dd-8b76-df2ff92b1b70\"></div>\n",
       "\n"
      ]
     },
     "metadata": {},
     "output_type": "display_data"
    }
   ],
   "source": [
    "b_hist_driver = chrt.Histogram(data_driver, values='obs', title='Histogram of \\'balance\\' using .Histogram()', bins=20)\n",
    "chrt.show(b_hist_driver)"
   ]
  },
  {
   "cell_type": "markdown",
   "metadata": {},
   "source": [
    "### Interactions between features"
   ]
  },
  {
   "cell_type": "markdown",
   "metadata": {},
   "source": [
    "In this example we will sample our fraud dataset at 1% given gender as strata."
   ]
  },
  {
   "cell_type": "code",
   "execution_count": 38,
   "metadata": {
    "collapsed": true
   },
   "outputs": [],
   "source": [
    "data_sample = fraud_df.sampleBy('gender', {1: 0.0002, 2: 0.0002}).select(numerical)"
   ]
  },
  {
   "cell_type": "markdown",
   "metadata": {},
   "source": [
    "To put multiple 2D charts in one go you can use"
   ]
  },
  {
   "cell_type": "code",
   "execution_count": 39,
   "metadata": {
    "collapsed": false
   },
   "outputs": [],
   "source": [
    "data_multi = dict([\n",
    "    (elem, data_sample.select(elem).rdd.flatMap(lambda row: row).collect()) \n",
    "    for elem in numerical\n",
    "])\n",
    "\n",
    "sctr = chrt.Scatter(data_multi, x='balance', y='numTrans')\n",
    "\n",
    "chrt.show(sctr)"
   ]
  }
 ],
 "metadata": {
  "kernelspec": {
   "display_name": "Python 3",
   "language": "python",
   "name": "python3"
  },
  "language_info": {
   "codemirror_mode": {
    "name": "ipython",
    "version": 3
   },
   "file_extension": ".py",
   "mimetype": "text/x-python",
   "name": "python",
   "nbconvert_exporter": "python",
   "pygments_lexer": "ipython3",
   "version": "3.6.0"
  }
 },
 "nbformat": 4,
 "nbformat_minor": 0
}
