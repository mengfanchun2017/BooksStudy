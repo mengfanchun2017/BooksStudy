{
 "cells": [
  {
   "cell_type": "markdown",
   "metadata": {},
   "source": [
    "# 11.2 Time Series Basics（时间序列基础）\n",
    "\n",
    "在pandas中，一个基本的时间序列对象，是一个用时间戳作为索引的Series，在pandas外部的话，通常是用python 字符串或datetime对象来表示的："
   ]
  },
  {
   "cell_type": "code",
   "execution_count": 1,
   "metadata": {
    "ExecuteTime": {
     "end_time": "2020-04-01T01:25:48.584030Z",
     "start_time": "2020-04-01T01:25:48.008916Z"
    }
   },
   "outputs": [],
   "source": [
    "import pandas as pd\n",
    "import numpy as np\n",
    "from datetime import datetime"
   ]
  },
  {
   "cell_type": "code",
   "execution_count": 2,
   "metadata": {
    "ExecuteTime": {
     "end_time": "2020-04-01T01:25:48.602576Z",
     "start_time": "2020-04-01T01:25:48.587110Z"
    }
   },
   "outputs": [],
   "source": [
    "dates = [datetime(2011, 1, 2), datetime(2011, 1, 5),\n",
    "         datetime(2011, 1, 7), datetime(2011, 1, 8), \n",
    "         datetime(2011, 1, 10), datetime(2011, 1, 12)]"
   ]
  },
  {
   "cell_type": "code",
   "execution_count": 3,
   "metadata": {
    "ExecuteTime": {
     "end_time": "2020-04-01T01:25:50.121669Z",
     "start_time": "2020-04-01T01:25:50.101809Z"
    }
   },
   "outputs": [
    {
     "data": {
      "text/plain": [
       "2011-01-02    1.073525\n",
       "2011-01-05    0.452217\n",
       "2011-01-07   -0.595148\n",
       "2011-01-08    0.868199\n",
       "2011-01-10    0.254506\n",
       "2011-01-12    0.721953\n",
       "dtype: float64"
      ]
     },
     "execution_count": 3,
     "metadata": {},
     "output_type": "execute_result"
    }
   ],
   "source": [
    "ts = pd.Series(np.random.randn(6), index=dates)\n",
    "ts"
   ]
  },
  {
   "cell_type": "markdown",
   "metadata": {},
   "source": [
    "上面的转化原理是，datetime对象被放进了DatetimeIndex:"
   ]
  },
  {
   "cell_type": "code",
   "execution_count": 4,
   "metadata": {
    "ExecuteTime": {
     "end_time": "2020-04-01T01:26:09.599861Z",
     "start_time": "2020-04-01T01:26:09.590186Z"
    }
   },
   "outputs": [
    {
     "data": {
      "text/plain": [
       "DatetimeIndex(['2011-01-02', '2011-01-05', '2011-01-07', '2011-01-08',\n",
       "               '2011-01-10', '2011-01-12'],\n",
       "              dtype='datetime64[ns]', freq=None)"
      ]
     },
     "execution_count": 4,
     "metadata": {},
     "output_type": "execute_result"
    }
   ],
   "source": [
    "ts.index"
   ]
  },
  {
   "cell_type": "markdown",
   "metadata": {},
   "source": [
    "像其他的Series一行，数值原色会自动按时间序列索引进行对齐："
   ]
  },
  {
   "cell_type": "code",
   "execution_count": 5,
   "metadata": {
    "ExecuteTime": {
     "end_time": "2020-04-01T01:26:39.072015Z",
     "start_time": "2020-04-01T01:26:39.059547Z"
    }
   },
   "outputs": [
    {
     "data": {
      "text/plain": [
       "2011-01-02    1.073525\n",
       "2011-01-07   -0.595148\n",
       "2011-01-10    0.254506\n",
       "dtype: float64"
      ]
     },
     "execution_count": 5,
     "metadata": {},
     "output_type": "execute_result"
    }
   ],
   "source": [
    "ts[::2]"
   ]
  },
  {
   "cell_type": "code",
   "execution_count": 6,
   "metadata": {
    "ExecuteTime": {
     "end_time": "2020-04-01T01:26:46.982401Z",
     "start_time": "2020-04-01T01:26:46.946369Z"
    }
   },
   "outputs": [
    {
     "data": {
      "text/plain": [
       "2011-01-02    2.147049\n",
       "2011-01-05         NaN\n",
       "2011-01-07   -1.190296\n",
       "2011-01-08         NaN\n",
       "2011-01-10    0.509012\n",
       "2011-01-12         NaN\n",
       "dtype: float64"
      ]
     },
     "execution_count": 6,
     "metadata": {},
     "output_type": "execute_result"
    }
   ],
   "source": [
    "ts + ts[::2]"
   ]
  },
  {
   "cell_type": "markdown",
   "metadata": {},
   "source": [
    "ts[::2]会在ts中，每隔两个元素选一个元素。\n",
    "\n",
    "pandas中的时间戳，是按numpy中的datetime64数据类型进行保存的，可以精确到纳秒的级别："
   ]
  },
  {
   "cell_type": "code",
   "execution_count": 7,
   "metadata": {
    "ExecuteTime": {
     "end_time": "2020-04-01T01:27:42.429151Z",
     "start_time": "2020-04-01T01:27:42.419342Z"
    }
   },
   "outputs": [
    {
     "data": {
      "text/plain": [
       "dtype('<M8[ns]')"
      ]
     },
     "execution_count": 7,
     "metadata": {},
     "output_type": "execute_result"
    }
   ],
   "source": [
    "ts.index.dtype"
   ]
  },
  {
   "cell_type": "markdown",
   "metadata": {},
   "source": [
    "DatetimeIndex的标量是pandas的Timestamp对象："
   ]
  },
  {
   "cell_type": "code",
   "execution_count": 8,
   "metadata": {
    "ExecuteTime": {
     "end_time": "2020-04-01T01:27:43.311111Z",
     "start_time": "2020-04-01T01:27:43.303048Z"
    }
   },
   "outputs": [
    {
     "data": {
      "text/plain": [
       "Timestamp('2011-01-02 00:00:00')"
      ]
     },
     "execution_count": 8,
     "metadata": {},
     "output_type": "execute_result"
    }
   ],
   "source": [
    "stamp = ts.index[0]\n",
    "stamp"
   ]
  },
  {
   "cell_type": "markdown",
   "metadata": {},
   "source": [
    "Timestamp可以在任何地方用datetime对象进行替换。\n",
    "\n",
    "# 1 Indexing, Selection, Subsetting（索引，选择，取子集）\n",
    "\n",
    "当我们基于标签进行索引和选择时，时间序列就像是pandas.Series："
   ]
  },
  {
   "cell_type": "code",
   "execution_count": 9,
   "metadata": {
    "ExecuteTime": {
     "end_time": "2020-04-01T01:27:46.881748Z",
     "start_time": "2020-04-01T01:27:46.859338Z"
    }
   },
   "outputs": [
    {
     "data": {
      "text/plain": [
       "2011-01-02    1.073525\n",
       "2011-01-05    0.452217\n",
       "2011-01-07   -0.595148\n",
       "2011-01-08    0.868199\n",
       "2011-01-10    0.254506\n",
       "2011-01-12    0.721953\n",
       "dtype: float64"
      ]
     },
     "execution_count": 9,
     "metadata": {},
     "output_type": "execute_result"
    }
   ],
   "source": [
    "ts"
   ]
  },
  {
   "cell_type": "code",
   "execution_count": 10,
   "metadata": {
    "ExecuteTime": {
     "end_time": "2020-04-01T01:27:47.486911Z",
     "start_time": "2020-04-01T01:27:47.483212Z"
    }
   },
   "outputs": [],
   "source": [
    "stamp = ts.index[2]"
   ]
  },
  {
   "cell_type": "code",
   "execution_count": 11,
   "metadata": {
    "ExecuteTime": {
     "end_time": "2020-04-01T01:27:47.944241Z",
     "start_time": "2020-04-01T01:27:47.935659Z"
    }
   },
   "outputs": [
    {
     "data": {
      "text/plain": [
       "-0.5951480182531426"
      ]
     },
     "execution_count": 11,
     "metadata": {},
     "output_type": "execute_result"
    }
   ],
   "source": [
    "ts[stamp]"
   ]
  },
  {
   "cell_type": "markdown",
   "metadata": {},
   "source": [
    "为了方便，我们可以直接传入一个字符串用来表示日期："
   ]
  },
  {
   "cell_type": "code",
   "execution_count": 12,
   "metadata": {
    "ExecuteTime": {
     "end_time": "2020-04-01T01:29:34.471915Z",
     "start_time": "2020-04-01T01:29:34.459967Z"
    }
   },
   "outputs": [
    {
     "data": {
      "text/plain": [
       "0.2545059909765294"
      ]
     },
     "execution_count": 12,
     "metadata": {},
     "output_type": "execute_result"
    }
   ],
   "source": [
    "ts['1/10/2011']"
   ]
  },
  {
   "cell_type": "code",
   "execution_count": 13,
   "metadata": {
    "ExecuteTime": {
     "end_time": "2020-04-01T01:29:40.545148Z",
     "start_time": "2020-04-01T01:29:40.537307Z"
    }
   },
   "outputs": [
    {
     "data": {
      "text/plain": [
       "0.2545059909765294"
      ]
     },
     "execution_count": 13,
     "metadata": {},
     "output_type": "execute_result"
    }
   ],
   "source": [
    "ts['20110110']"
   ]
  },
  {
   "cell_type": "markdown",
   "metadata": {},
   "source": [
    "对于比较长的时间序列，我们可以直接传入一年或一年一个月，来进行数据选取："
   ]
  },
  {
   "cell_type": "code",
   "execution_count": 14,
   "metadata": {
    "ExecuteTime": {
     "end_time": "2020-04-01T01:29:59.933134Z",
     "start_time": "2020-04-01T01:29:59.917348Z"
    }
   },
   "outputs": [
    {
     "data": {
      "text/plain": [
       "2000-01-01   -1.623362\n",
       "2000-01-02   -0.811438\n",
       "2000-01-03    1.417576\n",
       "2000-01-04    0.241646\n",
       "2000-01-05   -1.152537\n",
       "                ...   \n",
       "2002-09-22    0.984203\n",
       "2002-09-23   -1.582177\n",
       "2002-09-24    1.452152\n",
       "2002-09-25    0.750242\n",
       "2002-09-26    0.281997\n",
       "Freq: D, Length: 1000, dtype: float64"
      ]
     },
     "execution_count": 14,
     "metadata": {},
     "output_type": "execute_result"
    }
   ],
   "source": [
    "longer_ts = pd.Series(np.random.randn(1000),\n",
    "                      index=pd.date_range('1/1/2000', periods=1000))\n",
    "longer_ts"
   ]
  },
  {
   "cell_type": "code",
   "execution_count": 15,
   "metadata": {
    "ExecuteTime": {
     "end_time": "2020-04-01T01:30:03.703516Z",
     "start_time": "2020-04-01T01:30:03.690261Z"
    }
   },
   "outputs": [
    {
     "data": {
      "text/plain": [
       "2001-01-01   -0.883071\n",
       "2001-01-02    0.278776\n",
       "2001-01-03   -1.340771\n",
       "2001-01-04    0.923575\n",
       "2001-01-05    1.208018\n",
       "                ...   \n",
       "2001-12-27   -0.806674\n",
       "2001-12-28   -0.210824\n",
       "2001-12-29   -0.547426\n",
       "2001-12-30   -0.483912\n",
       "2001-12-31    0.843150\n",
       "Freq: D, Length: 365, dtype: float64"
      ]
     },
     "execution_count": 15,
     "metadata": {},
     "output_type": "execute_result"
    }
   ],
   "source": [
    "longer_ts['2001']"
   ]
  },
  {
   "cell_type": "markdown",
   "metadata": {},
   "source": [
    "这里，字符串'2001'就直接被解析为一年，然后选中这个时期的数据。我们也可以指定月份："
   ]
  },
  {
   "cell_type": "code",
   "execution_count": 16,
   "metadata": {
    "ExecuteTime": {
     "end_time": "2020-04-01T01:30:27.788165Z",
     "start_time": "2020-04-01T01:30:27.778896Z"
    }
   },
   "outputs": [
    {
     "data": {
      "text/plain": [
       "2001-05-01   -1.372296\n",
       "2001-05-02   -0.084600\n",
       "2001-05-03   -0.628623\n",
       "2001-05-04    0.640029\n",
       "2001-05-05    0.773166\n",
       "2001-05-06    1.460152\n",
       "2001-05-07    1.058158\n",
       "2001-05-08    1.275686\n",
       "2001-05-09    1.618681\n",
       "2001-05-10   -0.867739\n",
       "2001-05-11   -0.252379\n",
       "2001-05-12   -0.225713\n",
       "2001-05-13    0.700488\n",
       "2001-05-14    1.173973\n",
       "2001-05-15    0.441359\n",
       "2001-05-16    0.115345\n",
       "2001-05-17    0.464531\n",
       "2001-05-18   -0.681089\n",
       "2001-05-19   -0.711048\n",
       "2001-05-20   -0.043264\n",
       "2001-05-21    0.833789\n",
       "2001-05-22   -0.839492\n",
       "2001-05-23   -0.938510\n",
       "2001-05-24   -0.095034\n",
       "2001-05-25   -0.008017\n",
       "2001-05-26   -0.721273\n",
       "2001-05-27    0.593224\n",
       "2001-05-28   -1.573863\n",
       "2001-05-29    0.026922\n",
       "2001-05-30   -0.326843\n",
       "2001-05-31   -0.841308\n",
       "Freq: D, dtype: float64"
      ]
     },
     "execution_count": 16,
     "metadata": {},
     "output_type": "execute_result"
    }
   ],
   "source": [
    "longer_ts['2001-05']"
   ]
  },
  {
   "cell_type": "markdown",
   "metadata": {},
   "source": [
    "利用datetime进行切片（slicing）也没问题："
   ]
  },
  {
   "cell_type": "code",
   "execution_count": 17,
   "metadata": {
    "ExecuteTime": {
     "end_time": "2020-04-01T01:30:37.266969Z",
     "start_time": "2020-04-01T01:30:37.257003Z"
    }
   },
   "outputs": [
    {
     "data": {
      "text/plain": [
       "-0.5951480182531426"
      ]
     },
     "execution_count": 17,
     "metadata": {},
     "output_type": "execute_result"
    }
   ],
   "source": [
    "ts[datetime(2011, 1, 7)]"
   ]
  },
  {
   "cell_type": "markdown",
   "metadata": {},
   "source": [
    "因为大部分时间序列是按年代时间顺序来排列的，我们可以用时间戳来进行切片，选中一段范围内的时间："
   ]
  },
  {
   "cell_type": "code",
   "execution_count": 18,
   "metadata": {
    "ExecuteTime": {
     "end_time": "2020-04-01T01:31:55.442042Z",
     "start_time": "2020-04-01T01:31:55.429243Z"
    }
   },
   "outputs": [
    {
     "data": {
      "text/plain": [
       "2011-01-02    1.073525\n",
       "2011-01-05    0.452217\n",
       "2011-01-07   -0.595148\n",
       "2011-01-08    0.868199\n",
       "2011-01-10    0.254506\n",
       "2011-01-12    0.721953\n",
       "dtype: float64"
      ]
     },
     "execution_count": 18,
     "metadata": {},
     "output_type": "execute_result"
    }
   ],
   "source": [
    "ts"
   ]
  },
  {
   "cell_type": "code",
   "execution_count": 19,
   "metadata": {
    "ExecuteTime": {
     "end_time": "2020-04-01T01:31:55.901555Z",
     "start_time": "2020-04-01T01:31:55.888564Z"
    }
   },
   "outputs": [
    {
     "data": {
      "text/plain": [
       "2011-01-07   -0.595148\n",
       "2011-01-08    0.868199\n",
       "2011-01-10    0.254506\n",
       "dtype: float64"
      ]
     },
     "execution_count": 19,
     "metadata": {},
     "output_type": "execute_result"
    }
   ],
   "source": [
    "ts['1/6/2011':'1/11/2011']"
   ]
  },
  {
   "cell_type": "markdown",
   "metadata": {},
   "source": [
    "记住，这种方式的切片得到的只是原来数据的一个视图，如果我们在切片的结果上进行更改的的，原来的数据也会变化。\n",
    "\n",
    "有一个相等的实例方法（instance method）也能切片，truncate，能在两个日期上，对Series进行切片："
   ]
  },
  {
   "cell_type": "code",
   "execution_count": 20,
   "metadata": {
    "ExecuteTime": {
     "end_time": "2020-04-01T01:32:26.343373Z",
     "start_time": "2020-04-01T01:32:26.331965Z"
    },
    "scrolled": true
   },
   "outputs": [
    {
     "data": {
      "text/plain": [
       "2011-01-02    1.073525\n",
       "2011-01-05    0.452217\n",
       "2011-01-07   -0.595148\n",
       "2011-01-08    0.868199\n",
       "dtype: float64"
      ]
     },
     "execution_count": 20,
     "metadata": {},
     "output_type": "execute_result"
    }
   ],
   "source": [
    "ts.truncate(after='1/9/2011')"
   ]
  },
  {
   "cell_type": "markdown",
   "metadata": {},
   "source": [
    "所有这些都适用于DataFrame，我们对行进行索引："
   ]
  },
  {
   "cell_type": "code",
   "execution_count": 23,
   "metadata": {
    "ExecuteTime": {
     "end_time": "2020-04-01T01:34:15.330238Z",
     "start_time": "2020-04-01T01:34:15.319977Z"
    }
   },
   "outputs": [],
   "source": [
    "dates = pd.date_range('1/1/2000', periods=100, freq='W-WED')\n",
    "# 注意 freq 的用法"
   ]
  },
  {
   "cell_type": "code",
   "execution_count": 24,
   "metadata": {
    "ExecuteTime": {
     "end_time": "2020-04-01T01:34:15.762438Z",
     "start_time": "2020-04-01T01:34:15.756268Z"
    }
   },
   "outputs": [],
   "source": [
    "long_df = pd.DataFrame(np.random.randn(100, 4),\n",
    "                       index=dates,\n",
    "                       columns=['Colorado', 'Texas',\n",
    "                                'New York', 'Ohio'])"
   ]
  },
  {
   "cell_type": "code",
   "execution_count": 25,
   "metadata": {
    "ExecuteTime": {
     "end_time": "2020-04-01T01:34:16.356102Z",
     "start_time": "2020-04-01T01:34:16.335448Z"
    }
   },
   "outputs": [
    {
     "data": {
      "text/html": [
       "<div>\n",
       "<style scoped>\n",
       "    .dataframe tbody tr th:only-of-type {\n",
       "        vertical-align: middle;\n",
       "    }\n",
       "\n",
       "    .dataframe tbody tr th {\n",
       "        vertical-align: top;\n",
       "    }\n",
       "\n",
       "    .dataframe thead th {\n",
       "        text-align: right;\n",
       "    }\n",
       "</style>\n",
       "<table border=\"1\" class=\"dataframe\">\n",
       "  <thead>\n",
       "    <tr style=\"text-align: right;\">\n",
       "      <th></th>\n",
       "      <th>Colorado</th>\n",
       "      <th>Texas</th>\n",
       "      <th>New York</th>\n",
       "      <th>Ohio</th>\n",
       "    </tr>\n",
       "  </thead>\n",
       "  <tbody>\n",
       "    <tr>\n",
       "      <th>2001-05-02</th>\n",
       "      <td>-1.472341</td>\n",
       "      <td>1.864532</td>\n",
       "      <td>0.398151</td>\n",
       "      <td>0.638124</td>\n",
       "    </tr>\n",
       "    <tr>\n",
       "      <th>2001-05-09</th>\n",
       "      <td>0.502960</td>\n",
       "      <td>0.078645</td>\n",
       "      <td>1.115414</td>\n",
       "      <td>0.060053</td>\n",
       "    </tr>\n",
       "    <tr>\n",
       "      <th>2001-05-16</th>\n",
       "      <td>-1.967135</td>\n",
       "      <td>0.835075</td>\n",
       "      <td>1.025144</td>\n",
       "      <td>-1.018520</td>\n",
       "    </tr>\n",
       "    <tr>\n",
       "      <th>2001-05-23</th>\n",
       "      <td>-1.336778</td>\n",
       "      <td>-0.276574</td>\n",
       "      <td>-0.542857</td>\n",
       "      <td>-0.017694</td>\n",
       "    </tr>\n",
       "    <tr>\n",
       "      <th>2001-05-30</th>\n",
       "      <td>-0.572975</td>\n",
       "      <td>0.134441</td>\n",
       "      <td>0.758269</td>\n",
       "      <td>-0.405362</td>\n",
       "    </tr>\n",
       "  </tbody>\n",
       "</table>\n",
       "</div>"
      ],
      "text/plain": [
       "            Colorado     Texas  New York      Ohio\n",
       "2001-05-02 -1.472341  1.864532  0.398151  0.638124\n",
       "2001-05-09  0.502960  0.078645  1.115414  0.060053\n",
       "2001-05-16 -1.967135  0.835075  1.025144 -1.018520\n",
       "2001-05-23 -1.336778 -0.276574 -0.542857 -0.017694\n",
       "2001-05-30 -0.572975  0.134441  0.758269 -0.405362"
      ]
     },
     "execution_count": 25,
     "metadata": {},
     "output_type": "execute_result"
    }
   ],
   "source": [
    "long_df.loc['5-2001']"
   ]
  },
  {
   "cell_type": "markdown",
   "metadata": {},
   "source": [
    "# 2 Time Series with Duplicate Indices（重复索引的时间序列）\n",
    "\n",
    "在某些数据中，可能会遇到多个数据在同一时间戳下的情况："
   ]
  },
  {
   "cell_type": "code",
   "execution_count": 26,
   "metadata": {
    "ExecuteTime": {
     "end_time": "2020-04-01T01:34:39.652268Z",
     "start_time": "2020-04-01T01:34:39.644511Z"
    }
   },
   "outputs": [],
   "source": [
    "dates = pd.DatetimeIndex(['1/1/2000', '1/2/2000', '1/2/2000', \n",
    "                          '1/2/2000', '1/3/2000'])"
   ]
  },
  {
   "cell_type": "code",
   "execution_count": 27,
   "metadata": {
    "ExecuteTime": {
     "end_time": "2020-04-01T01:34:39.958849Z",
     "start_time": "2020-04-01T01:34:39.950019Z"
    }
   },
   "outputs": [
    {
     "data": {
      "text/plain": [
       "2000-01-01    0\n",
       "2000-01-02    1\n",
       "2000-01-02    2\n",
       "2000-01-02    3\n",
       "2000-01-03    4\n",
       "dtype: int64"
      ]
     },
     "execution_count": 27,
     "metadata": {},
     "output_type": "execute_result"
    }
   ],
   "source": [
    "dup_ts = pd.Series(np.arange(5), index=dates)\n",
    "dup_ts"
   ]
  },
  {
   "cell_type": "markdown",
   "metadata": {},
   "source": [
    "我们通过is_unique属性来查看index是否是唯一值："
   ]
  },
  {
   "cell_type": "code",
   "execution_count": 28,
   "metadata": {
    "ExecuteTime": {
     "end_time": "2020-04-01T01:34:41.240856Z",
     "start_time": "2020-04-01T01:34:41.230576Z"
    }
   },
   "outputs": [
    {
     "data": {
      "text/plain": [
       "False"
      ]
     },
     "execution_count": 28,
     "metadata": {},
     "output_type": "execute_result"
    }
   ],
   "source": [
    "dup_ts.index.is_unique"
   ]
  },
  {
   "cell_type": "markdown",
   "metadata": {},
   "source": [
    "对这个时间序列取索引的的话， 要么得到标量，要么得到切片，这取决于时间戳是否是重复的："
   ]
  },
  {
   "cell_type": "code",
   "execution_count": 29,
   "metadata": {
    "ExecuteTime": {
     "end_time": "2020-04-01T01:34:51.274216Z",
     "start_time": "2020-04-01T01:34:51.264148Z"
    }
   },
   "outputs": [
    {
     "data": {
      "text/plain": [
       "4"
      ]
     },
     "execution_count": 29,
     "metadata": {},
     "output_type": "execute_result"
    }
   ],
   "source": [
    "dup_ts['1/3/2000'] # not duplicated"
   ]
  },
  {
   "cell_type": "code",
   "execution_count": 30,
   "metadata": {
    "ExecuteTime": {
     "end_time": "2020-04-01T01:34:51.822057Z",
     "start_time": "2020-04-01T01:34:51.810602Z"
    }
   },
   "outputs": [
    {
     "data": {
      "text/plain": [
       "2000-01-02    1\n",
       "2000-01-02    2\n",
       "2000-01-02    3\n",
       "dtype: int64"
      ]
     },
     "execution_count": 30,
     "metadata": {},
     "output_type": "execute_result"
    }
   ],
   "source": [
    "dup_ts['1/2/2000'] # duplicated"
   ]
  },
  {
   "cell_type": "markdown",
   "metadata": {},
   "source": [
    "假设我们想要聚合那些有重复时间戳的数据，一种方法是用groupby，设定level=0："
   ]
  },
  {
   "cell_type": "code",
   "execution_count": 31,
   "metadata": {
    "ExecuteTime": {
     "end_time": "2020-04-01T01:35:28.525862Z",
     "start_time": "2020-04-01T01:35:28.513699Z"
    }
   },
   "outputs": [
    {
     "data": {
      "text/plain": [
       "2000-01-01    0\n",
       "2000-01-02    2\n",
       "2000-01-03    4\n",
       "dtype: int64"
      ]
     },
     "execution_count": 31,
     "metadata": {},
     "output_type": "execute_result"
    }
   ],
   "source": [
    "grouped = dup_ts.groupby(level=0)\n",
    "grouped.mean()"
   ]
  },
  {
   "cell_type": "code",
   "execution_count": 32,
   "metadata": {
    "ExecuteTime": {
     "end_time": "2020-04-01T01:35:29.505523Z",
     "start_time": "2020-04-01T01:35:29.496151Z"
    }
   },
   "outputs": [
    {
     "data": {
      "text/plain": [
       "2000-01-01    1\n",
       "2000-01-02    3\n",
       "2000-01-03    1\n",
       "dtype: int64"
      ]
     },
     "execution_count": 32,
     "metadata": {},
     "output_type": "execute_result"
    }
   ],
   "source": [
    "grouped.count()"
   ]
  },
  {
   "cell_type": "code",
   "execution_count": null,
   "metadata": {},
   "outputs": [],
   "source": []
  }
 ],
 "metadata": {
  "kernelspec": {
   "display_name": "Python 3",
   "language": "python",
   "name": "python3"
  },
  "language_info": {
   "codemirror_mode": {
    "name": "ipython",
    "version": 3
   },
   "file_extension": ".py",
   "mimetype": "text/x-python",
   "name": "python",
   "nbconvert_exporter": "python",
   "pygments_lexer": "ipython3",
   "version": "3.8.1"
  },
  "toc": {
   "base_numbering": 1,
   "nav_menu": {},
   "number_sections": true,
   "sideBar": true,
   "skip_h1_title": false,
   "title_cell": "Table of Contents",
   "title_sidebar": "Contents",
   "toc_cell": false,
   "toc_position": {},
   "toc_section_display": true,
   "toc_window_display": false
  }
 },
 "nbformat": 4,
 "nbformat_minor": 1
}
