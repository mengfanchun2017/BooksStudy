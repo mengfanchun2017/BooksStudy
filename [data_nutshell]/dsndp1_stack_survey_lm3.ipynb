{
 "cells": [
  {
   "cell_type": "markdown",
   "metadata": {},
   "source": [
    "> jupyter 使用 toc 扩展进行编辑,建议开启,比较方便阅读和查找\n"
   ]
  },
  {
   "cell_type": "markdown",
   "metadata": {
    "hide_input": true
   },
   "source": [
    "## _**Load Data**_\n",
    "### / import lib"
   ]
  },
  {
   "cell_type": "code",
   "execution_count": 7,
   "metadata": {
    "ExecuteTime": {
     "end_time": "2019-07-22T15:01:03.865752Z",
     "start_time": "2019-07-22T15:01:02.855203Z"
    }
   },
   "outputs": [],
   "source": [
    "# import libs\n",
    "import pandas as pd\n",
    "import numpy as np\n",
    "import seaborn as sns\n",
    "\n",
    "import pprint  as pp\n",
    "import sys\n",
    "\n",
    "%matplotlib inline"
   ]
  },
  {
   "cell_type": "markdown",
   "metadata": {},
   "source": [
    "### / load df"
   ]
  },
  {
   "cell_type": "code",
   "execution_count": 1,
   "metadata": {
    "ExecuteTime": {
     "end_time": "2019-07-21T22:53:38.440373Z",
     "start_time": "2019-07-21T22:53:38.424988Z"
    },
    "hide_input": true
   },
   "outputs": [],
   "source": [
    "# import libs\n",
    "import pandas as pd\n",
    "import numpy as np\n",
    "\n",
    "import pprint  as pp\n",
    "import sys\n",
    "\n",
    "import matplotlib as plt\n",
    "\n",
    "%matplotlib inline"
   ]
  },
  {
   "cell_type": "code",
   "execution_count": 3,
   "metadata": {
    "ExecuteTime": {
     "end_time": "2019-07-21T02:00:56.892268Z",
     "start_time": "2019-07-21T02:00:56.887302Z"
    },
    "hide_input": false
   },
   "outputs": [],
   "source": [
    "# load data (pass)\n",
    "# for too large csv for git\n",
    "# use zip to solve\n",
    "\n",
    "'''\n",
    "## set file env\n",
    "project_folder = '~/git/udacity-private/_dsnd/p1_blog/project_stack/'\n",
    "sub_folder_list = ['developer_survey_2019/','developer_survey_2018/','developer_survey_2017/']\n",
    "file_prefix = 'survey_results_'\n",
    "file_domain_list = ['public','schema']\n",
    "file_type = '.csv'\n",
    "zip_tpye= '.zip'\n",
    "\n",
    "## set file var\n",
    "f2019_public = project_folder + sub_folder_list[0] + file_prefix + file_domain_list[0] + file_type\n",
    "f2019_shcema = project_folder + sub_folder_list[0] + file_prefix + file_domain_list[1] + file_type\n",
    "f2018_public = project_folder + sub_folder_list[1] + file_prefix + file_domain_list[0] + file_type\n",
    "f2018_shcema = project_folder + sub_folder_list[1] + file_prefix + file_domain_list[1] + file_type\n",
    "f2017_public = project_folder + sub_folder_list[2] + file_prefix + file_domain_list[0] + file_type\n",
    "f2017_shcema = project_folder + sub_folder_list[2] + file_prefix + file_domain_list[1] + file_type\n",
    "\n",
    "## load file\n",
    "df2019d = pd.read_csv(f2019_public)\n",
    "df2019s = pd.read_csv(f2019_shcema)\n",
    "df2018d = pd.read_csv(f2018_public)\n",
    "df2018s = pd.read_csv(f2018_shcema)\n",
    "df2017d = pd.read_csv(f2017_public)\n",
    "df2017s = pd.read_csv(f2017_shcema)\n",
    "\n",
    "## creat dflist\n",
    "df_list = [df2019d, df2019s, df2018d, df2018s, df2017d, df2017s]\n",
    "\n",
    "### refactory use dic\n",
    "### https://stackoverflow.com/questions/6181935/how-do-you-create-different-variable-names-while-in-a-loop\n",
    "''';"
   ]
  },
  {
   "cell_type": "code",
   "execution_count": 10,
   "metadata": {
    "ExecuteTime": {
     "end_time": "2019-07-21T02:03:42.968848Z",
     "start_time": "2019-07-21T02:03:41.646801Z"
    }
   },
   "outputs": [
    {
     "name": "stdout",
     "output_type": "stream",
     "text": [
      "Archive:  /Users/francis/git/udacity-private/_dsnd/p1_blog/project_stack/developer_survey_2019/survey_results_public.csv.zip\n",
      "  inflating: survey_results_public.csv  \n",
      "  inflating: __MACOSX/._survey_results_public.csv  \n"
     ]
    }
   ],
   "source": [
    "# load data from zip\n",
    "## set file env (mac)\n",
    "project_folder = '~/git/udacity-private/_dsnd/p1_blog/project_stack'\n",
    "sub_folder_list = ['/developer_survey_2019/','developer_survey_2018/','developer_survey_2017/']\n",
    "file_prefix = 'survey_results_'\n",
    "file_domain_list = ['public','schema']\n",
    "file_type = '.csv'\n",
    "zip_type= '.zip'\n",
    "\n",
    "## define zip file (only 2019 data)\n",
    "f2019_zip = sub_folder_list[0] + file_prefix + file_domain_list[0] + file_type + zip_type\n",
    "f2019_zip\n",
    "\n",
    "## unzip file\n",
    "!unzip -o ~/git/udacity-private/_dsnd/p1_blog/project_stack/developer_survey_2019/survey_results_public.csv.zip\n",
    "\n",
    "## for larger files, can sep with chunk\n",
    "'''\n",
    "chunksize = 500\n",
    "chunks = []\n",
    "for chunk in pd.read_csv('pizza.csv', chunksize=chunksize):\n",
    "    # Do stuff...\n",
    "    chunks.append(chunk)\n",
    "\n",
    "df = pd.concat(chunks, axis=0)\n",
    "'''"
   ]
  },
  {
   "cell_type": "code",
   "execution_count": 11,
   "metadata": {
    "ExecuteTime": {
     "end_time": "2019-07-21T02:03:43.263312Z",
     "start_time": "2019-07-21T02:03:43.003542Z"
    }
   },
   "outputs": [
    {
     "name": "stdout",
     "output_type": "stream",
     "text": [
      "/Users/francis/git/udacity-private/_dsnd/p1_blog/project_stack\n",
      "total 387688\n",
      "drwxr-xr-x  16 francis  staff        512  7 21 10:03 \u001b[34m.\u001b[m\u001b[m\n",
      "drwxr-xr-x   5 francis  staff        160  7 15 14:32 \u001b[34m..\u001b[m\u001b[m\n",
      "-rw-r--r--@  1 francis  staff       6148  7 20 10:56 .DS_Store\n",
      "drwxr-xr-x   9 francis  staff        288  7 21 10:02 \u001b[34m.ipynb_checkpoints\u001b[m\u001b[m\n",
      "drwxrwxr-x   3 francis  staff         96  7 21 10:03 \u001b[34m__MACOSX\u001b[m\u001b[m\n",
      "-rw-r--r--@  1 francis  staff      64532  7 15 14:57 capestone_report_Investigate.ipynb\n",
      "-rw-r--r--@  1 francis  staff      18113  7 15 14:58 capestone_report_solution1.ipynb\n",
      "-rw-r--r--@  1 francis  staff      43395  7 15 14:58 capestone_report_visual.ipynb\n",
      "drwx------@  7 francis  staff        224  7 19 13:45 \u001b[34mdeveloper_survey_2017\u001b[m\u001b[m\n",
      "drwx------@  7 francis  staff        224  7 19 13:47 \u001b[34mdeveloper_survey_2018\u001b[m\u001b[m\n",
      "drwx------@  6 francis  staff        192  7 19 11:20 \u001b[34mdeveloper_survey_2019\u001b[m\u001b[m\n",
      "-rw-r--r--@  1 francis  staff      49826  7 19 14:28 dsndp1_stack_survey.ipynb\n",
      "-rw-r--r--@  1 francis  staff     104362  7 19 14:48 dsndp1_stack_survey_lm.ipynb\n",
      "-rw-r--r--   1 francis  staff     104363  7 21 10:01 dsndp1_stack_survey_lm2-Copy1.ipynb\n",
      "-rw-r--r--@  1 francis  staff     104623  7 21 10:02 dsndp1_stack_survey_lm2.ipynb\n",
      "-rw-r--r--   1 francis  staff  196592730  4 19 01:08 survey_results_public.csv\n"
     ]
    }
   ],
   "source": [
    "# check files\n",
    "! pwd\n",
    "! ls -al"
   ]
  },
  {
   "cell_type": "code",
   "execution_count": 12,
   "metadata": {
    "ExecuteTime": {
     "end_time": "2019-07-21T02:03:47.690209Z",
     "start_time": "2019-07-21T02:03:44.244701Z"
    }
   },
   "outputs": [],
   "source": [
    "# load files\n",
    "\n",
    "## set file env\n",
    "project_folder = '~/git/udacity-private/_dsnd/p1_blog/project_stack/'\n",
    "sub_folder_list = ['developer_survey_2019/','developer_survey_2018/','developer_survey_2017/']\n",
    "file_prefix = 'survey_results_'\n",
    "file_domain_list = ['public','schema']\n",
    "file_type = '.csv'\n",
    "zip_tpye= '.zip'\n",
    "\n",
    "## set file var\n",
    "f2019_public = file_prefix + file_domain_list[0] + file_type\n",
    "\n",
    "## load file\n",
    "df2019d = pd.read_csv(f2019_public)\n",
    "#df2019s = pd.read_csv(f2019_shcema)\n",
    "#df2018d = pd.read_csv(f2018_public)\n",
    "#df2018s = pd.read_csv(f2018_shcema)\n",
    "#df2017d = pd.read_csv(f2017_public)\n",
    "#df2017s = pd.read_csv(f2017_shcema)\n",
    "\n",
    "# load df\n",
    "## read_jason 有很多参数,可以参考官方文档\n",
    "## 此处要加 lines=True\n",
    "## https://pandas.pydata.org/pandas-docs/stable/reference/api/pandas.read_json.html"
   ]
  },
  {
   "cell_type": "code",
   "execution_count": 13,
   "metadata": {
    "ExecuteTime": {
     "end_time": "2019-07-21T02:03:49.041608Z",
     "start_time": "2019-07-21T02:03:48.618017Z"
    }
   },
   "outputs": [
    {
     "name": "stdout",
     "output_type": "stream",
     "text": [
      "total 387688\n",
      "drwxr-xr-x  16 francis  staff        512  7 21 10:03 \u001b[34m.\u001b[m\u001b[m\n",
      "drwxr-xr-x   5 francis  staff        160  7 15 14:32 \u001b[34m..\u001b[m\u001b[m\n",
      "-rw-r--r--@  1 francis  staff       6148  7 20 10:56 .DS_Store\n",
      "drwxr-xr-x   9 francis  staff        288  7 21 10:02 \u001b[34m.ipynb_checkpoints\u001b[m\u001b[m\n",
      "drwxrwxr-x   3 francis  staff         96  7 21 10:03 \u001b[34m__MACOSX\u001b[m\u001b[m\n",
      "-rw-r--r--@  1 francis  staff      64532  7 15 14:57 capestone_report_Investigate.ipynb\n",
      "-rw-r--r--@  1 francis  staff      18113  7 15 14:58 capestone_report_solution1.ipynb\n",
      "-rw-r--r--@  1 francis  staff      43395  7 15 14:58 capestone_report_visual.ipynb\n",
      "drwx------@  7 francis  staff        224  7 19 13:45 \u001b[34mdeveloper_survey_2017\u001b[m\u001b[m\n",
      "drwx------@  7 francis  staff        224  7 19 13:47 \u001b[34mdeveloper_survey_2018\u001b[m\u001b[m\n",
      "drwx------@  6 francis  staff        192  7 19 11:20 \u001b[34mdeveloper_survey_2019\u001b[m\u001b[m\n",
      "-rw-r--r--@  1 francis  staff      49826  7 19 14:28 dsndp1_stack_survey.ipynb\n",
      "-rw-r--r--@  1 francis  staff     104362  7 19 14:48 dsndp1_stack_survey_lm.ipynb\n",
      "-rw-r--r--   1 francis  staff     104363  7 21 10:01 dsndp1_stack_survey_lm2-Copy1.ipynb\n",
      "-rw-r--r--@  1 francis  staff     104623  7 21 10:02 dsndp1_stack_survey_lm2.ipynb\n",
      "-rw-r--r--   1 francis  staff  196592730  4 19 01:08 survey_results_public.csv\n",
      "total 1000\n",
      "drwxr-xr-x  15 francis  staff     480  7 21 10:03 \u001b[34m.\u001b[m\u001b[m\n",
      "drwxr-xr-x   5 francis  staff     160  7 15 14:32 \u001b[34m..\u001b[m\u001b[m\n",
      "-rw-r--r--@  1 francis  staff    6148  7 20 10:56 .DS_Store\n",
      "drwxr-xr-x   9 francis  staff     288  7 21 10:02 \u001b[34m.ipynb_checkpoints\u001b[m\u001b[m\n",
      "drwxrwxr-x   3 francis  staff      96  7 21 10:03 \u001b[34m__MACOSX\u001b[m\u001b[m\n",
      "-rw-r--r--@  1 francis  staff   64532  7 15 14:57 capestone_report_Investigate.ipynb\n",
      "-rw-r--r--@  1 francis  staff   18113  7 15 14:58 capestone_report_solution1.ipynb\n",
      "-rw-r--r--@  1 francis  staff   43395  7 15 14:58 capestone_report_visual.ipynb\n",
      "drwx------@  7 francis  staff     224  7 19 13:45 \u001b[34mdeveloper_survey_2017\u001b[m\u001b[m\n",
      "drwx------@  7 francis  staff     224  7 19 13:47 \u001b[34mdeveloper_survey_2018\u001b[m\u001b[m\n",
      "drwx------@  6 francis  staff     192  7 19 11:20 \u001b[34mdeveloper_survey_2019\u001b[m\u001b[m\n",
      "-rw-r--r--@  1 francis  staff   49826  7 19 14:28 dsndp1_stack_survey.ipynb\n",
      "-rw-r--r--@  1 francis  staff  104362  7 19 14:48 dsndp1_stack_survey_lm.ipynb\n",
      "-rw-r--r--   1 francis  staff  104363  7 21 10:01 dsndp1_stack_survey_lm2-Copy1.ipynb\n",
      "-rw-r--r--@  1 francis  staff  104623  7 21 10:02 dsndp1_stack_survey_lm2.ipynb\n"
     ]
    }
   ],
   "source": [
    "# delete csv file\n",
    "!ls -al\n",
    "!rm survey_results_public.csv\n",
    "!ls -al\n",
    "### need refactory on file handle\n",
    "### may use zipfile, os, sys libs"
   ]
  },
  {
   "cell_type": "code",
   "execution_count": 17,
   "metadata": {
    "ExecuteTime": {
     "end_time": "2019-07-21T02:04:08.366953Z",
     "start_time": "2019-07-21T02:04:08.358112Z"
    },
    "hide_input": true
   },
   "outputs": [],
   "source": [
    "# check df file (not run)\n",
    "'''\n",
    "for i in df_list:\n",
    "    print('\\n---checking item---\\n')\n",
    "    print(i.shape)\n",
    "    print(i.info())\n",
    "''';\n",
    "### original checking many dfs, left for refactory"
   ]
  },
  {
   "cell_type": "markdown",
   "metadata": {},
   "source": [
    "### / check feature"
   ]
  },
  {
   "cell_type": "code",
   "execution_count": 19,
   "metadata": {
    "ExecuteTime": {
     "end_time": "2019-07-21T02:09:19.982139Z",
     "start_time": "2019-07-21T02:09:19.973694Z"
    }
   },
   "outputs": [],
   "source": [
    "# check features (not run)\n",
    "## there are too many features\n",
    "## featrues diffs form year to year\n",
    "\n",
    "## load column as array\n",
    "'''\n",
    "q2019_array = df2019s.Column.values\n",
    "q2018_array = df2018s.Column.values\n",
    "q2017_array = df2017s.Column.values\n",
    "''';\n",
    "### list name can not start with int"
   ]
  },
  {
   "cell_type": "code",
   "execution_count": 20,
   "metadata": {
    "ExecuteTime": {
     "end_time": "2019-07-21T02:09:20.654731Z",
     "start_time": "2019-07-21T02:09:20.649371Z"
    }
   },
   "outputs": [],
   "source": [
    "## check similarity\n",
    "'''\n",
    "print(len(q2019_array), len(q2018_array), len(q2017_array))\n",
    "print(len(np.intersect1d(q2019_array,q2018_array)))\n",
    "print(len(np.intersect1d(q2019_array,q2017_array)))\n",
    "print(len(np.intersect1d(q2018_array,q2017_array)))\n",
    "## too many different / human check\n",
    "## only use 2019 data for analysis\n",
    "''';"
   ]
  },
  {
   "cell_type": "code",
   "execution_count": 21,
   "metadata": {
    "ExecuteTime": {
     "end_time": "2019-07-21T02:09:21.337684Z",
     "start_time": "2019-07-21T02:09:21.302241Z"
    }
   },
   "outputs": [
    {
     "data": {
      "text/html": [
       "<div>\n",
       "<style scoped>\n",
       "    .dataframe tbody tr th:only-of-type {\n",
       "        vertical-align: middle;\n",
       "    }\n",
       "\n",
       "    .dataframe tbody tr th {\n",
       "        vertical-align: top;\n",
       "    }\n",
       "\n",
       "    .dataframe thead th {\n",
       "        text-align: right;\n",
       "    }\n",
       "</style>\n",
       "<table border=\"1\" class=\"dataframe\">\n",
       "  <thead>\n",
       "    <tr style=\"text-align: right;\">\n",
       "      <th></th>\n",
       "      <th>Respondent</th>\n",
       "      <th>MainBranch</th>\n",
       "      <th>Hobbyist</th>\n",
       "      <th>OpenSourcer</th>\n",
       "      <th>OpenSource</th>\n",
       "      <th>Employment</th>\n",
       "      <th>Country</th>\n",
       "      <th>Student</th>\n",
       "      <th>EdLevel</th>\n",
       "      <th>UndergradMajor</th>\n",
       "      <th>...</th>\n",
       "      <th>WelcomeChange</th>\n",
       "      <th>SONewContent</th>\n",
       "      <th>Age</th>\n",
       "      <th>Gender</th>\n",
       "      <th>Trans</th>\n",
       "      <th>Sexuality</th>\n",
       "      <th>Ethnicity</th>\n",
       "      <th>Dependents</th>\n",
       "      <th>SurveyLength</th>\n",
       "      <th>SurveyEase</th>\n",
       "    </tr>\n",
       "  </thead>\n",
       "  <tbody>\n",
       "    <tr>\n",
       "      <th>0</th>\n",
       "      <td>1</td>\n",
       "      <td>I am a student who is learning to code</td>\n",
       "      <td>Yes</td>\n",
       "      <td>Never</td>\n",
       "      <td>The quality of OSS and closed source software ...</td>\n",
       "      <td>Not employed, and not looking for work</td>\n",
       "      <td>United Kingdom</td>\n",
       "      <td>No</td>\n",
       "      <td>Primary/elementary school</td>\n",
       "      <td>NaN</td>\n",
       "      <td>...</td>\n",
       "      <td>Just as welcome now as I felt last year</td>\n",
       "      <td>Tech articles written by other developers;Indu...</td>\n",
       "      <td>14.0</td>\n",
       "      <td>Man</td>\n",
       "      <td>No</td>\n",
       "      <td>Straight / Heterosexual</td>\n",
       "      <td>NaN</td>\n",
       "      <td>No</td>\n",
       "      <td>Appropriate in length</td>\n",
       "      <td>Neither easy nor difficult</td>\n",
       "    </tr>\n",
       "    <tr>\n",
       "      <th>1</th>\n",
       "      <td>2</td>\n",
       "      <td>I am a student who is learning to code</td>\n",
       "      <td>No</td>\n",
       "      <td>Less than once per year</td>\n",
       "      <td>The quality of OSS and closed source software ...</td>\n",
       "      <td>Not employed, but looking for work</td>\n",
       "      <td>Bosnia and Herzegovina</td>\n",
       "      <td>Yes, full-time</td>\n",
       "      <td>Secondary school (e.g. American high school, G...</td>\n",
       "      <td>NaN</td>\n",
       "      <td>...</td>\n",
       "      <td>Just as welcome now as I felt last year</td>\n",
       "      <td>Tech articles written by other developers;Indu...</td>\n",
       "      <td>19.0</td>\n",
       "      <td>Man</td>\n",
       "      <td>No</td>\n",
       "      <td>Straight / Heterosexual</td>\n",
       "      <td>NaN</td>\n",
       "      <td>No</td>\n",
       "      <td>Appropriate in length</td>\n",
       "      <td>Neither easy nor difficult</td>\n",
       "    </tr>\n",
       "    <tr>\n",
       "      <th>2</th>\n",
       "      <td>3</td>\n",
       "      <td>I am not primarily a developer, but I write co...</td>\n",
       "      <td>Yes</td>\n",
       "      <td>Never</td>\n",
       "      <td>The quality of OSS and closed source software ...</td>\n",
       "      <td>Employed full-time</td>\n",
       "      <td>Thailand</td>\n",
       "      <td>No</td>\n",
       "      <td>Bachelor’s degree (BA, BS, B.Eng., etc.)</td>\n",
       "      <td>Web development or web design</td>\n",
       "      <td>...</td>\n",
       "      <td>Just as welcome now as I felt last year</td>\n",
       "      <td>Tech meetups or events in your area;Courses on...</td>\n",
       "      <td>28.0</td>\n",
       "      <td>Man</td>\n",
       "      <td>No</td>\n",
       "      <td>Straight / Heterosexual</td>\n",
       "      <td>NaN</td>\n",
       "      <td>Yes</td>\n",
       "      <td>Appropriate in length</td>\n",
       "      <td>Neither easy nor difficult</td>\n",
       "    </tr>\n",
       "  </tbody>\n",
       "</table>\n",
       "<p>3 rows × 85 columns</p>\n",
       "</div>"
      ],
      "text/plain": [
       "   Respondent                                         MainBranch Hobbyist  \\\n",
       "0           1             I am a student who is learning to code      Yes   \n",
       "1           2             I am a student who is learning to code       No   \n",
       "2           3  I am not primarily a developer, but I write co...      Yes   \n",
       "\n",
       "               OpenSourcer                                         OpenSource  \\\n",
       "0                    Never  The quality of OSS and closed source software ...   \n",
       "1  Less than once per year  The quality of OSS and closed source software ...   \n",
       "2                    Never  The quality of OSS and closed source software ...   \n",
       "\n",
       "                               Employment                 Country  \\\n",
       "0  Not employed, and not looking for work          United Kingdom   \n",
       "1      Not employed, but looking for work  Bosnia and Herzegovina   \n",
       "2                      Employed full-time                Thailand   \n",
       "\n",
       "          Student                                            EdLevel  \\\n",
       "0              No                          Primary/elementary school   \n",
       "1  Yes, full-time  Secondary school (e.g. American high school, G...   \n",
       "2              No           Bachelor’s degree (BA, BS, B.Eng., etc.)   \n",
       "\n",
       "                  UndergradMajor             ...              \\\n",
       "0                            NaN             ...               \n",
       "1                            NaN             ...               \n",
       "2  Web development or web design             ...               \n",
       "\n",
       "                             WelcomeChange  \\\n",
       "0  Just as welcome now as I felt last year   \n",
       "1  Just as welcome now as I felt last year   \n",
       "2  Just as welcome now as I felt last year   \n",
       "\n",
       "                                        SONewContent   Age Gender Trans  \\\n",
       "0  Tech articles written by other developers;Indu...  14.0    Man    No   \n",
       "1  Tech articles written by other developers;Indu...  19.0    Man    No   \n",
       "2  Tech meetups or events in your area;Courses on...  28.0    Man    No   \n",
       "\n",
       "                 Sexuality Ethnicity Dependents           SurveyLength  \\\n",
       "0  Straight / Heterosexual       NaN         No  Appropriate in length   \n",
       "1  Straight / Heterosexual       NaN         No  Appropriate in length   \n",
       "2  Straight / Heterosexual       NaN        Yes  Appropriate in length   \n",
       "\n",
       "                   SurveyEase  \n",
       "0  Neither easy nor difficult  \n",
       "1  Neither easy nor difficult  \n",
       "2  Neither easy nor difficult  \n",
       "\n",
       "[3 rows x 85 columns]"
      ]
     },
     "execution_count": 21,
     "metadata": {},
     "output_type": "execute_result"
    }
   ],
   "source": [
    "# dive into 2019\n",
    "df2019d.head(3)"
   ]
  },
  {
   "cell_type": "code",
   "execution_count": 22,
   "metadata": {
    "ExecuteTime": {
     "end_time": "2019-07-21T02:09:34.763708Z",
     "start_time": "2019-07-21T02:09:34.735661Z"
    }
   },
   "outputs": [
    {
     "data": {
      "text/plain": [
       "No                65816\n",
       "Yes, full-time    15769\n",
       "Yes, part-time     5429\n",
       "Name: Student, dtype: int64"
      ]
     },
     "execution_count": 22,
     "metadata": {},
     "output_type": "execute_result"
    }
   ],
   "source": [
    "## example of value counts at a featrue\n",
    "df2019d.Student.value_counts()"
   ]
  },
  {
   "cell_type": "code",
   "execution_count": 23,
   "metadata": {
    "ExecuteTime": {
     "end_time": "2019-07-21T02:09:35.468829Z",
     "start_time": "2019-07-21T02:09:35.421197Z"
    }
   },
   "outputs": [
    {
     "data": {
      "text/plain": [
       "CareerSat                           JobSat                            \n",
       "Neither satisfied nor dissatisfied  Neither satisfied nor dissatisfied     2926\n",
       "                                    Slightly dissatisfied                  1705\n",
       "                                    Slightly satisfied                     1484\n",
       "                                    Very dissatisfied                       409\n",
       "                                    Very satisfied                          303\n",
       "Slightly dissatisfied               Neither satisfied nor dissatisfied      980\n",
       "                                    Slightly dissatisfied                  3894\n",
       "                                    Slightly satisfied                      888\n",
       "                                    Very dissatisfied                      1294\n",
       "                                    Very satisfied                          253\n",
       "Slightly satisfied                  Neither satisfied nor dissatisfied     3323\n",
       "                                    Slightly dissatisfied                  3135\n",
       "                                    Slightly satisfied                    13588\n",
       "                                    Very dissatisfied                       724\n",
       "                                    Very satisfied                         3761\n",
       "Very dissatisfied                   Neither satisfied nor dissatisfied      269\n",
       "                                    Slightly dissatisfied                   753\n",
       "                                    Slightly satisfied                      322\n",
       "                                    Very dissatisfied                      1940\n",
       "                                    Very satisfied                          245\n",
       "Very satisfied                      Neither satisfied nor dissatisfied     1222\n",
       "                                    Slightly dissatisfied                  1265\n",
       "                                    Slightly satisfied                     7925\n",
       "                                    Very dissatisfied                       490\n",
       "                                    Very satisfied                        17890\n",
       "Name: CareerSat, dtype: int64"
      ]
     },
     "execution_count": 23,
     "metadata": {},
     "output_type": "execute_result"
    }
   ],
   "source": [
    "## example of how to observe two feature are related\n",
    "df2019d.groupby(['CareerSat','JobSat'])['CareerSat'].count()\n",
    "### dataframe has catagory dtype, research later\n",
    "### https://pbpython.com/pandas_dtypes_cat.html"
   ]
  },
  {
   "cell_type": "markdown",
   "metadata": {},
   "source": [
    "### / update df\n",
    "#### // manually select features"
   ]
  },
  {
   "cell_type": "code",
   "execution_count": 44,
   "metadata": {
    "ExecuteTime": {
     "end_time": "2019-07-19T03:09:08.565378Z",
     "start_time": "2019-07-19T03:09:08.556755Z"
    }
   },
   "outputs": [],
   "source": [
    "# only get select features\n",
    "select_list = ['MainBranch','OpenSourcer','OpenSource','Employment','Age','Student','EdLevel','UndergradMajor','EduOther',\n",
    "              'OrgSize','DevType','YearsCode','CareerSat','JobSeek','JobFactors','ConvertedComp','WorkWeekHrs','WorkPlan','WorkChallenge','WorkRemote','ImpSyn',\n",
    "              'LanguageWorkedWith','LanguageDesireNextYear','DatabaseWorkedWith','DatabaseDesireNextYear','DevEnviron','OpSys','BetterLife',\n",
    "              'SOVisitFreq','SOVisitTo','SOFindAnswer','SOTimeSaved','SOHowMuchTime','SOPartFreq','SOJobs','EntTeams','SOComm','WelcomeChange','SONewContent']"
   ]
  },
  {
   "cell_type": "code",
   "execution_count": 45,
   "metadata": {
    "ExecuteTime": {
     "end_time": "2019-07-19T03:09:11.929775Z",
     "start_time": "2019-07-19T03:09:11.884254Z"
    }
   },
   "outputs": [],
   "source": [
    "## df copy for assesment\n",
    "df = df2019d[select_list]"
   ]
  },
  {
   "cell_type": "code",
   "execution_count": 48,
   "metadata": {
    "ExecuteTime": {
     "end_time": "2019-07-19T03:09:31.604344Z",
     "start_time": "2019-07-19T03:09:31.591810Z"
    }
   },
   "outputs": [
    {
     "name": "stdout",
     "output_type": "stream",
     "text": [
      "39\n"
     ]
    },
    {
     "data": {
      "text/plain": [
       "Index(['MainBranch', 'OpenSourcer', 'OpenSource', 'Employment', 'Age',\n",
       "       'Student', 'EdLevel', 'UndergradMajor', 'EduOther', 'OrgSize',\n",
       "       'DevType', 'YearsCode', 'CareerSat', 'JobSeek', 'JobFactors',\n",
       "       'ConvertedComp', 'WorkWeekHrs', 'WorkPlan', 'WorkChallenge',\n",
       "       'WorkRemote', 'ImpSyn', 'LanguageWorkedWith', 'LanguageDesireNextYear',\n",
       "       'DatabaseWorkedWith', 'DatabaseDesireNextYear', 'DevEnviron', 'OpSys',\n",
       "       'BetterLife', 'SOVisitFreq', 'SOVisitTo', 'SOFindAnswer', 'SOTimeSaved',\n",
       "       'SOHowMuchTime', 'SOPartFreq', 'SOJobs', 'EntTeams', 'SOComm',\n",
       "       'WelcomeChange', 'SONewContent'],\n",
       "      dtype='object')"
      ]
     },
     "execution_count": 48,
     "metadata": {},
     "output_type": "execute_result"
    }
   ],
   "source": [
    "## check columns\n",
    "print(len(df.columns))\n",
    "df.columns"
   ]
  },
  {
   "cell_type": "code",
   "execution_count": 59,
   "metadata": {
    "ExecuteTime": {
     "end_time": "2019-07-19T03:18:23.133008Z",
     "start_time": "2019-07-19T03:18:23.124704Z"
    }
   },
   "outputs": [
    {
     "data": {
      "text/plain": [
       "17777"
      ]
     },
     "execution_count": 59,
     "metadata": {},
     "output_type": "execute_result"
    }
   ],
   "source": [
    "# check null value\n",
    "## 0.2 count\n",
    "round(df.shape[0] * 0.2)"
   ]
  },
  {
   "cell_type": "code",
   "execution_count": 57,
   "metadata": {
    "ExecuteTime": {
     "end_time": "2019-07-19T03:11:56.533788Z",
     "start_time": "2019-07-19T03:11:56.292420Z"
    }
   },
   "outputs": [
    {
     "data": {
      "text/plain": [
       "MainBranch                  552\n",
       "OpenSourcer                   0\n",
       "OpenSource                 2041\n",
       "Employment                 1702\n",
       "Age                        9673\n",
       "Student                    1869\n",
       "EdLevel                    2493\n",
       "UndergradMajor            13269\n",
       "EduOther                   4623\n",
       "OrgSize                   17092\n",
       "DevType                    7548\n",
       "YearsCode                   945\n",
       "CareerSat                 16036\n",
       "JobSeek                    8328\n",
       "JobFactors                 9512\n",
       "ConvertedComp             33060\n",
       "WorkWeekHrs               24380\n",
       "WorkPlan                  19969\n",
       "WorkChallenge             20742\n",
       "WorkRemote                18599\n",
       "ImpSyn                    17104\n",
       "LanguageWorkedWith         1314\n",
       "LanguageDesireNextYear     4795\n",
       "DatabaseWorkedWith        12857\n",
       "DatabaseDesireNextYear    19736\n",
       "DevEnviron                 1566\n",
       "OpSys                      1032\n",
       "BetterLife                 2614\n",
       "SOVisitFreq                 620\n",
       "SOVisitTo                   797\n",
       "SOFindAnswer               1067\n",
       "SOTimeSaved                2539\n",
       "SOHowMuchTime             20505\n",
       "SOPartFreq                14191\n",
       "SOJobs                      817\n",
       "EntTeams                   1042\n",
       "SOComm                      752\n",
       "WelcomeChange              3028\n",
       "SONewContent              19323\n",
       "dtype: int64"
      ]
     },
     "execution_count": 57,
     "metadata": {},
     "output_type": "execute_result"
    }
   ],
   "source": [
    "## check columns\n",
    "df.isnull().sum()"
   ]
  },
  {
   "cell_type": "markdown",
   "metadata": {},
   "source": [
    "#### // update featrues"
   ]
  },
  {
   "cell_type": "code",
   "execution_count": 27,
   "metadata": {
    "ExecuteTime": {
     "end_time": "2019-07-21T02:11:58.188454Z",
     "start_time": "2019-07-21T02:11:58.131713Z"
    }
   },
   "outputs": [
    {
     "name": "stdout",
     "output_type": "stream",
     "text": [
      "35\n"
     ]
    },
    {
     "data": {
      "text/plain": [
       "Index(['MainBranch', 'OpenSourcer', 'OpenSource', 'Employment', 'Age',\n",
       "       'Student', 'EdLevel', 'UndergradMajor', 'EduOther', 'OrgSize',\n",
       "       'DevType', 'YearsCode', 'CareerSat', 'JobSeek', 'JobFactors',\n",
       "       'ConvertedComp', 'WorkWeekHrs', 'WorkChallenge', 'ImpSyn',\n",
       "       'LanguageWorkedWith', 'LanguageDesireNextYear', 'DatabaseWorkedWith',\n",
       "       'DatabaseDesireNextYear', 'DevEnviron', 'OpSys', 'BetterLife',\n",
       "       'SOVisitFreq', 'SOVisitTo', 'SOFindAnswer', 'SOTimeSaved', 'SOPartFreq',\n",
       "       'SOJobs', 'EntTeams', 'SOComm', 'WelcomeChange'],\n",
       "      dtype='object')"
      ]
     },
     "execution_count": 27,
     "metadata": {},
     "output_type": "execute_result"
    }
   ],
   "source": [
    "# update selected list\n",
    "select_list_updated = ['MainBranch','OpenSourcer','OpenSource','Employment','Age','Student','EdLevel','UndergradMajor','EduOther',\n",
    "              'OrgSize','DevType','YearsCode','CareerSat','JobSeek','JobFactors','ConvertedComp','WorkWeekHrs','WorkChallenge','ImpSyn',\n",
    "              'LanguageWorkedWith','LanguageDesireNextYear','DatabaseWorkedWith','DatabaseDesireNextYear','DevEnviron','OpSys','BetterLife',\n",
    "              'SOVisitFreq','SOVisitTo','SOFindAnswer','SOTimeSaved','SOPartFreq','SOJobs','EntTeams','SOComm','WelcomeChange']\n",
    "df = df2019d[select_list_updated]\n",
    "print(len(df.columns))\n",
    "df.columns"
   ]
  },
  {
   "cell_type": "markdown",
   "metadata": {},
   "source": [
    "#### // persistance"
   ]
  },
  {
   "cell_type": "code",
   "execution_count": 38,
   "metadata": {
    "ExecuteTime": {
     "end_time": "2019-07-21T03:13:46.341686Z",
     "start_time": "2019-07-21T03:13:46.335400Z"
    }
   },
   "outputs": [],
   "source": [
    "# file type select\n",
    "## for file more than 100m, need zip for git upload\n",
    "## csv_gzip may take most compression\n",
    "### https://stackoverflow.com/questions/37193157/apply-gzip-compression-to-a-csv-in-python-pandas\n",
    "## pickle get more efficiency\n",
    "\n",
    "# solution\n",
    "## use pickle for read speed (for pickle save more info than csv, read is many time faster)\n",
    "## use gzip(quick) or xz(max comp) to store file"
   ]
  },
  {
   "cell_type": "code",
   "execution_count": 39,
   "metadata": {
    "ExecuteTime": {
     "end_time": "2019-07-21T03:14:55.899034Z",
     "start_time": "2019-07-21T03:14:55.893162Z"
    }
   },
   "outputs": [],
   "source": [
    "## csv gzip save test (mac air 9.75s)\n",
    "# df2019d.to_csv('2019_35featrue.csv.gz', compression='gzip')\n",
    "### 18.1 MB;"
   ]
  },
  {
   "cell_type": "code",
   "execution_count": 40,
   "metadata": {
    "ExecuteTime": {
     "end_time": "2019-07-21T03:14:59.264631Z",
     "start_time": "2019-07-21T03:14:59.256518Z"
    }
   },
   "outputs": [],
   "source": [
    "## csv gzip load test (mac air 3.96s)\n",
    "#dfcheck = pd.read_csv('2019_35featrue.csv.gz', compression='gzip')\n",
    "#dfcheck.head(3);"
   ]
  },
  {
   "cell_type": "code",
   "execution_count": 41,
   "metadata": {
    "ExecuteTime": {
     "end_time": "2019-07-21T03:15:04.503148Z",
     "start_time": "2019-07-21T03:15:04.498900Z"
    }
   },
   "outputs": [],
   "source": [
    "## pickle  gzip test (env the same)\n",
    "# df2019d.to_pickle('2019_35featrue.pickle.gz', compression='gzip')\n",
    "## 6.9MB"
   ]
  },
  {
   "cell_type": "code",
   "execution_count": 42,
   "metadata": {
    "ExecuteTime": {
     "end_time": "2019-07-21T03:15:15.712993Z",
     "start_time": "2019-07-21T03:15:15.707324Z"
    }
   },
   "outputs": [],
   "source": [
    "#dfcheck = pd.read_pickle('2019_35featrue.pickle.gz', compression='gzip')\n",
    "#dfcheck.head(3)"
   ]
  },
  {
   "cell_type": "code",
   "execution_count": 34,
   "metadata": {
    "ExecuteTime": {
     "end_time": "2019-07-21T03:06:35.356350Z",
     "start_time": "2019-07-21T03:06:34.713070Z"
    }
   },
   "outputs": [],
   "source": [
    "## not com para is fast, but largest (also com 50%  to csv)\n",
    "## to use 643 ms, read use 488 ms"
   ]
  },
  {
   "cell_type": "code",
   "execution_count": 3,
   "metadata": {
    "ExecuteTime": {
     "end_time": "2019-07-21T04:19:33.987638Z",
     "start_time": "2019-07-21T04:19:19.765846Z"
    },
    "collapsed": true
   },
   "outputs": [
    {
     "ename": "NameError",
     "evalue": "name 'df' is not defined",
     "output_type": "error",
     "traceback": [
      "\u001b[1;31m---------------------------------------------------------------------------\u001b[0m",
      "\u001b[1;31mNameError\u001b[0m                                 Traceback (most recent call last)",
      "\u001b[1;32m<ipython-input-3-a7d0434db7ed>\u001b[0m in \u001b[0;36m<module>\u001b[1;34m\u001b[0m\n\u001b[0;32m      1\u001b[0m \u001b[1;31m## pickle xz test (env the same)\u001b[0m\u001b[1;33m\u001b[0m\u001b[1;33m\u001b[0m\u001b[1;33m\u001b[0m\u001b[0m\n\u001b[1;32m----> 2\u001b[1;33m \u001b[0mdf\u001b[0m\u001b[1;33m.\u001b[0m\u001b[0mto_pickle\u001b[0m\u001b[1;33m(\u001b[0m\u001b[1;34m'2019_35featrue.pickle.xz'\u001b[0m\u001b[1;33m,\u001b[0m \u001b[0mcompression\u001b[0m\u001b[1;33m=\u001b[0m\u001b[1;34m'xz'\u001b[0m\u001b[1;33m)\u001b[0m\u001b[1;33m\u001b[0m\u001b[1;33m\u001b[0m\u001b[0m\n\u001b[0m\u001b[0;32m      3\u001b[0m \u001b[1;31m## 5.4MB / 2.7MB after feature select\u001b[0m\u001b[1;33m\u001b[0m\u001b[1;33m\u001b[0m\u001b[1;33m\u001b[0m\u001b[0m\n",
      "\u001b[1;31mNameError\u001b[0m: name 'df' is not defined"
     ]
    }
   ],
   "source": [
    "## pickle xz test (env the same)\n",
    "df.to_pickle('2019_35featrue.pickle.xz', compression='xz')\n",
    "## 5.4MB / 2.7MB after feature select"
   ]
  },
  {
   "cell_type": "code",
   "execution_count": 4,
   "metadata": {
    "ExecuteTime": {
     "end_time": "2019-07-21T04:19:35.094282Z",
     "start_time": "2019-07-21T04:19:34.632591Z"
    }
   },
   "outputs": [
    {
     "data": {
      "text/html": [
       "<div>\n",
       "<style scoped>\n",
       "    .dataframe tbody tr th:only-of-type {\n",
       "        vertical-align: middle;\n",
       "    }\n",
       "\n",
       "    .dataframe tbody tr th {\n",
       "        vertical-align: top;\n",
       "    }\n",
       "\n",
       "    .dataframe thead th {\n",
       "        text-align: right;\n",
       "    }\n",
       "</style>\n",
       "<table border=\"1\" class=\"dataframe\">\n",
       "  <thead>\n",
       "    <tr style=\"text-align: right;\">\n",
       "      <th></th>\n",
       "      <th>MainBranch</th>\n",
       "      <th>OpenSourcer</th>\n",
       "      <th>OpenSource</th>\n",
       "      <th>Employment</th>\n",
       "      <th>Age</th>\n",
       "      <th>Student</th>\n",
       "      <th>EdLevel</th>\n",
       "      <th>UndergradMajor</th>\n",
       "      <th>EduOther</th>\n",
       "      <th>OrgSize</th>\n",
       "      <th>...</th>\n",
       "      <th>BetterLife</th>\n",
       "      <th>SOVisitFreq</th>\n",
       "      <th>SOVisitTo</th>\n",
       "      <th>SOFindAnswer</th>\n",
       "      <th>SOTimeSaved</th>\n",
       "      <th>SOPartFreq</th>\n",
       "      <th>SOJobs</th>\n",
       "      <th>EntTeams</th>\n",
       "      <th>SOComm</th>\n",
       "      <th>WelcomeChange</th>\n",
       "    </tr>\n",
       "  </thead>\n",
       "  <tbody>\n",
       "    <tr>\n",
       "      <th>0</th>\n",
       "      <td>I am a student who is learning to code</td>\n",
       "      <td>Never</td>\n",
       "      <td>The quality of OSS and closed source software ...</td>\n",
       "      <td>Not employed, and not looking for work</td>\n",
       "      <td>14.0</td>\n",
       "      <td>No</td>\n",
       "      <td>Primary/elementary school</td>\n",
       "      <td>NaN</td>\n",
       "      <td>Taught yourself a new language, framework, or ...</td>\n",
       "      <td>NaN</td>\n",
       "      <td>...</td>\n",
       "      <td>Yes</td>\n",
       "      <td>A few times per month or weekly</td>\n",
       "      <td>Find answers to specific questions;Learn how t...</td>\n",
       "      <td>3-5 times per week</td>\n",
       "      <td>Stack Overflow was much faster</td>\n",
       "      <td>NaN</td>\n",
       "      <td>No, I didn't know that Stack Overflow had a jo...</td>\n",
       "      <td>No, and I don't know what those are</td>\n",
       "      <td>Neutral</td>\n",
       "      <td>Just as welcome now as I felt last year</td>\n",
       "    </tr>\n",
       "    <tr>\n",
       "      <th>1</th>\n",
       "      <td>I am a student who is learning to code</td>\n",
       "      <td>Less than once per year</td>\n",
       "      <td>The quality of OSS and closed source software ...</td>\n",
       "      <td>Not employed, but looking for work</td>\n",
       "      <td>19.0</td>\n",
       "      <td>Yes, full-time</td>\n",
       "      <td>Secondary school (e.g. American high school, G...</td>\n",
       "      <td>NaN</td>\n",
       "      <td>Taken an online course in programming or softw...</td>\n",
       "      <td>NaN</td>\n",
       "      <td>...</td>\n",
       "      <td>Yes</td>\n",
       "      <td>Daily or almost daily</td>\n",
       "      <td>Find answers to specific questions;Learn how t...</td>\n",
       "      <td>3-5 times per week</td>\n",
       "      <td>Stack Overflow was much faster</td>\n",
       "      <td>A few times per month or weekly</td>\n",
       "      <td>No, I knew that Stack Overflow had a job board...</td>\n",
       "      <td>No, and I don't know what those are</td>\n",
       "      <td>Yes, somewhat</td>\n",
       "      <td>Just as welcome now as I felt last year</td>\n",
       "    </tr>\n",
       "    <tr>\n",
       "      <th>2</th>\n",
       "      <td>I am not primarily a developer, but I write co...</td>\n",
       "      <td>Never</td>\n",
       "      <td>The quality of OSS and closed source software ...</td>\n",
       "      <td>Employed full-time</td>\n",
       "      <td>28.0</td>\n",
       "      <td>No</td>\n",
       "      <td>Bachelor’s degree (BA, BS, B.Eng., etc.)</td>\n",
       "      <td>Web development or web design</td>\n",
       "      <td>Taught yourself a new language, framework, or ...</td>\n",
       "      <td>100 to 499 employees</td>\n",
       "      <td>...</td>\n",
       "      <td>Yes</td>\n",
       "      <td>A few times per week</td>\n",
       "      <td>Find answers to specific questions;Learn how t...</td>\n",
       "      <td>6-10 times per week</td>\n",
       "      <td>They were about the same</td>\n",
       "      <td>Less than once per month or monthly</td>\n",
       "      <td>Yes</td>\n",
       "      <td>No, I've heard of them, but I am not part of a...</td>\n",
       "      <td>Neutral</td>\n",
       "      <td>Just as welcome now as I felt last year</td>\n",
       "    </tr>\n",
       "  </tbody>\n",
       "</table>\n",
       "<p>3 rows × 35 columns</p>\n",
       "</div>"
      ],
      "text/plain": [
       "                                          MainBranch              OpenSourcer  \\\n",
       "0             I am a student who is learning to code                    Never   \n",
       "1             I am a student who is learning to code  Less than once per year   \n",
       "2  I am not primarily a developer, but I write co...                    Never   \n",
       "\n",
       "                                          OpenSource  \\\n",
       "0  The quality of OSS and closed source software ...   \n",
       "1  The quality of OSS and closed source software ...   \n",
       "2  The quality of OSS and closed source software ...   \n",
       "\n",
       "                               Employment   Age         Student  \\\n",
       "0  Not employed, and not looking for work  14.0              No   \n",
       "1      Not employed, but looking for work  19.0  Yes, full-time   \n",
       "2                      Employed full-time  28.0              No   \n",
       "\n",
       "                                             EdLevel  \\\n",
       "0                          Primary/elementary school   \n",
       "1  Secondary school (e.g. American high school, G...   \n",
       "2           Bachelor’s degree (BA, BS, B.Eng., etc.)   \n",
       "\n",
       "                  UndergradMajor  \\\n",
       "0                            NaN   \n",
       "1                            NaN   \n",
       "2  Web development or web design   \n",
       "\n",
       "                                            EduOther               OrgSize  \\\n",
       "0  Taught yourself a new language, framework, or ...                   NaN   \n",
       "1  Taken an online course in programming or softw...                   NaN   \n",
       "2  Taught yourself a new language, framework, or ...  100 to 499 employees   \n",
       "\n",
       "   ... BetterLife                      SOVisitFreq  \\\n",
       "0  ...        Yes  A few times per month or weekly   \n",
       "1  ...        Yes            Daily or almost daily   \n",
       "2  ...        Yes             A few times per week   \n",
       "\n",
       "                                           SOVisitTo         SOFindAnswer  \\\n",
       "0  Find answers to specific questions;Learn how t...   3-5 times per week   \n",
       "1  Find answers to specific questions;Learn how t...   3-5 times per week   \n",
       "2  Find answers to specific questions;Learn how t...  6-10 times per week   \n",
       "\n",
       "                      SOTimeSaved                           SOPartFreq  \\\n",
       "0  Stack Overflow was much faster                                  NaN   \n",
       "1  Stack Overflow was much faster      A few times per month or weekly   \n",
       "2        They were about the same  Less than once per month or monthly   \n",
       "\n",
       "                                              SOJobs  \\\n",
       "0  No, I didn't know that Stack Overflow had a jo...   \n",
       "1  No, I knew that Stack Overflow had a job board...   \n",
       "2                                                Yes   \n",
       "\n",
       "                                            EntTeams         SOComm  \\\n",
       "0                No, and I don't know what those are        Neutral   \n",
       "1                No, and I don't know what those are  Yes, somewhat   \n",
       "2  No, I've heard of them, but I am not part of a...        Neutral   \n",
       "\n",
       "                             WelcomeChange  \n",
       "0  Just as welcome now as I felt last year  \n",
       "1  Just as welcome now as I felt last year  \n",
       "2  Just as welcome now as I felt last year  \n",
       "\n",
       "[3 rows x 35 columns]"
      ]
     },
     "execution_count": 4,
     "metadata": {},
     "output_type": "execute_result"
    }
   ],
   "source": [
    "dfcheck = pd.read_pickle('2019_35featrue.pickle.xz', compression='xz')\n",
    "dfcheck.head(3)"
   ]
  },
  {
   "cell_type": "markdown",
   "metadata": {},
   "source": [
    "## _**Prepare Data**_\n",
    "### / function\n",
    "#### // check_sample(df)"
   ]
  },
  {
   "cell_type": "code",
   "execution_count": 1,
   "metadata": {
    "ExecuteTime": {
     "end_time": "2019-07-22T14:59:00.965010Z",
     "start_time": "2019-07-22T14:59:00.955243Z"
    }
   },
   "outputs": [],
   "source": [
    "# build function (base on solution2)\n",
    "def check_sample(df):\n",
    "    sample = df.sample(1)\n",
    "    print('----checking sample index: {}'.format(sample.index[0]))\n",
    "    ### sometimes pp is uncaptible with .format\n",
    "    i = 1\n",
    "    for (colname, coldata) in sample.iteritems():\n",
    "        print('\\n- columns #{} : {:-<8}'.format(i,colname))\n",
    "        print(coldata.values)\n",
    "        i += 1\n",
    "    pp.pprint('----checking complete----')\n",
    "\n",
    "### original from wrangle_test_full    "
   ]
  },
  {
   "cell_type": "markdown",
   "metadata": {},
   "source": [
    "#### // check_value(df,list)"
   ]
  },
  {
   "cell_type": "code",
   "execution_count": 2,
   "metadata": {
    "ExecuteTime": {
     "end_time": "2019-07-22T14:59:02.377622Z",
     "start_time": "2019-07-22T14:59:02.371196Z"
    }
   },
   "outputs": [],
   "source": [
    "# build function\n",
    "def check_value(df,list):\n",
    "    c = 1\n",
    "    for i in list:\n",
    "        print(('\\n- columns #{} : {:-<8}'.format(c,i)))\n",
    "        print((df[i].value_counts().nlargest(5)))\n",
    "        ### nlargest 非常好用\n",
    "        c += 1\n",
    "    pp.pprint('----checking complete----')"
   ]
  },
  {
   "cell_type": "markdown",
   "metadata": {},
   "source": [
    "#### // check_detail(df,list)"
   ]
  },
  {
   "cell_type": "code",
   "execution_count": 3,
   "metadata": {
    "ExecuteTime": {
     "end_time": "2019-07-22T14:59:03.456925Z",
     "start_time": "2019-07-22T14:59:03.448799Z"
    }
   },
   "outputs": [],
   "source": [
    "# build function\n",
    "def check_detail(df,list):\n",
    "    sampe = df.sample(1)\n",
    "    c = 1\n",
    "    for i in list:\n",
    "        print(('\\n- columns #{} : {:-<8}'.format(c,i)))\n",
    "        pp.pprint(df[i].iloc[0])\n",
    "        c += 1\n",
    "        ## 使用 pprint 优化 dict 显示"
   ]
  },
  {
   "cell_type": "markdown",
   "metadata": {},
   "source": [
    "#### // drop_column(df,list)"
   ]
  },
  {
   "cell_type": "code",
   "execution_count": 4,
   "metadata": {
    "ExecuteTime": {
     "end_time": "2019-07-22T14:59:04.751623Z",
     "start_time": "2019-07-22T14:59:04.744824Z"
    }
   },
   "outputs": [],
   "source": [
    "## build fuction\n",
    "def drop_column(df,list):\n",
    "    ## proceed\n",
    "    dflen = len(df.columns)\n",
    "    df.drop(list,axis=1,inplace=True)\n",
    "    ### 在函数中要用 inplace=True 而不是赋值来作用于df\n",
    "    ## check\n",
    "    print('---- proceding ----')\n",
    "    print('- drop {} columns: {} '.format(len(list), list))\n",
    "    print('- remain {} columns'.format(len(df.columns)))\n",
    "    print('- success : {}'.format(len(list) + len(df.columns) == dflen))"
   ]
  },
  {
   "cell_type": "markdown",
   "metadata": {},
   "source": [
    "### / data inspect"
   ]
  },
  {
   "cell_type": "code",
   "execution_count": 8,
   "metadata": {
    "ExecuteTime": {
     "end_time": "2019-07-22T15:01:24.365189Z",
     "start_time": "2019-07-22T15:01:23.832092Z"
    }
   },
   "outputs": [],
   "source": [
    "df2019 = pd.read_pickle('2019_35featrue.pickle.xz', compression='xz')"
   ]
  },
  {
   "cell_type": "code",
   "execution_count": 9,
   "metadata": {
    "ExecuteTime": {
     "end_time": "2019-07-22T15:01:27.232015Z",
     "start_time": "2019-07-22T15:01:27.198158Z"
    }
   },
   "outputs": [
    {
     "name": "stdout",
     "output_type": "stream",
     "text": [
      "----checking sample index: 54177\n",
      "\n",
      "- columns #1 : MainBranch\n",
      "['I am a developer by profession']\n",
      "\n",
      "- columns #2 : OpenSourcer\n",
      "['Never']\n",
      "\n",
      "- columns #3 : OpenSource\n",
      "['The quality of OSS and closed source software is about the same']\n",
      "\n",
      "- columns #4 : Employment\n",
      "['Employed full-time']\n",
      "\n",
      "- columns #5 : Age-----\n",
      "[36.]\n",
      "\n",
      "- columns #6 : Student-\n",
      "['No']\n",
      "\n",
      "- columns #7 : EdLevel-\n",
      "['Master’s degree (MA, MS, M.Eng., MBA, etc.)']\n",
      "\n",
      "- columns #8 : UndergradMajor\n",
      "['A social science (ex. anthropology, psychology, political science)']\n",
      "\n",
      "- columns #9 : EduOther\n",
      "['Taken an online course in programming or software development (e.g. a MOOC);Taken a part-time in-person course in programming or software development;Received on-the-job training in software development;Taught yourself a new language, framework, or tool without taking a formal course']\n",
      "\n",
      "- columns #10 : OrgSize-\n",
      "['1,000 to 4,999 employees']\n",
      "\n",
      "- columns #11 : DevType-\n",
      "['Database administrator;Developer, full-stack']\n",
      "\n",
      "- columns #12 : YearsCode\n",
      "['14']\n",
      "\n",
      "- columns #13 : CareerSat\n",
      "['Very satisfied']\n",
      "\n",
      "- columns #14 : JobSeek-\n",
      "['I’m not actively looking, but I am open to new opportunities']\n",
      "\n",
      "- columns #15 : JobFactors\n",
      "[\"Industry that I'd be working in;Specific department or team I'd be working on;Flex time or a flexible schedule\"]\n",
      "\n",
      "- columns #16 : ConvertedComp\n",
      "[111000.]\n",
      "\n",
      "- columns #17 : WorkWeekHrs\n",
      "[40.]\n",
      "\n",
      "- columns #18 : WorkChallenge\n",
      "['Being tasked with non-development work;Distracting work environment;Meetings']\n",
      "\n",
      "- columns #19 : ImpSyn--\n",
      "['A little above average']\n",
      "\n",
      "- columns #20 : LanguageWorkedWith\n",
      "['Bash/Shell/PowerShell;HTML/CSS;JavaScript;Python;SQL;TypeScript']\n",
      "\n",
      "- columns #21 : LanguageDesireNextYear\n",
      "['Bash/Shell/PowerShell;Go;HTML/CSS;JavaScript;Python;SQL;TypeScript']\n",
      "\n",
      "- columns #22 : DatabaseWorkedWith\n",
      "['Elasticsearch;PostgreSQL;Redis;SQLite']\n",
      "\n",
      "- columns #23 : DatabaseDesireNextYear\n",
      "['DynamoDB;Elasticsearch;PostgreSQL;Redis']\n",
      "\n",
      "- columns #24 : DevEnviron\n",
      "['Notepad++;PyCharm;Vim;Visual Studio Code']\n",
      "\n",
      "- columns #25 : OpSys---\n",
      "['Linux-based']\n",
      "\n",
      "- columns #26 : BetterLife\n",
      "['No']\n",
      "\n",
      "- columns #27 : SOVisitFreq\n",
      "['Daily or almost daily']\n",
      "\n",
      "- columns #28 : SOVisitTo\n",
      "['Find answers to specific questions']\n",
      "\n",
      "- columns #29 : SOFindAnswer\n",
      "['3-5 times per week']\n",
      "\n",
      "- columns #30 : SOTimeSaved\n",
      "['They were about the same']\n",
      "\n",
      "- columns #31 : SOPartFreq\n",
      "['I have never participated in Q&A on Stack Overflow']\n",
      "\n",
      "- columns #32 : SOJobs--\n",
      "[\"No, I didn't know that Stack Overflow had a job board\"]\n",
      "\n",
      "- columns #33 : EntTeams\n",
      "[\"No, and I don't know what those are\"]\n",
      "\n",
      "- columns #34 : SOComm--\n",
      "['No, not at all']\n",
      "\n",
      "- columns #35 : WelcomeChange\n",
      "['Just as welcome now as I felt last year']\n",
      "'----checking complete----'\n"
     ]
    }
   ],
   "source": [
    "check_sample(df2019)"
   ]
  },
  {
   "cell_type": "code",
   "execution_count": 10,
   "metadata": {
    "ExecuteTime": {
     "end_time": "2019-07-22T15:01:28.903310Z",
     "start_time": "2019-07-22T15:01:28.240900Z"
    }
   },
   "outputs": [
    {
     "name": "stdout",
     "output_type": "stream",
     "text": [
      "\n",
      "- columns #1 : MainBranch\n",
      "I am a developer by profession                                                   65679\n",
      "I am a student who is learning to code                                           10189\n",
      "I am not primarily a developer, but I write code sometimes as part of my work     7539\n",
      "I code primarily as a hobby                                                       3340\n",
      "I used to be a developer by profession, but no longer am                          1584\n",
      "Name: MainBranch, dtype: int64\n",
      "\n",
      "- columns #2 : OpenSourcer\n",
      "Never                                                 32295\n",
      "Less than once per year                               24972\n",
      "Less than once a month but more than once per year    20561\n",
      "Once a month or more often                            11055\n",
      "Name: OpenSourcer, dtype: int64\n",
      "\n",
      "- columns #3 : OpenSource\n",
      "The quality of OSS and closed source software is about the same                    41527\n",
      "OSS is, on average, of HIGHER quality than proprietary / closed source software    36556\n",
      "OSS is, on average, of LOWER quality than proprietary / closed source software      8759\n",
      "Name: OpenSource, dtype: int64\n",
      "\n",
      "- columns #4 : Employment\n",
      "Employed full-time                                      64440\n",
      "Independent contractor, freelancer, or self-employed     8511\n",
      "Not employed, but looking for work                       5600\n",
      "Employed part-time                                       4469\n",
      "Not employed, and not looking for work                   3803\n",
      "Name: Employment, dtype: int64\n",
      "\n",
      "- columns #5 : Age-----\n",
      "25.0    4669\n",
      "24.0    4428\n",
      "27.0    4418\n",
      "26.0    4397\n",
      "28.0    4387\n",
      "Name: Age, dtype: int64\n",
      "\n",
      "- columns #6 : Student-\n",
      "No                65816\n",
      "Yes, full-time    15769\n",
      "Yes, part-time     5429\n",
      "Name: Student, dtype: int64\n",
      "\n",
      "- columns #7 : EdLevel-\n",
      "Bachelor’s degree (BA, BS, B.Eng., etc.)                                              39134\n",
      "Master’s degree (MA, MS, M.Eng., MBA, etc.)                                           19569\n",
      "Some college/university study without earning a degree                                10502\n",
      "Secondary school (e.g. American high school, German Realschule or Gymnasium, etc.)     8642\n",
      "Associate degree                                                                       2938\n",
      "Name: EdLevel, dtype: int64\n",
      "\n",
      "- columns #8 : UndergradMajor\n",
      "Computer science, computer engineering, or software engineering          47214\n",
      "Another engineering discipline (ex. civil, electrical, mechanical)        6222\n",
      "Information systems, information technology, or system administration     5253\n",
      "Web development or web design                                             3422\n",
      "A natural science (ex. biology, chemistry, physics)                       3232\n",
      "Name: UndergradMajor, dtype: int64\n",
      "\n",
      "- columns #9 : EduOther\n",
      "Taught yourself a new language, framework, or tool without taking a formal course                                                                                                                                     6699\n",
      "Taken an online course in programming or software development (e.g. a MOOC);Taught yourself a new language, framework, or tool without taking a formal course                                                         6012\n",
      "Taught yourself a new language, framework, or tool without taking a formal course;Contributed to open source software                                                                                                 3810\n",
      "Taken an online course in programming or software development (e.g. a MOOC);Received on-the-job training in software development;Taught yourself a new language, framework, or tool without taking a formal course    3104\n",
      "Taken an online course in programming or software development (e.g. a MOOC)                                                                                                                                           2820\n",
      "Name: EduOther, dtype: int64\n",
      "\n",
      "- columns #10 : OrgSize-\n",
      "20 to 99 employees          15199\n",
      "100 to 499 employees        12834\n",
      "10,000 or more employees    10147\n",
      "1,000 to 4,999 employees     7520\n",
      "2-9 employees                7393\n",
      "Name: OrgSize, dtype: int64\n",
      "\n",
      "- columns #11 : DevType-\n",
      "Developer, full-stack                                             8433\n",
      "Developer, back-end                                               4913\n",
      "Developer, back-end;Developer, front-end;Developer, full-stack    2399\n",
      "Developer, front-end                                              2212\n",
      "Developer, mobile                                                 2172\n",
      "Name: DevType, dtype: int64\n",
      "\n",
      "- columns #12 : YearsCode\n",
      "5     7047\n",
      "10    6777\n",
      "6     6179\n",
      "4     5729\n",
      "8     5361\n",
      "Name: YearsCode, dtype: int64\n",
      "\n",
      "- columns #13 : CareerSat\n",
      "Very satisfied                        29173\n",
      "Slightly satisfied                    25018\n",
      "Slightly dissatisfied                  7670\n",
      "Neither satisfied nor dissatisfied     7252\n",
      "Very dissatisfied                      3734\n",
      "Name: CareerSat, dtype: int64\n",
      "\n",
      "- columns #14 : JobSeek-\n",
      "I’m not actively looking, but I am open to new opportunities    47260\n",
      "I am not interested in new job opportunities                    21080\n",
      "I am actively looking for a job                                 12215\n",
      "Name: JobSeek, dtype: int64\n",
      "\n",
      "- columns #15 : JobFactors\n",
      "Languages, frameworks, and other technologies I'd be working with;Office environment or company culture;Opportunities for professional development    4992\n",
      "Languages, frameworks, and other technologies I'd be working with;Office environment or company culture;Flex time or a flexible schedule              4937\n",
      "Languages, frameworks, and other technologies I'd be working with;Remote work options;Flex time or a flexible schedule                                4710\n",
      "Office environment or company culture;Opportunities for professional development;Flex time or a flexible schedule                                     3321\n",
      "Languages, frameworks, and other technologies I'd be working with;Opportunities for professional development;Flex time or a flexible schedule         3248\n",
      "Name: JobFactors, dtype: int64\n",
      "\n",
      "- columns #16 : ConvertedComp\n",
      "2000000.0    709\n",
      "1000000.0    558\n",
      "120000.0     502\n",
      "100000.0     480\n",
      "150000.0     434\n",
      "Name: ConvertedComp, dtype: int64\n",
      "\n",
      "- columns #17 : WorkWeekHrs\n",
      "40.0    30131\n",
      "45.0     6352\n",
      "50.0     4656\n",
      "35.0     3159\n",
      "37.5     1662\n",
      "Name: WorkWeekHrs, dtype: int64\n",
      "\n",
      "- columns #18 : WorkChallenge\n",
      "Being tasked with non-development work;Distracting work environment;Meetings                              2318\n",
      "Being tasked with non-development work;Meetings;Not enough people for the workload                        1741\n",
      "Being tasked with non-development work;Distracting work environment;Not enough people for the workload    1511\n",
      "Distracting work environment;Meetings;Not enough people for the workload                                  1472\n",
      "Not enough people for the workload                                                                        1420\n",
      "Name: WorkChallenge, dtype: int64\n",
      "\n",
      "- columns #19 : ImpSyn--\n",
      "A little above average    32374\n",
      "Average                   17176\n",
      "Far above average         15399\n",
      "A little below average     5289\n",
      "Far below average          1541\n",
      "Name: ImpSyn, dtype: int64\n",
      "\n",
      "- columns #20 : LanguageWorkedWith\n",
      "HTML/CSS;JavaScript;PHP;SQL              1483\n",
      "C#;HTML/CSS;JavaScript;SQL               1414\n",
      "HTML/CSS;JavaScript                      1247\n",
      "C#;HTML/CSS;JavaScript;SQL;TypeScript     990\n",
      "Java                                      934\n",
      "Name: LanguageWorkedWith, dtype: int64\n",
      "\n",
      "- columns #21 : LanguageDesireNextYear\n",
      "Python                            1236\n",
      "HTML/CSS;JavaScript                697\n",
      "HTML/CSS;JavaScript;TypeScript     648\n",
      "C#                                 607\n",
      "Java                               584\n",
      "Name: LanguageDesireNextYear, dtype: int64\n",
      "\n",
      "- columns #22 : DatabaseWorkedWith\n",
      "MySQL                         5556\n",
      "Microsoft SQL Server          5164\n",
      "PostgreSQL                    2614\n",
      "SQLite                        2027\n",
      "Microsoft SQL Server;MySQL    1868\n",
      "Name: DatabaseWorkedWith, dtype: int64\n",
      "\n",
      "- columns #23 : DatabaseDesireNextYear\n",
      "PostgreSQL              3539\n",
      "Microsoft SQL Server    3290\n",
      "MySQL                   3184\n",
      "MongoDB                 2250\n",
      "SQLite                  1506\n",
      "Name: DatabaseDesireNextYear, dtype: int64\n",
      "\n",
      "- columns #24 : DevEnviron\n",
      "Visual Studio Code                            5036\n",
      "Visual Studio;Visual Studio Code              3840\n",
      "Notepad++;Visual Studio;Visual Studio Code    3248\n",
      "Vim                                           2224\n",
      "Notepad++;Visual Studio                       1968\n",
      "Name: DevEnviron, dtype: int64\n",
      "\n",
      "- columns #25 : OpSys---\n",
      "Windows        41714\n",
      "MacOS          23541\n",
      "Linux-based    22472\n",
      "BSD              124\n",
      "Name: OpSys, dtype: int64\n",
      "\n",
      "- columns #26 : BetterLife\n",
      "Yes    54938\n",
      "No     31331\n",
      "Name: BetterLife, dtype: int64\n",
      "\n",
      "- columns #27 : SOVisitFreq\n",
      "Daily or almost daily                  26827\n",
      "Multiple times per day                 26767\n",
      "A few times per week                   19990\n",
      "A few times per month or weekly        11162\n",
      "Less than once per month or monthly     2957\n",
      "Name: SOVisitFreq, dtype: int64\n",
      "\n",
      "- columns #28 : SOVisitTo\n",
      "Find answers to specific questions                                                                                                33842\n",
      "Find answers to specific questions;Learn how to do things I didn’t necessarily look for                                           15416\n",
      "Find answers to specific questions;Contribute to a library of information                                                          6955\n",
      "Find answers to specific questions;Learn how to do things I didn’t necessarily look for;Contribute to a library of information     4265\n",
      "Find answers to specific questions;Learn how to do things I didn’t necessarily look for;Pass the time / relax                      3467\n",
      "Name: SOVisitTo, dtype: int64\n",
      "\n",
      "- columns #29 : SOFindAnswer\n",
      "1-2 times per week             24231\n",
      "3-5 times per week             22928\n",
      "More than 10 times per week    15112\n",
      "6-10 times per week            12867\n",
      "Less than once per week        12678\n",
      "Name: SOFindAnswer, dtype: int64\n",
      "\n",
      "- columns #30 : SOTimeSaved\n",
      "Stack Overflow was much faster            45330\n",
      "Stack Overflow was slightly faster        21342\n",
      "They were about the same                  17029\n",
      "The other resource was slightly faster     1670\n",
      "The other resource was much faster          973\n",
      "Name: SOTimeSaved, dtype: int64\n",
      "\n",
      "- columns #31 : SOPartFreq\n",
      "Less than once per month or monthly                   30440\n",
      "I have never participated in Q&A on Stack Overflow    17287\n",
      "A few times per month or weekly                       14094\n",
      "A few times per week                                   7040\n",
      "Daily or almost daily                                  3695\n",
      "Name: SOPartFreq, dtype: int64\n",
      "\n",
      "- columns #32 : SOJobs--\n",
      "Yes                                                                                 41257\n",
      "No, I knew that Stack Overflow had a job board but have never used or visited it    32275\n",
      "No, I didn't know that Stack Overflow had a job board                               14534\n",
      "Name: SOJobs, dtype: int64\n",
      "\n",
      "- columns #33 : EntTeams\n",
      "No, and I don't know what those are                                    48129\n",
      "No, I've heard of them, but I am not part of a private Q&A instance    36637\n",
      "Yes                                                                     3075\n",
      "Name: EntTeams, dtype: int64\n",
      "\n",
      "- columns #34 : SOComm--\n",
      "Yes, somewhat      27452\n",
      "No, not really     19858\n",
      "Neutral            17900\n",
      "Yes, definitely    15302\n",
      "No, not at all      6447\n",
      "Name: SOComm, dtype: int64\n",
      "\n",
      "- columns #35 : WelcomeChange\n",
      "Just as welcome now as I felt last year                    62661\n",
      "Somewhat more welcome now than last year                    8853\n",
      "A lot more welcome now than last year                       4808\n",
      "Somewhat less welcome now than last year                    4259\n",
      "Not applicable - I did not use Stack Overflow last year     2675\n",
      "Name: WelcomeChange, dtype: int64\n",
      "'----checking complete----'\n"
     ]
    }
   ],
   "source": [
    "check_value_list = df2019.columns\n",
    "check_value(df2019, check_value_list)"
   ]
  },
  {
   "cell_type": "code",
   "execution_count": 11,
   "metadata": {
    "ExecuteTime": {
     "end_time": "2019-07-22T15:01:29.190806Z",
     "start_time": "2019-07-22T15:01:29.186029Z"
    }
   },
   "outputs": [],
   "source": [
    "## not long str features , now need check detail\n",
    "#check_detail(df2019,df2019.columns)"
   ]
  },
  {
   "cell_type": "code",
   "execution_count": 12,
   "metadata": {
    "ExecuteTime": {
     "end_time": "2019-07-22T15:01:30.197397Z",
     "start_time": "2019-07-22T15:01:29.972329Z"
    }
   },
   "outputs": [
    {
     "data": {
      "text/plain": [
       "MainBranch                False\n",
       "OpenSourcer               False\n",
       "OpenSource                False\n",
       "Employment                False\n",
       "Age                       False\n",
       "Student                   False\n",
       "EdLevel                   False\n",
       "UndergradMajor            False\n",
       "EduOther                  False\n",
       "OrgSize                   False\n",
       "DevType                   False\n",
       "YearsCode                 False\n",
       "CareerSat                 False\n",
       "JobSeek                   False\n",
       "JobFactors                False\n",
       "ConvertedComp             False\n",
       "WorkWeekHrs               False\n",
       "WorkChallenge             False\n",
       "ImpSyn                    False\n",
       "LanguageWorkedWith        False\n",
       "LanguageDesireNextYear    False\n",
       "DatabaseWorkedWith        False\n",
       "DatabaseDesireNextYear    False\n",
       "DevEnviron                False\n",
       "OpSys                     False\n",
       "BetterLife                False\n",
       "SOVisitFreq               False\n",
       "SOVisitTo                 False\n",
       "SOFindAnswer              False\n",
       "SOTimeSaved               False\n",
       "SOPartFreq                False\n",
       "SOJobs                    False\n",
       "EntTeams                  False\n",
       "SOComm                    False\n",
       "WelcomeChange             False\n",
       "dtype: bool"
      ]
     },
     "execution_count": 12,
     "metadata": {},
     "output_type": "execute_result"
    }
   ],
   "source": [
    "df2019.isna().all()"
   ]
  },
  {
   "cell_type": "code",
   "execution_count": 13,
   "metadata": {
    "ExecuteTime": {
     "end_time": "2019-07-22T15:01:31.087148Z",
     "start_time": "2019-07-22T15:01:30.827130Z"
    }
   },
   "outputs": [
    {
     "data": {
      "text/plain": [
       "MainBranch                  552\n",
       "OpenSourcer                   0\n",
       "OpenSource                 2041\n",
       "Employment                 1702\n",
       "Age                        9673\n",
       "Student                    1869\n",
       "EdLevel                    2493\n",
       "UndergradMajor            13269\n",
       "EduOther                   4623\n",
       "OrgSize                   17092\n",
       "DevType                    7548\n",
       "YearsCode                   945\n",
       "CareerSat                 16036\n",
       "JobSeek                    8328\n",
       "JobFactors                 9512\n",
       "ConvertedComp             33060\n",
       "WorkWeekHrs               24380\n",
       "WorkChallenge             20742\n",
       "ImpSyn                    17104\n",
       "LanguageWorkedWith         1314\n",
       "LanguageDesireNextYear     4795\n",
       "DatabaseWorkedWith        12857\n",
       "DatabaseDesireNextYear    19736\n",
       "DevEnviron                 1566\n",
       "OpSys                      1032\n",
       "BetterLife                 2614\n",
       "SOVisitFreq                 620\n",
       "SOVisitTo                   797\n",
       "SOFindAnswer               1067\n",
       "SOTimeSaved                2539\n",
       "SOPartFreq                14191\n",
       "SOJobs                      817\n",
       "EntTeams                   1042\n",
       "SOComm                      752\n",
       "WelcomeChange              3028\n",
       "dtype: int64"
      ]
     },
     "execution_count": 13,
     "metadata": {},
     "output_type": "execute_result"
    }
   ],
   "source": [
    "df2019.isna().sum()\n",
    "### isnull is an alias for isna\n",
    "### for in R they are different, but for python dataframe itis base numpy's NaN\n",
    "### https://datascience.stackexchange.com/questions/37878/difference-between-isna-and-isnull-in-pandas"
   ]
  },
  {
   "cell_type": "code",
   "execution_count": 14,
   "metadata": {
    "ExecuteTime": {
     "end_time": "2019-07-22T15:01:31.875290Z",
     "start_time": "2019-07-22T15:01:31.738812Z"
    }
   },
   "outputs": [
    {
     "data": {
      "text/html": [
       "<div>\n",
       "<style scoped>\n",
       "    .dataframe tbody tr th:only-of-type {\n",
       "        vertical-align: middle;\n",
       "    }\n",
       "\n",
       "    .dataframe tbody tr th {\n",
       "        vertical-align: top;\n",
       "    }\n",
       "\n",
       "    .dataframe thead th {\n",
       "        text-align: right;\n",
       "    }\n",
       "</style>\n",
       "<table border=\"1\" class=\"dataframe\">\n",
       "  <thead>\n",
       "    <tr style=\"text-align: right;\">\n",
       "      <th></th>\n",
       "      <th>Age</th>\n",
       "      <th>ConvertedComp</th>\n",
       "      <th>WorkWeekHrs</th>\n",
       "    </tr>\n",
       "  </thead>\n",
       "  <tbody>\n",
       "    <tr>\n",
       "      <th>count</th>\n",
       "      <td>79210.000000</td>\n",
       "      <td>5.582300e+04</td>\n",
       "      <td>64503.000000</td>\n",
       "    </tr>\n",
       "    <tr>\n",
       "      <th>mean</th>\n",
       "      <td>30.336699</td>\n",
       "      <td>1.271107e+05</td>\n",
       "      <td>42.127197</td>\n",
       "    </tr>\n",
       "    <tr>\n",
       "      <th>std</th>\n",
       "      <td>9.178390</td>\n",
       "      <td>2.841523e+05</td>\n",
       "      <td>37.287610</td>\n",
       "    </tr>\n",
       "    <tr>\n",
       "      <th>min</th>\n",
       "      <td>1.000000</td>\n",
       "      <td>0.000000e+00</td>\n",
       "      <td>1.000000</td>\n",
       "    </tr>\n",
       "    <tr>\n",
       "      <th>25%</th>\n",
       "      <td>24.000000</td>\n",
       "      <td>2.577750e+04</td>\n",
       "      <td>40.000000</td>\n",
       "    </tr>\n",
       "    <tr>\n",
       "      <th>50%</th>\n",
       "      <td>29.000000</td>\n",
       "      <td>5.728700e+04</td>\n",
       "      <td>40.000000</td>\n",
       "    </tr>\n",
       "    <tr>\n",
       "      <th>75%</th>\n",
       "      <td>35.000000</td>\n",
       "      <td>1.000000e+05</td>\n",
       "      <td>44.750000</td>\n",
       "    </tr>\n",
       "    <tr>\n",
       "      <th>max</th>\n",
       "      <td>99.000000</td>\n",
       "      <td>2.000000e+06</td>\n",
       "      <td>4850.000000</td>\n",
       "    </tr>\n",
       "  </tbody>\n",
       "</table>\n",
       "</div>"
      ],
      "text/plain": [
       "                Age  ConvertedComp   WorkWeekHrs\n",
       "count  79210.000000   5.582300e+04  64503.000000\n",
       "mean      30.336699   1.271107e+05     42.127197\n",
       "std        9.178390   2.841523e+05     37.287610\n",
       "min        1.000000   0.000000e+00      1.000000\n",
       "25%       24.000000   2.577750e+04     40.000000\n",
       "50%       29.000000   5.728700e+04     40.000000\n",
       "75%       35.000000   1.000000e+05     44.750000\n",
       "max       99.000000   2.000000e+06   4850.000000"
      ]
     },
     "execution_count": 14,
     "metadata": {},
     "output_type": "execute_result"
    }
   ],
   "source": [
    "df2019.describe()"
   ]
  },
  {
   "cell_type": "code",
   "execution_count": 15,
   "metadata": {
    "ExecuteTime": {
     "end_time": "2019-07-22T15:01:32.747788Z",
     "start_time": "2019-07-22T15:01:32.544491Z"
    }
   },
   "outputs": [
    {
     "name": "stdout",
     "output_type": "stream",
     "text": [
      "<class 'pandas.core.frame.DataFrame'>\n",
      "RangeIndex: 88883 entries, 0 to 88882\n",
      "Data columns (total 35 columns):\n",
      "MainBranch                88331 non-null object\n",
      "OpenSourcer               88883 non-null object\n",
      "OpenSource                86842 non-null object\n",
      "Employment                87181 non-null object\n",
      "Age                       79210 non-null float64\n",
      "Student                   87014 non-null object\n",
      "EdLevel                   86390 non-null object\n",
      "UndergradMajor            75614 non-null object\n",
      "EduOther                  84260 non-null object\n",
      "OrgSize                   71791 non-null object\n",
      "DevType                   81335 non-null object\n",
      "YearsCode                 87938 non-null object\n",
      "CareerSat                 72847 non-null object\n",
      "JobSeek                   80555 non-null object\n",
      "JobFactors                79371 non-null object\n",
      "ConvertedComp             55823 non-null float64\n",
      "WorkWeekHrs               64503 non-null float64\n",
      "WorkChallenge             68141 non-null object\n",
      "ImpSyn                    71779 non-null object\n",
      "LanguageWorkedWith        87569 non-null object\n",
      "LanguageDesireNextYear    84088 non-null object\n",
      "DatabaseWorkedWith        76026 non-null object\n",
      "DatabaseDesireNextYear    69147 non-null object\n",
      "DevEnviron                87317 non-null object\n",
      "OpSys                     87851 non-null object\n",
      "BetterLife                86269 non-null object\n",
      "SOVisitFreq               88263 non-null object\n",
      "SOVisitTo                 88086 non-null object\n",
      "SOFindAnswer              87816 non-null object\n",
      "SOTimeSaved               86344 non-null object\n",
      "SOPartFreq                74692 non-null object\n",
      "SOJobs                    88066 non-null object\n",
      "EntTeams                  87841 non-null object\n",
      "SOComm                    88131 non-null object\n",
      "WelcomeChange             85855 non-null object\n",
      "dtypes: float64(3), object(32)\n",
      "memory usage: 23.7+ MB\n"
     ]
    }
   ],
   "source": [
    "df2019.info()"
   ]
  },
  {
   "cell_type": "markdown",
   "metadata": {},
   "source": [
    "#### // summary\n",
    "good enough for tidyness, for every columns info, please check blog post\n",
    "- Age, ConvertedComp, WorkWeekHrs are float64\n",
    "- EduOther, JobFactors, WorkChallenge, LanguageWorkedWith, LanguageDesireNextYear, DatabaseWorkedWith, DatabaseDesireNextYear, DevEnvition, SOVisitTo are multi checkbox, may need more work (maybe later)\n",
    "- lefts are category\n",
    "- no data related to time serial"
   ]
  },
  {
   "cell_type": "markdown",
   "metadata": {},
   "source": [
    "### / tidyness\n",
    "things need to be done\n",
    "- converte most featrues to category data type (later)\n",
    "    - https://dataninjago.com/2018/03/11/why-bother-to-use-pandas-categorical-type-in-python/\n",
    "    - https://pbpython.com/pandas_dtypes_cat.html\n",
    "    - https://pandas.pydata.org/pandas-docs/stable/user_guide/categorical.html\n",
    "- converte multi selection feature to new specific df (one by one, later)\n",
    "    - https://jeffdelaney.me/blog/useful-snippets-in-pandas/ section18\n",
    "- creating bin for float data if needed\n",
    "    - https://jeffdelaney.me/blog/useful-snippets-in-pandas/ section17\n"
   ]
  },
  {
   "cell_type": "markdown",
   "metadata": {},
   "source": [
    "#### // multi cateloge handling"
   ]
  },
  {
   "cell_type": "code",
   "execution_count": 16,
   "metadata": {
    "ExecuteTime": {
     "end_time": "2019-07-22T15:02:16.743408Z",
     "start_time": "2019-07-22T15:02:16.709162Z"
    }
   },
   "outputs": [
    {
     "data": {
      "text/plain": [
       "Taught yourself a new language, framework, or tool without taking a formal course                                                                                                                                                                                                                                                                                                                                                                                                                                                                                           6699\n",
       "Taken an online course in programming or software development (e.g. a MOOC);Taught yourself a new language, framework, or tool without taking a formal course                                                                                                                                                                                                                                                                                                                                                                                                               6012\n",
       "Taught yourself a new language, framework, or tool without taking a formal course;Contributed to open source software                                                                                                                                                                                                                                                                                                                                                                                                                                                       3810\n",
       "Taken an online course in programming or software development (e.g. a MOOC);Received on-the-job training in software development;Taught yourself a new language, framework, or tool without taking a formal course                                                                                                                                                                                                                                                                                                                                                          3104\n",
       "Taken an online course in programming or software development (e.g. a MOOC)                                                                                                                                                                                                                                                                                                                                                                                                                                                                                                 2820\n",
       "Taken an online course in programming or software development (e.g. a MOOC);Taught yourself a new language, framework, or tool without taking a formal course;Contributed to open source software                                                                                                                                                                                                                                                                                                                                                                           2724\n",
       "Received on-the-job training in software development;Taught yourself a new language, framework, or tool without taking a formal course                                                                                                                                                                                                                                                                                                                                                                                                                                      2640\n",
       "Received on-the-job training in software development;Taught yourself a new language, framework, or tool without taking a formal course;Contributed to open source software                                                                                                                                                                                                                                                                                                                                                                                                  1542\n",
       "Taken an online course in programming or software development (e.g. a MOOC);Received on-the-job training in software development;Taught yourself a new language, framework, or tool without taking a formal course;Contributed to open source software                                                                                                                                                                                                                                                                                                                      1484\n",
       "Taken an online course in programming or software development (e.g. a MOOC);Taught yourself a new language, framework, or tool without taking a formal course;Participated in online coding competitions (e.g. HackerRank, CodeChef, TopCoder)                                                                                                                                                                                                                                                                                                                              1416\n",
       "Taught yourself a new language, framework, or tool without taking a formal course;Participated in a hackathon;Contributed to open source software                                                                                                                                                                                                                                                                                                                                                                                                                           1161\n",
       "Taken an online course in programming or software development (e.g. a MOOC);Taught yourself a new language, framework, or tool without taking a formal course;Participated in online coding competitions (e.g. HackerRank, CodeChef, TopCoder);Contributed to open source software                                                                                                                                                                                                                                                                                          1160\n",
       "Taken an online course in programming or software development (e.g. a MOOC);Taught yourself a new language, framework, or tool without taking a formal course;Participated in online coding competitions (e.g. HackerRank, CodeChef, TopCoder);Participated in a hackathon;Contributed to open source software                                                                                                                                                                                                                                                              1108\n",
       "Taken an online course in programming or software development (e.g. a MOOC);Taken a part-time in-person course in programming or software development;Taught yourself a new language, framework, or tool without taking a formal course                                                                                                                                                                                                                                                                                                                                     1053\n",
       "Taken an online course in programming or software development (e.g. a MOOC);Taught yourself a new language, framework, or tool without taking a formal course;Participated in a hackathon;Contributed to open source software                                                                                                                                                                                                                                                                                                                                               1043\n",
       "Taken an online course in programming or software development (e.g. a MOOC);Received on-the-job training in software development;Taught yourself a new language, framework, or tool without taking a formal course;Participated in online coding competitions (e.g. HackerRank, CodeChef, TopCoder);Participated in a hackathon;Contributed to open source software                                                                                                                                                                                                          902\n",
       "Taken an online course in programming or software development (e.g. a MOOC);Taught yourself a new language, framework, or tool without taking a formal course;Participated in a hackathon                                                                                                                                                                                                                                                                                                                                                                                    888\n",
       "Taught yourself a new language, framework, or tool without taking a formal course;Participated in online coding competitions (e.g. HackerRank, CodeChef, TopCoder);Contributed to open source software                                                                                                                                                                                                                                                                                                                                                                       880\n",
       "Taken an online course in programming or software development (e.g. a MOOC);Received on-the-job training in software development;Taught yourself a new language, framework, or tool without taking a formal course;Participated in a hackathon;Contributed to open source software                                                                                                                                                                                                                                                                                           874\n",
       "Taken an online course in programming or software development (e.g. a MOOC);Taken a part-time in-person course in programming or software development;Received on-the-job training in software development;Taught yourself a new language, framework, or tool without taking a formal course                                                                                                                                                                                                                                                                                 854\n",
       "Taught yourself a new language, framework, or tool without taking a formal course;Participated in online coding competitions (e.g. HackerRank, CodeChef, TopCoder)                                                                                                                                                                                                                                                                                                                                                                                                           851\n",
       "Taught yourself a new language, framework, or tool without taking a formal course;Participated in online coding competitions (e.g. HackerRank, CodeChef, TopCoder);Participated in a hackathon;Contributed to open source software                                                                                                                                                                                                                                                                                                                                           803\n",
       "Taken an online course in programming or software development (e.g. a MOOC);Received on-the-job training in software development;Taught yourself a new language, framework, or tool without taking a formal course;Participated in online coding competitions (e.g. HackerRank, CodeChef, TopCoder)                                                                                                                                                                                                                                                                          786\n",
       "Received on-the-job training in software development;Taught yourself a new language, framework, or tool without taking a formal course;Participated in a hackathon;Contributed to open source software                                                                                                                                                                                                                                                                                                                                                                       720\n",
       "Taught yourself a new language, framework, or tool without taking a formal course;Participated in a hackathon                                                                                                                                                                                                                                                                                                                                                                                                                                                                691\n",
       "Taken an online course in programming or software development (e.g. a MOOC);Received on-the-job training in software development;Taught yourself a new language, framework, or tool without taking a formal course;Participated in a hackathon                                                                                                                                                                                                                                                                                                                               686\n",
       "Taken an online course in programming or software development (e.g. a MOOC);Received on-the-job training in software development;Taught yourself a new language, framework, or tool without taking a formal course;Participated in online coding competitions (e.g. HackerRank, CodeChef, TopCoder);Contributed to open source software                                                                                                                                                                                                                                      677\n",
       "Taken an online course in programming or software development (e.g. a MOOC);Completed an industry certification program (e.g. MCPD);Taught yourself a new language, framework, or tool without taking a formal course                                                                                                                                                                                                                                                                                                                                                        677\n",
       "Taken an online course in programming or software development (e.g. a MOOC);Taught yourself a new language, framework, or tool without taking a formal course;Participated in online coding competitions (e.g. HackerRank, CodeChef, TopCoder);Participated in a hackathon                                                                                                                                                                                                                                                                                                   656\n",
       "Taken an online course in programming or software development (e.g. a MOOC);Participated in a full-time developer training program or bootcamp;Taught yourself a new language, framework, or tool without taking a formal course                                                                                                                                                                                                                                                                                                                                             654\n",
       "Received on-the-job training in software development                                                                                                                                                                                                                                                                                                                                                                                                                                                                                                                         643\n",
       "Participated in a full-time developer training program or bootcamp                                                                                                                                                                                                                                                                                                                                                                                                                                                                                                           621\n",
       "Taken an online course in programming or software development (e.g. a MOOC);Participated in a full-time developer training program or bootcamp;Received on-the-job training in software development;Taught yourself a new language, framework, or tool without taking a formal course                                                                                                                                                                                                                                                                                        575\n",
       "Contributed to open source software                                                                                                                                                                                                                                                                                                                                                                                                                                                                                                                                          572\n",
       "Taken an online course in programming or software development (e.g. a MOOC);Completed an industry certification program (e.g. MCPD);Received on-the-job training in software development;Taught yourself a new language, framework, or tool without taking a formal course                                                                                                                                                                                                                                                                                                   534\n",
       "Received on-the-job training in software development;Taught yourself a new language, framework, or tool without taking a formal course;Participated in online coding competitions (e.g. HackerRank, CodeChef, TopCoder);Participated in a hackathon;Contributed to open source software                                                                                                                                                                                                                                                                                      506\n",
       "Received on-the-job training in software development;Taught yourself a new language, framework, or tool without taking a formal course;Participated in a hackathon                                                                                                                                                                                                                                                                                                                                                                                                           498\n",
       "Taken a part-time in-person course in programming or software development;Taught yourself a new language, framework, or tool without taking a formal course                                                                                                                                                                                                                                                                                                                                                                                                                  492\n",
       "Taken an online course in programming or software development (e.g. a MOOC);Received on-the-job training in software development;Taught yourself a new language, framework, or tool without taking a formal course;Participated in online coding competitions (e.g. HackerRank, CodeChef, TopCoder);Participated in a hackathon                                                                                                                                                                                                                                              484\n",
       "Taken an online course in programming or software development (e.g. a MOOC);Taken a part-time in-person course in programming or software development;Taught yourself a new language, framework, or tool without taking a formal course;Contributed to open source software                                                                                                                                                                                                                                                                                                  472\n",
       "Taken an online course in programming or software development (e.g. a MOOC);Taken a part-time in-person course in programming or software development;Received on-the-job training in software development;Taught yourself a new language, framework, or tool without taking a formal course;Contributed to open source software                                                                                                                                                                                                                                             472\n",
       "Taken an online course in programming or software development (e.g. a MOOC);Completed an industry certification program (e.g. MCPD);Taught yourself a new language, framework, or tool without taking a formal course;Contributed to open source software                                                                                                                                                                                                                                                                                                                    463\n",
       "Taken a part-time in-person course in programming or software development                                                                                                                                                                                                                                                                                                                                                                                                                                                                                                    448\n",
       "Taken an online course in programming or software development (e.g. a MOOC);Received on-the-job training in software development                                                                                                                                                                                                                                                                                                                                                                                                                                             431\n",
       "Taken an online course in programming or software development (e.g. a MOOC);Participated in a full-time developer training program or bootcamp                                                                                                                                                                                                                                                                                                                                                                                                                               424\n",
       "Completed an industry certification program (e.g. MCPD);Taught yourself a new language, framework, or tool without taking a formal course                                                                                                                                                                                                                                                                                                                                                                                                                                    419\n",
       "Taken a part-time in-person course in programming or software development;Received on-the-job training in software development;Taught yourself a new language, framework, or tool without taking a formal course                                                                                                                                                                                                                                                                                                                                                             408\n",
       "Received on-the-job training in software development;Taught yourself a new language, framework, or tool without taking a formal course;Participated in online coding competitions (e.g. HackerRank, CodeChef, TopCoder);Contributed to open source software                                                                                                                                                                                                                                                                                                                  407\n",
       "Taught yourself a new language, framework, or tool without taking a formal course;Participated in online coding competitions (e.g. HackerRank, CodeChef, TopCoder);Participated in a hackathon                                                                                                                                                                                                                                                                                                                                                                               399\n",
       "Taken an online course in programming or software development (e.g. a MOOC);Participated in a full-time developer training program or bootcamp;Taken a part-time in-person course in programming or software development;Completed an industry certification program (e.g. MCPD);Received on-the-job training in software development;Taught yourself a new language, framework, or tool without taking a formal course;Participated in online coding competitions (e.g. HackerRank, CodeChef, TopCoder);Participated in a hackathon;Contributed to open source software     394\n",
       "Name: EduOther, dtype: int64"
      ]
     },
     "execution_count": 16,
     "metadata": {},
     "output_type": "execute_result"
    }
   ],
   "source": [
    "# EduOther for a try\n",
    "df2019.EduOther.value_counts()[:50]"
   ]
  },
  {
   "cell_type": "code",
   "execution_count": 19,
   "metadata": {
    "ExecuteTime": {
     "end_time": "2019-07-22T15:03:36.805269Z",
     "start_time": "2019-07-22T15:03:36.788009Z"
    }
   },
   "outputs": [],
   "source": [
    "## multi_list\n",
    "multi_option_list = ['Taught yourself a new language, framework, or tool without taking a formal course',\n",
    "                     'Taken an online course in programming or software development',\n",
    "                     'Contributed to open source software',\n",
    "                     'Received on-the-job training in software development',\n",
    "                     'Participated in online coding competitions',\n",
    "                     'Participated in a hackathon',\n",
    "                     'Taken a part-time in-person course in programming or software development'\n",
    "                    ]"
   ]
  },
  {
   "cell_type": "code",
   "execution_count": 20,
   "metadata": {
    "ExecuteTime": {
     "end_time": "2019-07-22T15:03:41.745882Z",
     "start_time": "2019-07-22T15:03:41.160868Z"
    }
   },
   "outputs": [
    {
     "name": "stdout",
     "output_type": "stream",
     "text": [
      "72002\n",
      "50633\n",
      "34566\n",
      "33135\n",
      "21485\n",
      "21935\n",
      "15794\n"
     ]
    }
   ],
   "source": [
    "## loop for a new data\n",
    "for i in multi_option_list:\n",
    "    count = df2019.EduOther.str.contains(i).sum()\n",
    "    print(count)\n",
    "\n",
    "### not a good data, can not seen more info, aslo has odd missing data\n",
    "### need combine category type to solve\n",
    "### later"
   ]
  },
  {
   "cell_type": "code",
   "execution_count": 24,
   "metadata": {
    "ExecuteTime": {
     "end_time": "2019-07-22T15:13:40.390158Z",
     "start_time": "2019-07-22T15:13:40.383850Z"
    }
   },
   "outputs": [],
   "source": [
    "## to dict\n",
    "eduother_dict = {'New Language without formal course':72002, 'Online course in programming':50633,\n",
    "                'Contributed to open source software':34566, 'On-the-job training':33135,\n",
    "                'Participated coding competitions':21485, 'Participated hackathon':21935,\n",
    "                'Taken a part-time in-person course':15794}"
   ]
  },
  {
   "cell_type": "code",
   "execution_count": 25,
   "metadata": {
    "ExecuteTime": {
     "end_time": "2019-07-22T15:13:41.244563Z",
     "start_time": "2019-07-22T15:13:41.233159Z"
    }
   },
   "outputs": [
    {
     "data": {
      "text/plain": [
       "{'New Language without formal course': 72002,\n",
       " 'Online course in programming': 50633,\n",
       " 'Contributed to open source software': 34566,\n",
       " 'On-the-job training': 33135,\n",
       " 'Participated coding competitions': 21485,\n",
       " 'Participated hackathon': 21935,\n",
       " 'Taken a part-time in-person course': 15794}"
      ]
     },
     "execution_count": 25,
     "metadata": {},
     "output_type": "execute_result"
    }
   ],
   "source": [
    "eduother_dict"
   ]
  },
  {
   "cell_type": "code",
   "execution_count": 30,
   "metadata": {
    "ExecuteTime": {
     "end_time": "2019-07-22T15:20:53.770572Z",
     "start_time": "2019-07-22T15:20:53.759607Z"
    }
   },
   "outputs": [
    {
     "data": {
      "text/plain": [
       "New Language without formal course     72002\n",
       "Online course in programming           50633\n",
       "Contributed to open source software    34566\n",
       "On-the-job training                    33135\n",
       "Participated coding competitions       21485\n",
       "Participated hackathon                 21935\n",
       "Taken a part-time in-person course     15794\n",
       "dtype: int64"
      ]
     },
     "execution_count": 30,
     "metadata": {},
     "output_type": "execute_result"
    }
   ],
   "source": [
    "df2019_eduother = pd.Series(eduother_dict)\n",
    "df2019_eduother"
   ]
  },
  {
   "cell_type": "code",
   "execution_count": 34,
   "metadata": {
    "ExecuteTime": {
     "end_time": "2019-07-22T15:21:49.562212Z",
     "start_time": "2019-07-22T15:21:49.345242Z"
    }
   },
   "outputs": [
    {
     "data": {
      "image/png": "[encoded data removed]",
      "text/plain": [
       "<Figure size 432x288 with 1 Axes>"
      ]
     },
     "metadata": {
      "needs_background": "light"
     },
     "output_type": "display_data"
    }
   ],
   "source": [
    "df2019_eduother.plot.bar();"
   ]
  },
  {
   "cell_type": "markdown",
   "metadata": {},
   "source": [
    "#### // bin for year data\n",
    "- experiment, may not use for analysis"
   ]
  },
  {
   "cell_type": "markdown",
   "metadata": {},
   "source": [
    "#### // deal missing data (later)\n",
    "- three ways\n",
    "    - delete\n",
    "    - fill (with simple rule, more fit for time seirel value)\n",
    "    - impute\n",
    "- try to use impute\n",
    "- save to new df, for compare\n",
    "- tools\n",
    "    - sklearn\n",
    "        - from sklearn.preprocessing import Imputer\n",
    "        - https://scikit-learn.org/stable/modules/impute.html\n",
    "    - impyute\n",
    "        - https://impyute.readthedocs.io/en/master/user_guide/getting_started.html\n",
    "        - need numpy, scipy, scikit-learn\n",
    "- res\n",
    "    - https://towardsdatascience.com/the-tale-of-missing-values-in-python-c96beb0e8a9d\n",
    "    - https://jakevdp.github.io/PythonDataScienceHandbook/03.04-missing-values.html\n",
    "    - https://machinelearningmastery.com/handle-missing-data-python/"
   ]
  },
  {
   "cell_type": "code",
   "execution_count": 39,
   "metadata": {
    "ExecuteTime": {
     "end_time": "2019-07-22T15:23:40.145374Z",
     "start_time": "2019-07-22T15:23:40.141607Z"
    }
   },
   "outputs": [],
   "source": [
    "# from sklearn Imputer\n",
    "# from sklearn.preprocessing import Imputer\n",
    "## Imputer only for num value, not category\n",
    "### maybe ml can be use to predict category data\n",
    "### if use for category data, can be set 'most_frequent''\n",
    "### https://stackoverflow.com/questions/42846345/sklearn-categorical-imputer\n",
    "### https://scikit-learn.org/stable/modules/impute.html\n",
    "### later "
   ]
  },
  {
   "cell_type": "markdown",
   "metadata": {},
   "source": [
    "## _**EDA**_\n",
    "- use pandas vis for quick EDA\n",
    "\n",
    "### / matrix ploting"
   ]
  },
  {
   "cell_type": "code",
   "execution_count": 40,
   "metadata": {
    "ExecuteTime": {
     "end_time": "2019-07-22T15:23:50.075712Z",
     "start_time": "2019-07-22T15:23:41.808740Z"
    }
   },
   "outputs": [
    {
     "data": {
      "image/png": "[encoded data removed]",
      "text/plain": [
       "<Figure size 432x288 with 9 Axes>"
      ]
     },
     "metadata": {
      "needs_background": "light"
     },
     "output_type": "display_data"
    }
   ],
   "source": [
    "pd.plotting.scatter_matrix(df2019);"
   ]
  },
  {
   "cell_type": "markdown",
   "metadata": {},
   "source": [
    "### / check outlier"
   ]
  },
  {
   "cell_type": "code",
   "execution_count": 41,
   "metadata": {
    "ExecuteTime": {
     "end_time": "2019-07-22T15:23:50.517098Z",
     "start_time": "2019-07-22T15:23:50.342164Z"
    }
   },
   "outputs": [
    {
     "data": {
      "text/plain": [
       "<matplotlib.axes._subplots.AxesSubplot at 0x1a160574e0>"
      ]
     },
     "execution_count": 41,
     "metadata": {},
     "output_type": "execute_result"
    },
    {
     "data": {
      "image/png": "[encoded data removed]",
      "text/plain": [
       "<Figure size 432x288 with 1 Axes>"
      ]
     },
     "metadata": {
      "needs_background": "light"
     },
     "output_type": "display_data"
    }
   ],
   "source": [
    "df2019.Age.plot.box()"
   ]
  },
  {
   "cell_type": "code",
   "execution_count": 42,
   "metadata": {
    "ExecuteTime": {
     "end_time": "2019-07-22T15:23:51.059124Z",
     "start_time": "2019-07-22T15:23:50.755484Z"
    }
   },
   "outputs": [
    {
     "data": {
      "text/plain": [
       "<matplotlib.axes._subplots.AxesSubplot at 0x1a19ee6080>"
      ]
     },
     "execution_count": 42,
     "metadata": {},
     "output_type": "execute_result"
    },
    {
     "data": {
      "image/png": "[encoded data removed]",
      "text/plain": [
       "<Figure size 432x288 with 1 Axes>"
      ]
     },
     "metadata": {
      "needs_background": "light"
     },
     "output_type": "display_data"
    }
   ],
   "source": [
    "df2019.query('8 < Age < 80').Age.plot.box()"
   ]
  },
  {
   "cell_type": "code",
   "execution_count": 43,
   "metadata": {
    "ExecuteTime": {
     "end_time": "2019-07-22T15:23:51.427157Z",
     "start_time": "2019-07-22T15:23:51.260622Z"
    }
   },
   "outputs": [
    {
     "data": {
      "image/png": "[encoded data removed]",
      "text/plain": [
       "<Figure size 432x288 with 1 Axes>"
      ]
     },
     "metadata": {
      "needs_background": "light"
     },
     "output_type": "display_data"
    }
   ],
   "source": [
    "df2019.ConvertedComp.plot.box();"
   ]
  },
  {
   "cell_type": "code",
   "execution_count": 44,
   "metadata": {
    "ExecuteTime": {
     "end_time": "2019-07-22T15:23:51.873216Z",
     "start_time": "2019-07-22T15:23:51.620917Z"
    }
   },
   "outputs": [
    {
     "data": {
      "image/png": "[encoded data removed]",
      "text/plain": [
       "<Figure size 432x288 with 1 Axes>"
      ]
     },
     "metadata": {
      "needs_background": "light"
     },
     "output_type": "display_data"
    }
   ],
   "source": [
    "df2019.query('ConvertedComp < 1000000').ConvertedComp.plot.box();"
   ]
  },
  {
   "cell_type": "code",
   "execution_count": 45,
   "metadata": {
    "ExecuteTime": {
     "end_time": "2019-07-22T15:23:52.352655Z",
     "start_time": "2019-07-22T15:23:52.142203Z"
    }
   },
   "outputs": [
    {
     "data": {
      "image/png": "[encoded data removed]",
      "text/plain": [
       "<Figure size 432x288 with 1 Axes>"
      ]
     },
     "metadata": {
      "needs_background": "light"
     },
     "output_type": "display_data"
    }
   ],
   "source": [
    "df2019.WorkWeekHrs.plot.box();"
   ]
  },
  {
   "cell_type": "code",
   "execution_count": 46,
   "metadata": {
    "ExecuteTime": {
     "end_time": "2019-07-22T15:23:54.197249Z",
     "start_time": "2019-07-22T15:23:53.973054Z"
    }
   },
   "outputs": [
    {
     "data": {
      "image/png": "[encoded data removed]",
      "text/plain": [
       "<Figure size 432x288 with 1 Axes>"
      ]
     },
     "metadata": {
      "needs_background": "light"
     },
     "output_type": "display_data"
    }
   ],
   "source": [
    "df2019.query('10 < WorkWeekHrs < 126').WorkWeekHrs.plot.box();"
   ]
  },
  {
   "cell_type": "code",
   "execution_count": 47,
   "metadata": {
    "ExecuteTime": {
     "end_time": "2019-07-22T15:23:55.432612Z",
     "start_time": "2019-07-22T15:23:55.388423Z"
    }
   },
   "outputs": [
    {
     "name": "stdout",
     "output_type": "stream",
     "text": [
      "(88883, 35)\n"
     ]
    },
    {
     "data": {
      "text/plain": [
       "(49531, 35)"
      ]
     },
     "execution_count": 47,
     "metadata": {},
     "output_type": "execute_result"
    }
   ],
   "source": [
    "print(df2019.shape)\n",
    "df2019_cleanint = df2019.query('10 < WorkWeekHrs < 126 and ConvertedComp < 1000000 and 8 < Age < 80')\n",
    "df2019_cleanint.shape"
   ]
  },
  {
   "cell_type": "code",
   "execution_count": 48,
   "metadata": {
    "ExecuteTime": {
     "end_time": "2019-07-22T15:24:04.709941Z",
     "start_time": "2019-07-22T15:23:57.462941Z"
    }
   },
   "outputs": [
    {
     "data": {
      "image/png": "[encoded data removed]",
      "text/plain": [
       "<Figure size 432x288 with 9 Axes>"
      ]
     },
     "metadata": {
      "needs_background": "light"
     },
     "output_type": "display_data"
    }
   ],
   "source": [
    "pd.plotting.scatter_matrix(df2019_cleanint);"
   ]
  },
  {
   "cell_type": "code",
   "execution_count": 49,
   "metadata": {
    "ExecuteTime": {
     "end_time": "2019-07-22T15:24:05.967197Z",
     "start_time": "2019-07-22T15:24:05.085440Z"
    }
   },
   "outputs": [
    {
     "data": {
      "image/png": "[encoded data removed]",
      "text/plain": [
       "<Figure size 432x288 with 1 Axes>"
      ]
     },
     "metadata": {
      "needs_background": "light"
     },
     "output_type": "display_data"
    }
   ],
   "source": [
    "df2019_cleanint.plot.scatter(x='WorkWeekHrs',y='ConvertedComp',alpha=0.2);"
   ]
  },
  {
   "cell_type": "code",
   "execution_count": 50,
   "metadata": {
    "ExecuteTime": {
     "end_time": "2019-07-22T15:24:07.459121Z",
     "start_time": "2019-07-22T15:24:06.334423Z"
    }
   },
   "outputs": [
    {
     "data": {
      "image/png": "[encoded data removed]",
      "text/plain": [
       "<Figure size 432x288 with 1 Axes>"
      ]
     },
     "metadata": {
      "needs_background": "light"
     },
     "output_type": "display_data"
    }
   ],
   "source": [
    "df2019_cleanint.plot.scatter(x='WorkWeekHrs',y='Age',alpha=0.2);"
   ]
  },
  {
   "cell_type": "code",
   "execution_count": 51,
   "metadata": {
    "ExecuteTime": {
     "end_time": "2019-07-22T15:24:10.389846Z",
     "start_time": "2019-07-22T15:24:10.136797Z"
    }
   },
   "outputs": [
    {
     "data": {
      "image/png": "[encoded data removed]",
      "text/plain": [
       "<Figure size 432x288 with 1 Axes>"
      ]
     },
     "metadata": {
      "needs_background": "light"
     },
     "output_type": "display_data"
    }
   ],
   "source": [
    "df2019_cleanint.Age.plot.hist(bins=20,alpha=0.5);"
   ]
  },
  {
   "cell_type": "code",
   "execution_count": 52,
   "metadata": {
    "ExecuteTime": {
     "end_time": "2019-07-22T15:24:11.249415Z",
     "start_time": "2019-07-22T15:24:10.876034Z"
    }
   },
   "outputs": [
    {
     "data": {
      "image/png": "[encoded data removed]",
      "text/plain": [
       "<Figure size 432x288 with 1 Axes>"
      ]
     },
     "metadata": {
      "needs_background": "light"
     },
     "output_type": "display_data"
    }
   ],
   "source": [
    "df2019_cleanint.query('ConvertedComp < 400000').ConvertedComp.plot.hist(bins=30,alpha=0.5);"
   ]
  },
  {
   "cell_type": "markdown",
   "metadata": {},
   "source": [
    "### / deal category data\n",
    "#### // LanguageWorkedWith\n",
    "define: translate str data into muilty category data\n",
    "- solution1 str.isin()\n",
    "    - original data is str and sep with ;\n",
    "    - use isin to check key words with in many selection\n",
    "    - seems to be so many for language\n",
    "- solution2 use str, split\n",
    "    - https://stackoverflow.com/questions/5828123/nested-list-and-count\n",
    "    - https://stackoverflow.com/questions/41371475/pandas-count-most-frequent-elements-in-nested-lists-inside-gropby-and-get-nlarge\n",
    "    - for int https://stackoverflow.com/questions/952914/how-to-make-a-flat-list-out-of-list-of-lists"
   ]
  },
  {
   "cell_type": "code",
   "execution_count": 54,
   "metadata": {
    "ExecuteTime": {
     "end_time": "2019-07-22T15:24:14.518773Z",
     "start_time": "2019-07-22T15:24:14.447735Z"
    }
   },
   "outputs": [
    {
     "data": {
      "text/plain": [
       "pandas.core.series.Series"
      ]
     },
     "execution_count": 54,
     "metadata": {},
     "output_type": "execute_result"
    }
   ],
   "source": [
    "# code\n",
    "## solution - str split, than flatten\n",
    "lang_series = df2019_cleanint.LanguageWorkedWith.str.split(pat=';')\n",
    "type(lang_series)"
   ]
  },
  {
   "cell_type": "code",
   "execution_count": 55,
   "metadata": {
    "ExecuteTime": {
     "end_time": "2019-07-22T15:24:16.069303Z",
     "start_time": "2019-07-22T15:24:16.058915Z"
    }
   },
   "outputs": [
    {
     "data": {
      "text/plain": [
       "2                                            [HTML/CSS]\n",
       "3                             [C, C++, C#, Python, SQL]\n",
       "5                                        [Java, R, SQL]\n",
       "8     [Bash/Shell/PowerShell, C#, HTML/CSS, JavaScri...\n",
       "12    [Bash/Shell/PowerShell, HTML/CSS, JavaScript, ...\n",
       "13                                                [C++]\n",
       "15    [Bash/Shell/PowerShell, C#, HTML/CSS, JavaScri...\n",
       "16    [Bash/Shell/PowerShell, HTML/CSS, JavaScript, ...\n",
       "21    [Bash/Shell/PowerShell, C++, HTML/CSS, JavaScr...\n",
       "22    [Bash/Shell/PowerShell, HTML/CSS, JavaScript, ...\n",
       "Name: LanguageWorkedWith, dtype: object"
      ]
     },
     "execution_count": 55,
     "metadata": {},
     "output_type": "execute_result"
    }
   ],
   "source": [
    "lang_series[:10]"
   ]
  },
  {
   "cell_type": "code",
   "execution_count": 56,
   "metadata": {
    "ExecuteTime": {
     "end_time": "2019-07-22T15:24:17.006343Z",
     "start_time": "2019-07-22T15:24:16.995625Z"
    }
   },
   "outputs": [
    {
     "data": {
      "text/plain": [
       "list"
      ]
     },
     "execution_count": 56,
     "metadata": {},
     "output_type": "execute_result"
    }
   ],
   "source": [
    "lang_list = lang_series.tolist()\n",
    "type(lang_list)"
   ]
  },
  {
   "cell_type": "code",
   "execution_count": 57,
   "metadata": {
    "ExecuteTime": {
     "end_time": "2019-07-22T15:24:17.657475Z",
     "start_time": "2019-07-22T15:24:17.647948Z"
    }
   },
   "outputs": [
    {
     "data": {
      "text/plain": [
       "range(0, 49531)"
      ]
     },
     "execution_count": 57,
     "metadata": {},
     "output_type": "execute_result"
    }
   ],
   "source": [
    "range(len(lang_list))"
   ]
  },
  {
   "cell_type": "code",
   "execution_count": 58,
   "metadata": {
    "ExecuteTime": {
     "end_time": "2019-07-22T15:24:18.309276Z",
     "start_time": "2019-07-22T15:24:18.288475Z"
    }
   },
   "outputs": [
    {
     "data": {
      "text/plain": [
       "[['HTML/CSS'], ['C', 'C++', 'C#', 'Python', 'SQL'], ['Java', 'R', 'SQL']]"
      ]
     },
     "execution_count": 58,
     "metadata": {},
     "output_type": "execute_result"
    }
   ],
   "source": [
    "lang_list[:3]"
   ]
  },
  {
   "cell_type": "code",
   "execution_count": 59,
   "metadata": {
    "ExecuteTime": {
     "end_time": "2019-07-22T15:24:19.080234Z",
     "start_time": "2019-07-22T15:24:19.075547Z"
    }
   },
   "outputs": [],
   "source": [
    "# solution for nested list (lang_list)\n",
    "## use itertools\n",
    "## base - https://www.liaoxuefeng.com/wiki/897692888725344/983420006222912\n",
    "### 1. itertools will create a iterable\n",
    "### 2. \n",
    "## eg -  https://bytes.com/topic/python/answers/36420-counter-items-lists-lists"
   ]
  },
  {
   "cell_type": "code",
   "execution_count": 60,
   "metadata": {
    "ExecuteTime": {
     "end_time": "2019-07-22T15:24:20.044421Z",
     "start_time": "2019-07-22T15:24:20.031956Z"
    }
   },
   "outputs": [
    {
     "data": {
      "text/plain": [
       "{'a/c': 1, 'b': 2, 'c': 1, 'a': 2, 'f': 1, 'g': 1, 'h': 1, 'x': 1, 'y': 1}"
      ]
     },
     "execution_count": 60,
     "metadata": {},
     "output_type": "execute_result"
    }
   ],
   "source": [
    "## example\n",
    "import itertools\n",
    "myList=[['a/c','b','c'],['a','f','g','h'],['a','b','x','y']]\n",
    "counts = {}\n",
    "for item in itertools.chain(*myList):\n",
    "    counts[item] = counts.get(item, 0) + 1\n",
    "    \n",
    "counts"
   ]
  },
  {
   "cell_type": "code",
   "execution_count": 61,
   "metadata": {
    "ExecuteTime": {
     "end_time": "2019-07-22T15:24:21.147825Z",
     "start_time": "2019-07-22T15:24:21.124057Z"
    }
   },
   "outputs": [
    {
     "ename": "TypeError",
     "evalue": "'float' object is not iterable",
     "output_type": "error",
     "traceback": [
      "\u001b[0;31m--------------------------------------------------\u001b[0m",
      "\u001b[0;31mTypeError\u001b[0m        Traceback (most recent call last)",
      "\u001b[0;32m<ipython-input-61-563d96262942>\u001b[0m in \u001b[0;36m<module>\u001b[0;34m\u001b[0m\n\u001b[1;32m      1\u001b[0m \u001b[0;31m## test\u001b[0m\u001b[0;34m\u001b[0m\u001b[0;34m\u001b[0m\u001b[0;34m\u001b[0m\u001b[0m\n\u001b[1;32m      2\u001b[0m \u001b[0mcounts\u001b[0m \u001b[0;34m=\u001b[0m \u001b[0;34m{\u001b[0m\u001b[0;34m}\u001b[0m\u001b[0;34m\u001b[0m\u001b[0;34m\u001b[0m\u001b[0m\n\u001b[0;32m----> 3\u001b[0;31m \u001b[0;32mfor\u001b[0m \u001b[0mitem\u001b[0m \u001b[0;32min\u001b[0m \u001b[0mitertools\u001b[0m\u001b[0;34m.\u001b[0m\u001b[0mchain\u001b[0m\u001b[0;34m(\u001b[0m\u001b[0;34m*\u001b[0m\u001b[0mlang_list\u001b[0m\u001b[0;34m)\u001b[0m\u001b[0;34m:\u001b[0m\u001b[0;34m\u001b[0m\u001b[0;34m\u001b[0m\u001b[0m\n\u001b[0m\u001b[1;32m      4\u001b[0m     \u001b[0mcounts\u001b[0m\u001b[0;34m[\u001b[0m\u001b[0mitem\u001b[0m\u001b[0;34m]\u001b[0m \u001b[0;34m=\u001b[0m \u001b[0mcounts\u001b[0m\u001b[0;34m.\u001b[0m\u001b[0mget\u001b[0m\u001b[0;34m(\u001b[0m\u001b[0mitem\u001b[0m\u001b[0;34m,\u001b[0m \u001b[0;36m0\u001b[0m\u001b[0;34m)\u001b[0m \u001b[0;34m+\u001b[0m \u001b[0;36m1\u001b[0m\u001b[0;34m\u001b[0m\u001b[0;34m\u001b[0m\u001b[0m\n\u001b[1;32m      5\u001b[0m \u001b[0;34m\u001b[0m\u001b[0m\n",
      "\u001b[0;31mTypeError\u001b[0m: 'float' object is not iterable"
     ]
    }
   ],
   "source": [
    "## test\n",
    "counts = {}\n",
    "for item in itertools.chain(*lang_list):\n",
    "    counts[item] = counts.get(item, 0) + 1\n",
    "    \n",
    "counts"
   ]
  },
  {
   "cell_type": "markdown",
   "metadata": {},
   "source": [
    "** review for multi selection list **\n",
    "upon gets a errror for 'float' object is note iterable\n",
    "but for test data, is ok\n",
    "resolve later\n",
    " - res1 stackoverflow survey analysis\n",
    " - res2 https://stackoverflow.com/questions/952914/how-to-make-a-flat-list-out-of-list-of-lists\n",
    " - res3 https://python-forum.io/Thread-help-with-flatten-nested-list\n",
    " - res4 https://www.stechies.com/flatten-convert-nested-lists-into-list-python/\n",
    " - res5 https://stackoverflow.com/questions/5828123/nested-list-and-count\n",
    " - res6 https://stackoverflow.com/questions/41371475/pandas-count-most-frequent-elements-in-nested-lists-inside-gropby-and-get-nlarge\n",
    " \n",
    " try out intertools later"
   ]
  },
  {
   "cell_type": "code",
   "execution_count": 74,
   "metadata": {
    "ExecuteTime": {
     "end_time": "2019-07-22T15:32:36.477747Z",
     "start_time": "2019-07-22T15:32:36.473766Z"
    },
    "hide_input": true
   },
   "outputs": [],
   "source": [
    "'''\n",
    "import itertools, collections\n",
    "\n",
    "data = [[1,2,3],[1,1,1]]\n",
    "counter = collections.Counter(itertools.chain(*lang_series))\n",
    "print(counter['C'])\n",
    "\n",
    "\n",
    "\n",
    "sum(x.count(1) for x in lang_series)\n",
    "\n",
    "\n",
    "\n",
    "# flatten1\n",
    "def big2(s):\n",
    "    l = [i for l in s.values.tolist() for i in l]\n",
    "    u, c = np.unique(l, return_counts=True)\n",
    "    a = np.argsort(c)[-2:]\n",
    "    return pd.Series(c[a], u[a])\n",
    "    \n",
    "    \n",
    "    \n",
    "lang_series.resample('D').apply(big2)\n",
    "''';"
   ]
  },
  {
   "cell_type": "markdown",
   "metadata": {},
   "source": [
    "## _**Conclution**_\n",
    "- use seaborn for report pics (later will be extract to delitice repo)\n",
    "    - https://www.kdnuggets.com/2019/04/data-visualization-python-matplotlib-seaborn.html\n",
    "    - https://www.datacamp.com/community/tutorials/seaborn-python-tutorial\n",
    "    - https://elitedatascience.com/python-seaborn-tutorial\n",
    "- later will add plot.ly for interact visulization\n",
    "- great analysi exampe\n",
    "    - https://insights.stackoverflow.com/survey/2019?utm_source=so-owned&utm_medium=blog&utm_campaign=dev-survey-2019&utm_content=launch-blog#developer-profile-developer-roles-united-states-unweighted3\n",
    "    - there is also a analysis for 2017 from web, got file from github\n",
    "\n",
    "### / finding1 - Does work more time influence income?"
   ]
  },
  {
   "cell_type": "code",
   "execution_count": 75,
   "metadata": {
    "ExecuteTime": {
     "end_time": "2019-07-22T15:54:15.026586Z",
     "start_time": "2019-07-22T15:54:14.141564Z"
    }
   },
   "outputs": [
    {
     "data": {
      "image/png": "[encoded data removed]",
      "text/plain": [
       "<Figure size 432x288 with 1 Axes>"
      ]
     },
     "metadata": {
      "needs_background": "light"
     },
     "output_type": "display_data"
    }
   ],
   "source": [
    "df2019_cleanint.plot.scatter(x='WorkWeekHrs',y='ConvertedComp',alpha=0.2);"
   ]
  },
  {
   "cell_type": "markdown",
   "metadata": {},
   "source": [
    "### / finding2 - Are there many elder soft engineers?\n"
   ]
  },
  {
   "cell_type": "code",
   "execution_count": 76,
   "metadata": {
    "ExecuteTime": {
     "end_time": "2019-07-22T15:54:37.554231Z",
     "start_time": "2019-07-22T15:54:37.316792Z"
    }
   },
   "outputs": [
    {
     "data": {
      "image/png": "[encoded data removed]",
      "text/plain": [
       "<Figure size 432x288 with 1 Axes>"
      ]
     },
     "metadata": {
      "needs_background": "light"
     },
     "output_type": "display_data"
    }
   ],
   "source": [
    "df2019_cleanint.Age.plot.hist(bins=20,alpha=0.5);"
   ]
  },
  {
   "cell_type": "markdown",
   "metadata": {},
   "source": [
    "### / finding3 - How do you think of online education?"
   ]
  },
  {
   "cell_type": "code",
   "execution_count": 77,
   "metadata": {
    "ExecuteTime": {
     "end_time": "2019-07-22T15:54:59.602503Z",
     "start_time": "2019-07-22T15:54:59.360637Z"
    }
   },
   "outputs": [
    {
     "data": {
      "image/png": "[encoded data removed]",
      "text/plain": [
       "<Figure size 432x288 with 1 Axes>"
      ]
     },
     "metadata": {
      "needs_background": "light"
     },
     "output_type": "display_data"
    }
   ],
   "source": [
    "df2019_eduother.plot.bar();"
   ]
  },
  {
   "cell_type": "code",
   "execution_count": null,
   "metadata": {},
   "outputs": [],
   "source": []
  }
 ],
 "metadata": {
  "hide_input": false,
  "kernelspec": {
   "display_name": "Python 3",
   "language": "python",
   "name": "python3"
  },
  "language_info": {
   "codemirror_mode": {
    "name": "ipython",
    "version": 3
   },
   "file_extension": ".py",
   "mimetype": "text/x-python",
   "name": "python",
   "nbconvert_exporter": "python",
   "pygments_lexer": "ipython3",
   "version": "3.6.7"
  },
  "toc": {
   "base_numbering": 1,
   "nav_menu": {},
   "number_sections": true,
   "sideBar": true,
   "skip_h1_title": true,
   "title_cell": "Table of Contents",
   "title_sidebar": "Contents",
   "toc_cell": false,
   "toc_position": {
    "height": "calc(100% - 180px)",
    "left": "10px",
    "top": "150px",
    "width": "165px"
   },
   "toc_section_display": true,
   "toc_window_display": true
  },
  "varInspector": {
   "cols": {
    "lenName": 16,
    "lenType": 16,
    "lenVar": 40
   },
   "kernels_config": {
    "python": {
     "delete_cmd_postfix": "",
     "delete_cmd_prefix": "del ",
     "library": "var_list.py",
     "varRefreshCmd": "print(var_dic_list())"
    },
    "r": {
     "delete_cmd_postfix": ") ",
     "delete_cmd_prefix": "rm(",
     "library": "var_list.r",
     "varRefreshCmd": "cat(var_dic_list()) "
    }
   },
   "types_to_exclude": [
    "module",
    "function",
    "builtin_function_or_method",
    "instance",
    "_Feature"
   ],
   "window_display": false
  }
 },
 "nbformat": 4,
 "nbformat_minor": 2
}
